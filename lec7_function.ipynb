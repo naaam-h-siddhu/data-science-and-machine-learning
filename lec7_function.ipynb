{
  "cells": [
    {
      "cell_type": "markdown",
      "metadata": {
        "colab_type": "text",
        "id": "view-in-github"
      },
      "source": [
        "<a href=\"https://colab.research.google.com/github/naaam-h-siddhu/data-science-and-machine-learning/blob/master/lec7_function.ipynb\" target=\"_parent\"><img src=\"https://colab.research.google.com/assets/colab-badge.svg\" alt=\"Open In Colab\"/></a>"
      ]
    },
    {
      "cell_type": "code",
      "execution_count": null,
      "metadata": {
        "colab": {
          "base_uri": "https://localhost:8080/"
        },
        "id": "g_VInEtP-Md3",
        "outputId": "a98b5f5b-d0fa-40ab-a6a0-444f6376d0e1"
      },
      "outputs": [
        {
          "ename": "",
          "evalue": "",
          "output_type": "error",
          "traceback": [
            "\u001b[1;31mFailed to start the Kernel. \n",
            "\u001b[1;31mKernel Python 3.11.0 is not usable. Check the Jupyter output tab for more information. \n",
            "\u001b[1;31mView Jupyter <a href='command:jupyter.viewOutput'>log</a> for further details."
          ]
        }
      ],
      "source": [
        "#@title NcR\n",
        "n = int(input())\n",
        "r = int(input())\n",
        "#find n!\n",
        "n_fact = 1\n",
        "for i in range(1,n+1):\n",
        "  n_fact*=i\n",
        "r_fact = 1\n",
        "for i in range(1,r+1):\n",
        "  r_fact *= i\n",
        "n_r_fact=1\n",
        "for i in range(1,(n-r)+1):\n",
        "  n_r_fact *= i\n",
        "ans = n_fact//(r_fact*n_r_fact)\n",
        "ans"
      ]
    },
    {
      "cell_type": "code",
      "execution_count": null,
      "metadata": {
        "colab": {
          "base_uri": "https://localhost:8080/"
        },
        "id": "iwhNoHWK_QqP",
        "outputId": "14c18bd4-50b4-4eb8-8090-cd32d469fbf8"
      },
      "outputs": [
        {
          "data": {
            "text/plain": [
              "120"
            ]
          },
          "execution_count": 5,
          "metadata": {},
          "output_type": "execute_result"
        }
      ],
      "source": [
        "#@title factorial function\n",
        "#lets define a function\n",
        "def fact(n):\n",
        "  if n == 0 or n == 1:\n",
        "    return n\n",
        "  return n*fact(n-1)\n",
        "an = fact(5)\n",
        "an"
      ]
    },
    {
      "cell_type": "code",
      "execution_count": null,
      "metadata": {
        "colab": {
          "base_uri": "https://localhost:8080/"
        },
        "id": "OIfhRPkPAFjX",
        "outputId": "1419f93e-5faf-4ce8-82e4-75c7690d7f0e"
      },
      "outputs": [
        {
          "name": "stdout",
          "output_type": "stream",
          "text": [
            "4\n",
            "2\n"
          ]
        },
        {
          "data": {
            "text/plain": [
              "6"
            ]
          },
          "execution_count": 7,
          "metadata": {},
          "output_type": "execute_result"
        }
      ],
      "source": [
        "#@title NcR usign funciton\n",
        "n = int(input())\n",
        "r = int(input())\n",
        "sum = fact(n)//(fact(r)*fact(n-r))\n",
        "sum"
      ]
    },
    {
      "cell_type": "code",
      "execution_count": null,
      "metadata": {
        "colab": {
          "base_uri": "https://localhost:8080/"
        },
        "id": "XfALMr6sC0X1",
        "outputId": "04224a26-3d35-4b82-d5a5-6b63f12fb636"
      },
      "outputs": [
        {
          "name": "stdout",
          "output_type": "stream",
          "text": [
            "10\n"
          ]
        }
      ],
      "source": [
        "def increament(n):\n",
        "  n = n+1\n",
        "k = 10\n",
        "increament(k)\n",
        "print(k)"
      ]
    },
    {
      "cell_type": "code",
      "execution_count": null,
      "metadata": {
        "colab": {
          "base_uri": "https://localhost:8080/"
        },
        "id": "ysIvd2N4Qib9",
        "outputId": "e4bc3bce-d64c-4af1-8910-648f6c2360c6"
      },
      "outputs": [
        {
          "name": "stdout",
          "output_type": "stream",
          "text": [
            "[11, 2, 3]\n"
          ]
        }
      ],
      "source": [
        "def increament_list_first(l):\n",
        "  l[0]=l[0]+10\n",
        "a = [1,2,3]\n",
        "increament_list_first(a)\n",
        "print(a)"
      ]
    },
    {
      "cell_type": "code",
      "execution_count": null,
      "metadata": {
        "colab": {
          "base_uri": "https://localhost:8080/"
        },
        "id": "hwdm1YBHQxNy",
        "outputId": "673774b1-f34d-4fc2-93cb-e38ee18490c7"
      },
      "outputs": [
        {
          "name": "stdout",
          "output_type": "stream",
          "text": [
            "[11, 2, 3]\n"
          ]
        }
      ],
      "source": [
        "def change_list(l):\n",
        "  l= [1,2,3]\n",
        "a = [12,134,131]\n",
        "change_list(a)\n",
        "print(a)\n",
        "#we cannot change who list we can only change the values in the list"
      ]
    },
    {
      "cell_type": "code",
      "execution_count": null,
      "metadata": {
        "colab": {
          "base_uri": "https://localhost:8080/"
        },
        "id": "meQJPSQiRFWl",
        "outputId": "4b02c60c-4a18-49c2-ff45-00b3a4d1ee54"
      },
      "outputs": [
        {
          "name": "stdout",
          "output_type": "stream",
          "text": [
            "aaa\n"
          ]
        }
      ],
      "source": [
        "def change_str(s):\n",
        "  s = \"sss\"\n",
        "a = \"aaa\"\n",
        "change_str(a)\n",
        "print(a)\n",
        "# a string cannot be changed"
      ]
    },
    {
      "cell_type": "code",
      "execution_count": null,
      "metadata": {
        "id": "ecizuBKSViQ9"
      },
      "outputs": [],
      "source": [
        "#@title swap consecutive\n",
        "def swap_cons(l):\n",
        "  i = 0\n",
        "  while i+1<len(l):\n",
        "    l[i],l[i+1]=l[i+1],l[i]\n",
        "    i += 2\n"
      ]
    },
    {
      "cell_type": "code",
      "execution_count": null,
      "metadata": {
        "colab": {
          "base_uri": "https://localhost:8080/"
        },
        "id": "nFvx1IUQWLrZ",
        "outputId": "4cf9b0aa-7c42-4f3f-b0cd-f1e70e505ddd"
      },
      "outputs": [
        {
          "data": {
            "text/plain": [
              "[2, 1, 4, 3, 6, 5, 8, 7]"
            ]
          },
          "execution_count": 29,
          "metadata": {},
          "output_type": "execute_result"
        }
      ],
      "source": [
        "b = [1,2,3,4,5,6,7,8]\n",
        "swap_cons(b)\n",
        "a"
      ]
    },
    {
      "cell_type": "code",
      "execution_count": null,
      "metadata": {
        "colab": {
          "base_uri": "https://localhost:8080/",
          "height": 169
        },
        "id": "3w0NvmJDWq11",
        "outputId": "1ea877e5-2362-4a91-a582-3bb4ff95d402"
      },
      "outputs": [
        {
          "ename": "NameError",
          "evalue": "ignored",
          "output_type": "error",
          "traceback": [
            "\u001b[0;31m---------------------------------------------------------------------------\u001b[0m",
            "\u001b[0;31mNameError\u001b[0m                                 Traceback (most recent call last)",
            "\u001b[0;32m<ipython-input-38-6fcf9dfbd479>\u001b[0m in \u001b[0;36m<module>\u001b[0;34m\u001b[0m\n\u001b[0;32m----> 1\u001b[0;31m \u001b[0mx\u001b[0m\u001b[0;34m\u001b[0m\u001b[0;34m\u001b[0m\u001b[0m\n\u001b[0m",
            "\u001b[0;31mNameError\u001b[0m: name 'x' is not defined"
          ]
        }
      ],
      "source": [
        "x = 14\n",
        "def f():\n",
        "    x=12\n",
        "f()\n",
        "x"
      ]
    }
  ],
  "metadata": {
    "colab": {
      "authorship_tag": "ABX9TyNthMtklHEwvMnHnM8KwfyL",
      "include_colab_link": true,
      "provenance": []
    },
    "kernelspec": {
      "display_name": "Python 3",
      "language": "python",
      "name": "python3"
    },
    "language_info": {
      "name": "python",
      "version": "3.11.0"
    },
    "vscode": {
      "interpreter": {
        "hash": "aee8b7b246df8f9039afb4144a1f6fd8d2ca17a180786b69acc140d282b71a49"
      }
    }
  },
  "nbformat": 4,
  "nbformat_minor": 0
}
