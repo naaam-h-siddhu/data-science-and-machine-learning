{
 "cells": [
  {
   "cell_type": "code",
   "execution_count": 1,
   "id": "eb83f871",
   "metadata": {},
   "outputs": [
    {
     "name": "stdout",
     "output_type": "stream",
     "text": [
      "[1 2 3 4]\n"
     ]
    }
   ],
   "source": [
    "import numpy as np\n",
    "a = [1,2,3,4]\n",
    "b = np.array(a)\n",
    "print(b)"
   ]
  },
  {
   "cell_type": "code",
   "execution_count": 2,
   "id": "80f504d6",
   "metadata": {},
   "outputs": [
    {
     "name": "stdout",
     "output_type": "stream",
     "text": [
      "[1 2 3 5 5]\n"
     ]
    }
   ],
   "source": [
    "a = [1,2,3,'5',5.3]\n",
    "b = np.array(a, dtype = int)\n",
    "\n",
    "print(b)"
   ]
  },
  {
   "cell_type": "code",
   "execution_count": 3,
   "id": "58e36a30",
   "metadata": {},
   "outputs": [
    {
     "name": "stdout",
     "output_type": "stream",
     "text": [
      "[1 2 3 5 5 1 2 3 5 5 1 2 3 5 5]\n"
     ]
    }
   ],
   "source": [
    "a = [1,2,3,'5',5.3]\n",
    "b = np.array(a*3, dtype = int)\n",
    "print(b)"
   ]
  },
  {
   "cell_type": "code",
   "execution_count": 4,
   "id": "e52b59a8",
   "metadata": {},
   "outputs": [
    {
     "data": {
      "text/plain": [
       "array([1, 1, 1])"
      ]
     },
     "execution_count": 4,
     "metadata": {},
     "output_type": "execute_result"
    }
   ],
   "source": [
    "b = np.ones(3, dtype = int)\n",
    "b"
   ]
  },
  {
   "cell_type": "code",
   "execution_count": 5,
   "id": "fac46db4",
   "metadata": {},
   "outputs": [
    {
     "data": {
      "text/plain": [
       "array([0, 0, 0])"
      ]
     },
     "execution_count": 5,
     "metadata": {},
     "output_type": "execute_result"
    }
   ],
   "source": [
    "b = np.zeros(3, dtype = int)\n",
    "b"
   ]
  },
  {
   "cell_type": "code",
   "execution_count": 6,
   "id": "25ac690f",
   "metadata": {},
   "outputs": [
    {
     "data": {
      "text/plain": [
       "array([[0, 0, 0, 0],\n",
       "       [0, 0, 0, 0],\n",
       "       [0, 0, 0, 0]])"
      ]
     },
     "execution_count": 6,
     "metadata": {},
     "output_type": "execute_result"
    }
   ],
   "source": [
    "b = np.zeros((3, 4), dtype = int)\n",
    "b"
   ]
  },
  {
   "cell_type": "code",
   "execution_count": 7,
   "id": "aaba47c8",
   "metadata": {},
   "outputs": [
    {
     "data": {
      "text/plain": [
       "array([[5, 5, 5],\n",
       "       [5, 5, 5],\n",
       "       [5, 5, 5]])"
      ]
     },
     "execution_count": 7,
     "metadata": {},
     "output_type": "execute_result"
    }
   ],
   "source": [
    "b = np.full((3, 3), 5, dtype = int)\n",
    "b"
   ]
  },
  {
   "cell_type": "code",
   "execution_count": 8,
   "id": "591efa7a",
   "metadata": {},
   "outputs": [
    {
     "name": "stdout",
     "output_type": "stream",
     "text": [
      "[1 2 3 4]\n"
     ]
    }
   ],
   "source": [
    "b = np.empty(4, dtype = int)\n",
    "print(b)"
   ]
  },
  {
   "cell_type": "code",
   "execution_count": 9,
   "id": "1c225516",
   "metadata": {},
   "outputs": [
    {
     "ename": "ValueError",
     "evalue": "low >= high",
     "output_type": "error",
     "traceback": [
      "\u001b[0;31m---------------------------------------------------------------------------\u001b[0m",
      "\u001b[0;31mValueError\u001b[0m                                Traceback (most recent call last)",
      "\u001b[0;32m/var/folders/g0/4tjttlg17jn_d7b0wkct3ld00000gn/T/ipykernel_1476/2965177017.py\u001b[0m in \u001b[0;36m<module>\u001b[0;34m\u001b[0m\n\u001b[0;32m----> 1\u001b[0;31m \u001b[0mnp\u001b[0m\u001b[0;34m.\u001b[0m\u001b[0mrandom\u001b[0m\u001b[0;34m.\u001b[0m\u001b[0mrandint\u001b[0m\u001b[0;34m(\u001b[0m\u001b[0;36m10\u001b[0m\u001b[0;34m,\u001b[0m \u001b[0;36m4\u001b[0m\u001b[0;34m)\u001b[0m\u001b[0;34m\u001b[0m\u001b[0;34m\u001b[0m\u001b[0m\n\u001b[0m",
      "\u001b[0;32mmtrand.pyx\u001b[0m in \u001b[0;36mnumpy.random.mtrand.RandomState.randint\u001b[0;34m()\u001b[0m\n",
      "\u001b[0;32m_bounded_integers.pyx\u001b[0m in \u001b[0;36mnumpy.random._bounded_integers._rand_int64\u001b[0;34m()\u001b[0m\n",
      "\u001b[0;31mValueError\u001b[0m: low >= high"
     ]
    }
   ],
   "source": [
    "np.random.randint(10, 4)\n"
   ]
  },
  {
   "cell_type": "code",
   "execution_count": null,
   "id": "0ff762bf",
   "metadata": {},
   "outputs": [],
   "source": [
    "np.arange(10)\n"
   ]
  },
  {
   "cell_type": "code",
   "execution_count": null,
   "id": "8f4fce8e",
   "metadata": {},
   "outputs": [],
   "source": [
    "b = np.arange(2,10)\n",
    "b"
   ]
  },
  {
   "cell_type": "code",
   "execution_count": null,
   "id": "5f0c2075",
   "metadata": {},
   "outputs": [],
   "source": [
    "b = np.arange(2,10,2)\n",
    "b"
   ]
  },
  {
   "cell_type": "code",
   "execution_count": null,
   "id": "ab355f94",
   "metadata": {},
   "outputs": [],
   "source": [
    "b  = np.linspace(2, 10, 5, dtype = int, endpoint = False)\n",
    "b"
   ]
  },
  {
   "cell_type": "code",
   "execution_count": null,
   "id": "42fa7256",
   "metadata": {},
   "outputs": [],
   "source": [
    "b = np.identity(3)\n",
    "b"
   ]
  },
  {
   "cell_type": "code",
   "execution_count": null,
   "id": "c6630848",
   "metadata": {},
   "outputs": [],
   "source": [
    "b = np.eye(3,4)\n",
    "b"
   ]
  },
  {
   "cell_type": "code",
   "execution_count": null,
   "id": "d41e8614",
   "metadata": {},
   "outputs": [],
   "source": [
    "b = np.random.rand(1,2)\n",
    "b"
   ]
  },
  {
   "cell_type": "code",
   "execution_count": null,
   "id": "5c83a0d9",
   "metadata": {},
   "outputs": [],
   "source": [
    "b = np.random.randint(5,20,3)\n",
    "b"
   ]
  },
  {
   "cell_type": "code",
   "execution_count": null,
   "id": "aca6cf6f",
   "metadata": {},
   "outputs": [],
   "source": [
    "import numpy as np\n",
    "\n",
    "li = [1, 2, 3, 4, 5]\n",
    "arr = np.array(li)\n",
    "\n",
    "print(li)\n",
    "print(arr)"
   ]
  },
  {
   "cell_type": "code",
   "execution_count": null,
   "id": "a8b1a6bb",
   "metadata": {},
   "outputs": [],
   "source": [
    "print(arr.data)\n",
    "print(arr.shape)\n",
    "print(arr.dtype)\n",
    "print(arr.strides)"
   ]
  },
  {
   "cell_type": "code",
   "execution_count": null,
   "id": "0dca03e1",
   "metadata": {},
   "outputs": [],
   "source": [
    "print(li[3])\n",
    "print(arr[3])\n",
    "print(li[1:4])\n",
    "print(arr[1:4])"
   ]
  },
  {
   "cell_type": "code",
   "execution_count": null,
   "id": "9165812f",
   "metadata": {},
   "outputs": [],
   "source": [
    "li_2d = [[1, 2, 3, 4], [5, 6, 7, 8], [9, 10, 11, 12], [13, 14, 15, 16]]\n",
    "arr_2d = np.array(li_2d)\n",
    "\n",
    "print(li_2d)\n",
    "print(arr_2d)\n"
   ]
  },
  {
   "cell_type": "code",
   "execution_count": null,
   "id": "35474fb6",
   "metadata": {},
   "outputs": [],
   "source": [
    "print(arr_2d.data)\n",
    "print(arr_2d.shape)\n",
    "print(arr_2d.dtype)\n",
    "print(arr_2d.strides)\n"
   ]
  },
  {
   "cell_type": "code",
   "execution_count": null,
   "id": "483bbb40",
   "metadata": {},
   "outputs": [],
   "source": [
    "print(li_2d[2][1])\n",
    "print(arr_2d[2][1])\n",
    "print(arr_2d[2, 1])"
   ]
  },
  {
   "cell_type": "code",
   "execution_count": null,
   "id": "05a988f1",
   "metadata": {},
   "outputs": [],
   "source": [
    "print(li_2d[1][:3])\n",
    "print(arr_2d[1, :3])\n"
   ]
  },
  {
   "cell_type": "code",
   "execution_count": null,
   "id": "90de5ae3",
   "metadata": {},
   "outputs": [],
   "source": [
    "ex = li_2d[0:3]\n",
    "print(x)\n",
    "y = x[2]\n",
    "print(y)\n"
   ]
  },
  {
   "cell_type": "code",
   "execution_count": null,
   "id": "56605ecf",
   "metadata": {},
   "outputs": [],
   "source": [
    "print(li_2d[0:3][0])\n"
   ]
  },
  {
   "cell_type": "code",
   "execution_count": null,
   "id": "835098d5",
   "metadata": {},
   "outputs": [],
   "source": [
    "print(arr_2d[2:4, 1:3])\n",
    "print(li_2d[2:4][1:3])"
   ]
  },
  {
   "cell_type": "code",
   "execution_count": null,
   "id": "facb5297",
   "metadata": {},
   "outputs": [],
   "source": [
    "li = [1, 2, 3, 4, 5]\n",
    "a = np.random.randint(1, 20, 5)\n",
    "b = np.random.randint(1, 20, 5)\n",
    "\n",
    "print(li)\n",
    "print(a)\n",
    "print(b)"
   ]
  },
  {
   "cell_type": "code",
   "execution_count": null,
   "id": "f6723442",
   "metadata": {},
   "outputs": [],
   "source": [
    "li = [i+1 for i in li]\n",
    "li"
   ]
  },
  {
   "cell_type": "code",
   "execution_count": null,
   "id": "94996eb3",
   "metadata": {},
   "outputs": [],
   "source": [
    "a = a + 1\n",
    "a\n"
   ]
  },
  {
   "cell_type": "code",
   "execution_count": null,
   "id": "7632f5a0",
   "metadata": {},
   "outputs": [],
   "source": [
    "c = a + b\n",
    "c"
   ]
  },
  {
   "cell_type": "code",
   "execution_count": null,
   "id": "94c796d8",
   "metadata": {},
   "outputs": [],
   "source": [
    "d = a - b\n",
    "d\n"
   ]
  },
  {
   "cell_type": "code",
   "execution_count": null,
   "id": "42b07faa",
   "metadata": {},
   "outputs": [],
   "source": [
    "e = a * b\n",
    "e"
   ]
  },
  {
   "cell_type": "code",
   "execution_count": null,
   "id": "c48e8185",
   "metadata": {},
   "outputs": [],
   "source": [
    "e = a * b\n",
    "e"
   ]
  },
  {
   "cell_type": "code",
   "execution_count": null,
   "id": "5068375e",
   "metadata": {},
   "outputs": [],
   "source": [
    "g = a // b\n",
    "g"
   ]
  },
  {
   "cell_type": "code",
   "execution_count": null,
   "id": "f9619a19",
   "metadata": {},
   "outputs": [],
   "source": [
    "h = a ** b\n",
    "h"
   ]
  },
  {
   "cell_type": "code",
   "execution_count": null,
   "id": "99db1d6f",
   "metadata": {},
   "outputs": [],
   "source": [
    "print(a)\n",
    "print(a.sum())\n",
    "print(a.mean())\n",
    "print(a.min())\n",
    "print(a.argmin())\n",
    "print(a.max())\n",
    "print(a.argmax())"
   ]
  },
  {
   "cell_type": "code",
   "execution_count": null,
   "id": "91cb19ca",
   "metadata": {},
   "outputs": [],
   "source": [
    "a > b\n"
   ]
  },
  {
   "cell_type": "code",
   "execution_count": null,
   "id": "c6a6afcb",
   "metadata": {},
   "outputs": [],
   "source": [
    "a"
   ]
  },
  {
   "cell_type": "code",
   "execution_count": null,
   "id": "3da8239e",
   "metadata": {},
   "outputs": [],
   "source": [
    "print(np.logical_or(a, b))\n",
    "print(np.logical_and(a, b))\n"
   ]
  },
  {
   "cell_type": "code",
   "execution_count": null,
   "id": "ac249adb",
   "metadata": {},
   "outputs": [],
   "source": [
    "a[2] = 0\n",
    "print(a)\n",
    "print(np.logical_not(a))"
   ]
  },
  {
   "cell_type": "code",
   "execution_count": null,
   "id": "201ba653",
   "metadata": {},
   "outputs": [],
   "source": [
    "import numpy as np\n",
    "\n",
    "a = np.array(['t', 'b', 'r', 'd', 'e', 'f', 'z', 'a'])\n",
    "b = np.random.randint(1, 20, 8)\n",
    "\n",
    "print(a)\n",
    "print(b)"
   ]
  },
  {
   "cell_type": "code",
   "execution_count": null,
   "id": "e75d30b2",
   "metadata": {},
   "outputs": [],
   "source": [
    "print(b > 10)\n"
   ]
  },
  {
   "cell_type": "code",
   "execution_count": null,
   "id": "efb2a41d",
   "metadata": {},
   "outputs": [],
   "source": [
    "bool_arr = b > 10\n",
    "print(bool_arr)\n",
    "new_arr = b[bool_arr]\n",
    "print(new_arr)"
   ]
  },
  {
   "cell_type": "code",
   "execution_count": null,
   "id": "dc3db822",
   "metadata": {},
   "outputs": [],
   "source": [
    "new_arr = b[b > 10]\n",
    "new_arr"
   ]
  },
  {
   "cell_type": "code",
   "execution_count": null,
   "id": "a94ed997",
   "metadata": {},
   "outputs": [],
   "source": [
    "new_arr = b[(b > 10) & (b < 18)]\n",
    "new_arr\n"
   ]
  },
  {
   "cell_type": "code",
   "execution_count": null,
   "id": "5f649a7f",
   "metadata": {},
   "outputs": [],
   "source": [
    "print(b)\n",
    "c = b\n",
    "c"
   ]
  },
  {
   "cell_type": "code",
   "execution_count": null,
   "id": "a13c305b",
   "metadata": {},
   "outputs": [],
   "source": [
    "c[:3] = 19\n",
    "print(c)\n",
    "c[c > 15] = 100\n",
    "c"
   ]
  },
  {
   "cell_type": "code",
   "execution_count": null,
   "id": "e35e1564",
   "metadata": {},
   "outputs": [],
   "source": [
    "print(b)\n"
   ]
  },
  {
   "cell_type": "code",
   "execution_count": null,
   "id": "b295c5ab",
   "metadata": {},
   "outputs": [],
   "source": [
    "print(b[b == 100])"
   ]
  },
  {
   "cell_type": "code",
   "execution_count": null,
   "id": "b725d534",
   "metadata": {},
   "outputs": [],
   "source": [
    "ind = np.where(b == 100)\n",
    "ind"
   ]
  },
  {
   "cell_type": "code",
   "execution_count": null,
   "id": "e32e6db8",
   "metadata": {},
   "outputs": [],
   "source": [
    "ind = np.where(b == 100)\n",
    "print(ind)\n",
    "print(a[ind])"
   ]
  },
  {
   "cell_type": "code",
   "execution_count": 10,
   "id": "fcaf0b8b",
   "metadata": {},
   "outputs": [
    {
     "data": {
      "text/plain": [
       "(4,)"
      ]
     },
     "execution_count": 10,
     "metadata": {},
     "output_type": "execute_result"
    }
   ],
   "source": [
    "a = np.array([0, 1, 2, 3])\n",
    "a.shape"
   ]
  },
  {
   "cell_type": "code",
   "execution_count": 13,
   "id": "eb056a8f",
   "metadata": {},
   "outputs": [
    {
     "data": {
      "text/plain": [
       "array([[ 4, 16, 14, 20, 21, 17],\n",
       "       [ 8, 20, 14, 18, 14, 27],\n",
       "       [18, 10, 17, 27, 14, 15],\n",
       "       [14, 28,  3,  1, 17,  7],\n",
       "       [22, 23, 13,  5, 12, 25]])"
      ]
     },
     "execution_count": 13,
     "metadata": {},
     "output_type": "execute_result"
    }
   ],
   "source": [
    "a = np.random.randint(1,30,(5,6))\n",
    "a"
   ]
  },
  {
   "cell_type": "code",
   "execution_count": 14,
   "id": "7032ab9d",
   "metadata": {},
   "outputs": [
    {
     "data": {
      "text/plain": [
       "array([[False, False, False, False,  True, False],\n",
       "       [False, False, False, False, False,  True],\n",
       "       [False, False, False,  True, False, False],\n",
       "       [False,  True, False, False, False, False],\n",
       "       [ True,  True, False, False, False,  True]])"
      ]
     },
     "execution_count": 14,
     "metadata": {},
     "output_type": "execute_result"
    }
   ],
   "source": [
    "bool_arr = a>20\n",
    "bool_arr"
   ]
  },
  {
   "cell_type": "code",
   "execution_count": 15,
   "id": "eaff3074",
   "metadata": {},
   "outputs": [
    {
     "name": "stdout",
     "output_type": "stream",
     "text": [
      "[21 27 27 28 22 23 25]\n"
     ]
    }
   ],
   "source": [
    "b = a[bool_arr]\n",
    "print(b)"
   ]
  },
  {
   "cell_type": "code",
   "execution_count": 18,
   "id": "f57b4124",
   "metadata": {},
   "outputs": [
    {
     "data": {
      "text/plain": [
       "array([[ 4, 16, 14, 20, 21, 17],\n",
       "       [ 8, 20, 14, 18, 14, 27],\n",
       "       [18, 10, 17, 27, 14, 15],\n",
       "       [14, 28,  3,  1, 17,  7],\n",
       "       [22, 23, 13,  5, 12, 25]])"
      ]
     },
     "execution_count": 18,
     "metadata": {},
     "output_type": "execute_result"
    }
   ],
   "source": [
    "x = a\n",
    "x"
   ]
  },
  {
   "cell_type": "code",
   "execution_count": 20,
   "id": "77cdd83a",
   "metadata": {},
   "outputs": [
    {
     "name": "stdout",
     "output_type": "stream",
     "text": [
      "[[  4  16  14  20 100  17]\n",
      " [  8  20  14  18  14 100]\n",
      " [ 18  10  17 100  14  15]\n",
      " [ 14 100   3   1  17   7]\n",
      " [100 100  13   5  12 100]]\n"
     ]
    }
   ],
   "source": [
    "x[bool_arr] = 100\n",
    "print(x)"
   ]
  },
  {
   "cell_type": "code",
   "execution_count": 21,
   "id": "22aa303e",
   "metadata": {},
   "outputs": [
    {
     "data": {
      "text/plain": [
       "array([[2, 4],\n",
       "       [4, 3]])"
      ]
     },
     "execution_count": 21,
     "metadata": {},
     "output_type": "execute_result"
    }
   ],
   "source": [
    "b = np.random.randint(1,10,(2,2))\n",
    "b"
   ]
  },
  {
   "cell_type": "code",
   "execution_count": 30,
   "id": "16302d25",
   "metadata": {},
   "outputs": [
    {
     "name": "stdout",
     "output_type": "stream",
     "text": [
      "[[ True False]\n",
      " [False  True]\n",
      " [ True False]]\n"
     ]
    }
   ],
   "source": [
    "b_bool= np.array([[True,False],[False,True],[True, False]])\n",
    "print(b_bool)"
   ]
  },
  {
   "cell_type": "code",
   "execution_count": 77,
   "id": "b3b51853",
   "metadata": {},
   "outputs": [
    {
     "data": {
      "text/plain": [
       "array([[  4,  16,  14,  20, 100,  17],\n",
       "       [  8,  20,  14,  18,  14, 100],\n",
       "       [ 18,  10,  17, 100,  14,  15],\n",
       "       [ 14, 100,   3,   1,  17,   7],\n",
       "       [100, 100,  13,   5,  12, 100]])"
      ]
     },
     "execution_count": 77,
     "metadata": {},
     "output_type": "execute_result"
    }
   ],
   "source": [
    "x"
   ]
  },
  {
   "cell_type": "code",
   "execution_count": 78,
   "id": "96f6b290",
   "metadata": {},
   "outputs": [
    {
     "data": {
      "text/plain": [
       "array([False,  True, False, False,  True])"
      ]
     },
     "execution_count": 78,
     "metadata": {},
     "output_type": "execute_result"
    }
   ],
   "source": [
    "\n",
    "x_boolarr = x[:,5] == 100\n",
    "x_boolarr\n"
   ]
  },
  {
   "cell_type": "code",
   "execution_count": 80,
   "id": "38d1e3d5",
   "metadata": {},
   "outputs": [
    {
     "name": "stdout",
     "output_type": "stream",
     "text": [
      "[[     4     16     14     20    100     17]\n",
      " [     8     20     14     18     14 999999]\n",
      " [    18     10     17    100     14     15]\n",
      " [    14    100      3      1     17      7]\n",
      " [   100    100     13      5     12 999999]]\n"
     ]
    }
   ],
   "source": [
    "x[x_boolarr,5] =999999\n",
    "print(x)"
   ]
  },
  {
   "cell_type": "code",
   "execution_count": 21,
   "id": "21c44b7f",
   "metadata": {},
   "outputs": [
    {
     "name": "stdout",
     "output_type": "stream",
     "text": [
      "1167.0\n",
      "51372.0\n"
     ]
    }
   ],
   "source": [
    "import csv\n",
    "import numpy as np\n",
    "with open('resource/year2017.csv') as obj:\n",
    "    data = csv.DictReader(obj,skipinitialspace = True)\n",
    "    \n",
    "    killed = []\n",
    "    wounded = []\n",
    "    country = []\n",
    "#     print(data)\n",
    "    for i in data:\n",
    "        killed.append(i[\"Killed\"])\n",
    "        wounded.append(i['Wounded'])\n",
    "        country.append(i['Country'])\n",
    "    np_killed = np.array(killed)\n",
    "    np_wounded = np.array(wounded)\n",
    "    \n",
    "    np_killed[np_killed == ''] = '0.0'\n",
    "    np_wounded[np_wounded == ''] = '0.0'\n",
    "    \n",
    "    np_killed = np.array(np_killed,dtype = float)\n",
    "    np_wounded = np.array(np_wounded,dtype = float)\n",
    "    \n",
    "    kw = np_killed+np_wounded\n",
    "    np_country = np.array(country)\n",
    "    \n",
    "    bool_cnt = np_country == 'India'\n",
    "    ans = kw[bool_cnt]\n",
    "    \n",
    "    print(np.sum(ans))\n",
    "    print(np.sum(kw))"
   ]
  },
  {
   "cell_type": "code",
   "execution_count": null,
   "id": "11dd728c",
   "metadata": {},
   "outputs": [],
   "source": [
    "import numpy as np\n",
    "import csv\n",
    "\n",
    "with open('terrorismData.csv', encoding='utf8') as file_obj:\n",
    "    file_data=csv.DictReader(file_obj, skipinitialspace=True)\n",
    "    killed=[]\n",
    "    wounded=[]\n",
    "    city=[]\n",
    "    for row in file_data:\n",
    "        if 'India' in row['Country'] and 'Unknown' not in row['City']:\n",
    "            city.append(row['City'])\n",
    "            wounded.append(row['Wounded'])\n",
    "            killed.append(row['Killed'])\n",
    "    np_wounded=np.array(wounded)\n",
    "    np_killed=np.array(killed)\n",
    "    np_city=np.array(city)\n",
    "    \n",
    "    np_killed[np_killed=='']='0.0'\n",
    "    np_wounded[np_wounded=='']='0.0'\n",
    "    np_killed=np.array(np_killed, dtype='float')\n",
    "    np_wounded=np.array(np_wounded, dtype='float')\n",
    "    np_casuality=np.array(np_wounded+np_killed, dtype='int')\n",
    "    citydic={}\n",
    "    for i in range(len(np_city)):\n",
    "        if np_city[i] in citydic:\n",
    "            citydic[np_city[i]]+=np_casuality[i]\n",
    "        else:\n",
    "            citydic[np_city[i]]=np_casuality[i]\n",
    "    \n",
    "    count=0\n",
    "    city=''\n",
    "    for i in citydic:\n",
    "        if citydic[i]>count:\n",
    "            count=citydic[i]\n",
    "            city=i\n",
    "    print(city, count)\n",
    "    del citydic[city]\n",
    "    \n",
    "    count=0\n",
    "    city=''\n",
    "    for i in citydic:\n",
    "        if citydic[i]>count:\n",
    "            count=citydic[i]\n",
    "            city=i\n",
    "    print(city, count)\n",
    "    del citydic[city]\n",
    "    \n",
    "    count=0\n",
    "    city=''\n",
    "    for i in citydic:\n",
    "        if citydic[i]>count:\n",
    "            count=citydic[i]\n",
    "            city=i\n",
    "    print(city, count)\n",
    "    del citydic[city]\n",
    "    \n",
    "    count=0\n",
    "    city=''\n",
    "    for i in citydic:\n",
    "        if citydic[i]>count:\n",
    "            count=citydic[i]\n",
    "            city=i\n",
    "    print(city, count)\n",
    "    del citydic[city]\n",
    "    \n",
    "    count=0\n",
    "    city=''\n",
    "    for i in citydic:\n",
    "        if citydic[i]>count:\n",
    "            count=citydic[i]\n",
    "            city=i\n",
    "    print(city, count)\n",
    "    del citydic[city]"
   ]
  }
 ],
 "metadata": {
  "kernelspec": {
   "display_name": "Python 3 (ipykernel)",
   "language": "python",
   "name": "python3"
  },
  "language_info": {
   "codemirror_mode": {
    "name": "ipython",
    "version": 3
   },
   "file_extension": ".py",
   "mimetype": "text/x-python",
   "name": "python",
   "nbconvert_exporter": "python",
   "pygments_lexer": "ipython3",
   "version": "3.9.13"
  },
  "vscode": {
   "interpreter": {
    "hash": "aee8b7b246df8f9039afb4144a1f6fd8d2ca17a180786b69acc140d282b71a49"
   }
  }
 },
 "nbformat": 4,
 "nbformat_minor": 5
}
