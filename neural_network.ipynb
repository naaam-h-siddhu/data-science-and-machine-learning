{
 "cells": [
  {
   "cell_type": "code",
   "execution_count": 1,
   "id": "initial_id",
   "metadata": {
    "collapsed": true,
    "ExecuteTime": {
     "end_time": "2023-10-11T11:05:07.296815Z",
     "start_time": "2023-10-11T11:05:07.020520Z"
    }
   },
   "outputs": [],
   "source": [
    "from sklearn import datasets\n",
    "from sklearn.model_selection import train_test_split"
   ]
  },
  {
   "cell_type": "code",
   "execution_count": 2,
   "outputs": [],
   "source": [
    "iris = datasets.load_iris();\n",
    "x = iris.data\n",
    "y = iris.target"
   ],
   "metadata": {
    "collapsed": false,
    "ExecuteTime": {
     "end_time": "2023-10-11T11:05:33.422337Z",
     "start_time": "2023-10-11T11:05:33.404497Z"
    }
   },
   "id": "767237d0f6534512"
  },
  {
   "cell_type": "code",
   "execution_count": 3,
   "outputs": [],
   "source": [
    "x_train,x_test, y_train,y_test = train_test_split(x,y)"
   ],
   "metadata": {
    "collapsed": false,
    "ExecuteTime": {
     "end_time": "2023-10-11T11:06:07.287078Z",
     "start_time": "2023-10-11T11:06:07.266409Z"
    }
   },
   "id": "f2af43d07971c79b"
  },
  {
   "cell_type": "code",
   "execution_count": 4,
   "outputs": [],
   "source": [
    "from sklearn.neural_network import MLPClassifier"
   ],
   "metadata": {
    "collapsed": false,
    "ExecuteTime": {
     "end_time": "2023-10-11T11:06:22.487647Z",
     "start_time": "2023-10-11T11:06:22.471364Z"
    }
   },
   "id": "7814bfad300f3614"
  },
  {
   "cell_type": "code",
   "execution_count": 8,
   "outputs": [
    {
     "data": {
      "text/plain": "MLPClassifier(hidden_layer_sizes=(20,), max_iter=3000)",
      "text/html": "<style>#sk-container-id-2 {color: black;}#sk-container-id-2 pre{padding: 0;}#sk-container-id-2 div.sk-toggleable {background-color: white;}#sk-container-id-2 label.sk-toggleable__label {cursor: pointer;display: block;width: 100%;margin-bottom: 0;padding: 0.3em;box-sizing: border-box;text-align: center;}#sk-container-id-2 label.sk-toggleable__label-arrow:before {content: \"▸\";float: left;margin-right: 0.25em;color: #696969;}#sk-container-id-2 label.sk-toggleable__label-arrow:hover:before {color: black;}#sk-container-id-2 div.sk-estimator:hover label.sk-toggleable__label-arrow:before {color: black;}#sk-container-id-2 div.sk-toggleable__content {max-height: 0;max-width: 0;overflow: hidden;text-align: left;background-color: #f0f8ff;}#sk-container-id-2 div.sk-toggleable__content pre {margin: 0.2em;color: black;border-radius: 0.25em;background-color: #f0f8ff;}#sk-container-id-2 input.sk-toggleable__control:checked~div.sk-toggleable__content {max-height: 200px;max-width: 100%;overflow: auto;}#sk-container-id-2 input.sk-toggleable__control:checked~label.sk-toggleable__label-arrow:before {content: \"▾\";}#sk-container-id-2 div.sk-estimator input.sk-toggleable__control:checked~label.sk-toggleable__label {background-color: #d4ebff;}#sk-container-id-2 div.sk-label input.sk-toggleable__control:checked~label.sk-toggleable__label {background-color: #d4ebff;}#sk-container-id-2 input.sk-hidden--visually {border: 0;clip: rect(1px 1px 1px 1px);clip: rect(1px, 1px, 1px, 1px);height: 1px;margin: -1px;overflow: hidden;padding: 0;position: absolute;width: 1px;}#sk-container-id-2 div.sk-estimator {font-family: monospace;background-color: #f0f8ff;border: 1px dotted black;border-radius: 0.25em;box-sizing: border-box;margin-bottom: 0.5em;}#sk-container-id-2 div.sk-estimator:hover {background-color: #d4ebff;}#sk-container-id-2 div.sk-parallel-item::after {content: \"\";width: 100%;border-bottom: 1px solid gray;flex-grow: 1;}#sk-container-id-2 div.sk-label:hover label.sk-toggleable__label {background-color: #d4ebff;}#sk-container-id-2 div.sk-serial::before {content: \"\";position: absolute;border-left: 1px solid gray;box-sizing: border-box;top: 0;bottom: 0;left: 50%;z-index: 0;}#sk-container-id-2 div.sk-serial {display: flex;flex-direction: column;align-items: center;background-color: white;padding-right: 0.2em;padding-left: 0.2em;position: relative;}#sk-container-id-2 div.sk-item {position: relative;z-index: 1;}#sk-container-id-2 div.sk-parallel {display: flex;align-items: stretch;justify-content: center;background-color: white;position: relative;}#sk-container-id-2 div.sk-item::before, #sk-container-id-2 div.sk-parallel-item::before {content: \"\";position: absolute;border-left: 1px solid gray;box-sizing: border-box;top: 0;bottom: 0;left: 50%;z-index: -1;}#sk-container-id-2 div.sk-parallel-item {display: flex;flex-direction: column;z-index: 1;position: relative;background-color: white;}#sk-container-id-2 div.sk-parallel-item:first-child::after {align-self: flex-end;width: 50%;}#sk-container-id-2 div.sk-parallel-item:last-child::after {align-self: flex-start;width: 50%;}#sk-container-id-2 div.sk-parallel-item:only-child::after {width: 0;}#sk-container-id-2 div.sk-dashed-wrapped {border: 1px dashed gray;margin: 0 0.4em 0.5em 0.4em;box-sizing: border-box;padding-bottom: 0.4em;background-color: white;}#sk-container-id-2 div.sk-label label {font-family: monospace;font-weight: bold;display: inline-block;line-height: 1.2em;}#sk-container-id-2 div.sk-label-container {text-align: center;}#sk-container-id-2 div.sk-container {/* jupyter's `normalize.less` sets `[hidden] { display: none; }` but bootstrap.min.css set `[hidden] { display: none !important; }` so we also need the `!important` here to be able to override the default hidden behavior on the sphinx rendered scikit-learn.org. See: https://github.com/scikit-learn/scikit-learn/issues/21755 */display: inline-block !important;position: relative;}#sk-container-id-2 div.sk-text-repr-fallback {display: none;}</style><div id=\"sk-container-id-2\" class=\"sk-top-container\"><div class=\"sk-text-repr-fallback\"><pre>MLPClassifier(hidden_layer_sizes=(20,), max_iter=3000)</pre><b>In a Jupyter environment, please rerun this cell to show the HTML representation or trust the notebook. <br />On GitHub, the HTML representation is unable to render, please try loading this page with nbviewer.org.</b></div><div class=\"sk-container\" hidden><div class=\"sk-item\"><div class=\"sk-estimator sk-toggleable\"><input class=\"sk-toggleable__control sk-hidden--visually\" id=\"sk-estimator-id-2\" type=\"checkbox\" checked><label for=\"sk-estimator-id-2\" class=\"sk-toggleable__label sk-toggleable__label-arrow\">MLPClassifier</label><div class=\"sk-toggleable__content\"><pre>MLPClassifier(hidden_layer_sizes=(20,), max_iter=3000)</pre></div></div></div></div></div>"
     },
     "execution_count": 8,
     "metadata": {},
     "output_type": "execute_result"
    }
   ],
   "source": [
    "clf = MLPClassifier(hidden_layer_sizes=(20,),max_iter=3000)\n",
    "clf.fit(x_train,y_train)"
   ],
   "metadata": {
    "collapsed": false,
    "ExecuteTime": {
     "end_time": "2023-10-11T11:10:13.295346Z",
     "start_time": "2023-10-11T11:10:13.140944Z"
    }
   },
   "id": "a820d5ffee2a9925"
  },
  {
   "cell_type": "code",
   "execution_count": 9,
   "outputs": [
    {
     "data": {
      "text/plain": "0.9736842105263158"
     },
     "execution_count": 9,
     "metadata": {},
     "output_type": "execute_result"
    }
   ],
   "source": [
    "clf.score(x_test,y_test\n",
    "          )    "
   ],
   "metadata": {
    "collapsed": false,
    "ExecuteTime": {
     "end_time": "2023-10-11T11:10:14.981841Z",
     "start_time": "2023-10-11T11:10:14.958824Z"
    }
   },
   "id": "864ee0991d950cf"
  },
  {
   "cell_type": "code",
   "execution_count": 10,
   "outputs": [
    {
     "data": {
      "text/plain": "[array([[ 1.42492418e-01,  3.90543736e-01, -1.35018979e-01,\n          6.10227193e-01, -1.51848615e-01,  6.50829745e-01,\n          2.45228799e-01,  2.97822003e-01, -6.11601157e-05,\n          7.99193312e-02,  2.05629508e-01, -1.84369343e-01,\n          2.38362465e-01,  5.20426776e-01, -4.98931277e-02,\n         -9.41376796e-02,  2.15484874e-02,  2.04836517e-01,\n          4.09987397e-01, -5.23417032e-27],\n        [ 4.65440784e-01, -1.80119181e-01,  1.60066438e-01,\n         -4.41971504e-02,  3.35730016e-01,  9.26815948e-01,\n         -3.28455862e-01,  5.92073308e-01, -3.41683713e-04,\n          2.65541129e-01,  3.41135380e-01, -3.92723116e-01,\n          1.55704325e-02,  4.54499833e-01,  3.70410448e-02,\n         -9.87176884e-02, -3.19145832e-01, -5.68890752e-01,\n          6.75348546e-01, -1.25249011e-11],\n        [-1.27000074e-01, -3.05455097e-02,  5.72090905e-01,\n         -4.20578549e-01,  2.65950106e-01, -9.85905353e-01,\n         -4.10484748e-02,  2.26759743e-01,  1.56774344e-03,\n          3.65512639e-02,  1.89536412e-01,  2.94439210e-01,\n         -2.10757243e-01, -5.15342279e-01,  5.69684376e-01,\n          6.84267923e-01,  7.88430318e-01,  9.40389807e-01,\n         -6.10619872e-01, -1.13575292e-06],\n        [-2.28684838e-01, -7.36078978e-01, -1.17425107e-01,\n         -4.66540797e-01,  2.70817933e-01, -1.02235078e+00,\n         -3.45020125e-01, -1.65067720e-01, -5.71723402e-10,\n         -9.55713328e-01,  1.07850849e-01,  8.22143141e-02,\n          2.69474796e-01, -1.03810361e+00, -3.87510753e-01,\n          8.11419558e-01,  7.97212522e-01, -2.97816241e-02,\n         -4.56333886e-01,  9.25433852e-06]]),\n array([[ 7.98370600e-01, -3.08544746e-01, -4.27725630e-01],\n        [ 5.02234445e-01,  8.41265607e-01, -9.17575212e-01],\n        [-4.41892319e-01, -1.62918304e-01,  4.64716440e-01],\n        [ 4.02758487e-02,  4.29864780e-01, -2.94741176e-01],\n        [ 3.56358222e-01, -3.04230333e-01,  2.62266948e-01],\n        [ 1.02366993e+00,  7.78124034e-01, -9.86069729e-01],\n        [-3.57086911e-02, -2.85302571e-01,  3.59354842e-01],\n        [ 2.22720377e-01, -1.76344169e-01, -3.75511877e-01],\n        [ 1.48124387e-05,  2.43072921e-11,  6.69230934e-07],\n        [-1.18270158e-01,  2.48561171e-01, -5.11516899e-01],\n        [ 1.95597145e-01, -8.74598243e-03,  3.91712610e-01],\n        [ 2.03369604e-02, -1.01206391e-01, -3.35278132e-01],\n        [ 7.54151639e-03,  2.78654818e-01,  5.88717132e-02],\n        [ 4.57222134e-01,  4.85072780e-01,  1.08092820e-01],\n        [-3.83072070e-03,  4.18398793e-01,  2.49040730e-01],\n        [-1.44912905e-01,  1.58198223e-01,  4.36242220e-01],\n        [-9.71790201e-01, -7.49864561e-02,  5.97898445e-01],\n        [-1.02594549e+00,  5.98155019e-01,  7.02956292e-01],\n        [ 2.81969866e-01,  2.97003465e-02, -5.00559859e-01],\n        [-9.57941108e-06, -1.70606484e-04, -3.37838647e-04]])]"
     },
     "execution_count": 10,
     "metadata": {},
     "output_type": "execute_result"
    }
   ],
   "source": [
    "clf.coefs_"
   ],
   "metadata": {
    "collapsed": false,
    "ExecuteTime": {
     "end_time": "2023-10-11T11:12:13.936662Z",
     "start_time": "2023-10-11T11:12:13.913366Z"
    }
   },
   "id": "835ef2980167fa84"
  },
  {
   "cell_type": "markdown",
   "source": [],
   "metadata": {
    "collapsed": false
   },
   "id": "1714477324c263b6"
  }
 ],
 "metadata": {
  "kernelspec": {
   "display_name": "Python 3",
   "language": "python",
   "name": "python3"
  },
  "language_info": {
   "codemirror_mode": {
    "name": "ipython",
    "version": 2
   },
   "file_extension": ".py",
   "mimetype": "text/x-python",
   "name": "python",
   "nbconvert_exporter": "python",
   "pygments_lexer": "ipython2",
   "version": "2.7.6"
  }
 },
 "nbformat": 4,
 "nbformat_minor": 5
}
