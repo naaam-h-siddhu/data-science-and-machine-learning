{
 "cells": [
  {
   "cell_type": "markdown",
   "id": "23c6b947",
   "metadata": {},
   "source": [
    "# TASK 1"
   ]
  },
  {
   "cell_type": "markdown",
   "id": "881edb17",
   "metadata": {},
   "source": [
    "## HOUSE PRICE PREDICTION USING LINEAR REGRESSION"
   ]
  },
  {
   "cell_type": "markdown",
   "id": "81039e39",
   "metadata": {},
   "source": [
    "### IMPORTS"
   ]
  },
  {
   "cell_type": "code",
   "execution_count": 68,
   "id": "f46f28bc",
   "metadata": {
    "ExecuteTime": {
     "end_time": "2023-10-03T19:26:09.169755Z",
     "start_time": "2023-10-03T19:26:08.855430Z"
    }
   },
   "outputs": [],
   "source": [
    "import pandas as pd\n",
    "import numpy as np\n",
    "import seaborn as sns\n",
    "import matplotlib.pyplot as plt\n",
    "import pylab as pl\n",
    "%matplotlib inline"
   ]
  },
  {
   "cell_type": "code",
   "execution_count": 69,
   "id": "d18cf2e9",
   "metadata": {
    "ExecuteTime": {
     "end_time": "2023-10-03T19:26:09.217789Z",
     "start_time": "2023-10-03T19:26:08.860158Z"
    }
   },
   "outputs": [],
   "source": [
    "data=pd.read_csv(\"Delhi.csv\")"
   ]
  },
  {
   "cell_type": "markdown",
   "id": "e2d3d53c",
   "metadata": {},
   "source": [
    "### EDA"
   ]
  },
  {
   "cell_type": "code",
   "execution_count": 70,
   "id": "46b8198e",
   "metadata": {
    "ExecuteTime": {
     "end_time": "2023-10-03T19:26:09.218442Z",
     "start_time": "2023-10-03T19:26:08.910693Z"
    }
   },
   "outputs": [
    {
     "data": {
      "text/plain": "      Unnamed: 0     price                                            Address  \\\n0              0   5600000                  Noida Extension, Noida, Delhi NCR   \n1              1   8800000                      Sector 79, Gurgaon, Delhi NCR   \n2              2  16500000                     Vaishali, Ghaziabad, Delhi NCR   \n3              3   3810000  Link Road, F Block, Sector 50, Noida, Uttar Pr...   \n4              4   6200000  Jaypee Pavilion Court Sector 128, Noida, Secto...   \n...          ...       ...                                                ...   \n7733        7733   7900000                  Indirapuram, Ghaziabad, Delhi NCR   \n7734        7734   4510000  Greater Noida, Sector 2, Greater Noida, Delhi NCR   \n7735        7735   7000000           Crossings Republik, Ghaziabad, Delhi NCR   \n7736        7736   6500000  Raj Nagar Extension, Ghaziabad, Raj Nagar Exte...   \n7737        7737   6500000  sandal apartment, Shalimar Garden Extension 1,...   \n\n      area   latitude  longitude  Bedrooms  Bathrooms  Balcony  \\\n0     1350  28.608850  77.460560         3          3      NaN   \n1     1490  28.374236  76.952416         3          3      NaN   \n2     2385  28.645769  77.385110         4          5      NaN   \n3     1050  28.566914  77.436434         2          2      3.0   \n4     1350  28.520732  77.356491         2          2      3.0   \n...    ...        ...        ...       ...        ...      ...   \n7733  1095  28.635272  77.370395         2          2      NaN   \n7734  1060  28.581431  77.452819         2          2      3.0   \n7735  1898  28.625850  77.435336         4          3      5.0   \n7736  1400  28.701622  77.430153         3          3      2.0   \n7737  1750  28.693590  77.344376         3          2      3.0   \n\n                  Status      neworold  parking Furnished_status  Lift  \\\n0     Under Construction  New Property      NaN              NaN   2.0   \n1          Ready to Move  New Property      NaN   Semi-Furnished   2.0   \n2          Ready to Move  New Property      1.0      Unfurnished   NaN   \n3                    NaN  New Property      1.0      Unfurnished   2.0   \n4          Ready to Move        Resale      1.0              NaN   3.0   \n...                  ...           ...      ...              ...   ...   \n7733       Ready to Move        Resale      NaN              NaN   NaN   \n7734                 NaN        Resale      NaN   Semi-Furnished   NaN   \n7735       Ready to Move        Resale      NaN              NaN   NaN   \n7736       Ready to Move        Resale      1.0              NaN   3.0   \n7737       Ready to Move  New Property      NaN              NaN   NaN   \n\n                       Landmarks type_of_building  \\\n0                            NaN             Flat   \n1                            NaN             Flat   \n2                            NaN             Flat   \n3     near Gaur Mulberry Mansion             Flat   \n4                            NaN             Flat   \n...                          ...              ...   \n7733                         NaN             Flat   \n7734              ek murti chowk             Flat   \n7735                         NaN             Flat   \n7736                   vvip mall             Flat   \n7737                         NaN             Flat   \n\n                                                   desc   Price_sqft  \n0     \\n\\n\\n                                Welcome ...  4148.148148  \n1     \\n\\n\\n                                Mapsko M...  5906.040268  \n2     \\n\\n\\n                                This pro...  6918.238994  \n3     \\n\\n\\n                                AIG Roya...  3628.571429  \n4     \\n\\n\\n                                The prop...  4592.592593  \n...                                                 ...          ...  \n7733  \\n                    \\n                    \\n...  7214.611872  \n7734  \\n                    \\n                    \\n...  4254.716981  \n7735  \\n                    \\n                    \\n...  3688.092729  \n7736  \\n                    \\n                    \\n...  4642.857143  \n7737                                                 \\n  3714.285714  \n\n[7738 rows x 18 columns]",
      "text/html": "<div>\n<style scoped>\n    .dataframe tbody tr th:only-of-type {\n        vertical-align: middle;\n    }\n\n    .dataframe tbody tr th {\n        vertical-align: top;\n    }\n\n    .dataframe thead th {\n        text-align: right;\n    }\n</style>\n<table border=\"1\" class=\"dataframe\">\n  <thead>\n    <tr style=\"text-align: right;\">\n      <th></th>\n      <th>Unnamed: 0</th>\n      <th>price</th>\n      <th>Address</th>\n      <th>area</th>\n      <th>latitude</th>\n      <th>longitude</th>\n      <th>Bedrooms</th>\n      <th>Bathrooms</th>\n      <th>Balcony</th>\n      <th>Status</th>\n      <th>neworold</th>\n      <th>parking</th>\n      <th>Furnished_status</th>\n      <th>Lift</th>\n      <th>Landmarks</th>\n      <th>type_of_building</th>\n      <th>desc</th>\n      <th>Price_sqft</th>\n    </tr>\n  </thead>\n  <tbody>\n    <tr>\n      <th>0</th>\n      <td>0</td>\n      <td>5600000</td>\n      <td>Noida Extension, Noida, Delhi NCR</td>\n      <td>1350</td>\n      <td>28.608850</td>\n      <td>77.460560</td>\n      <td>3</td>\n      <td>3</td>\n      <td>NaN</td>\n      <td>Under Construction</td>\n      <td>New Property</td>\n      <td>NaN</td>\n      <td>NaN</td>\n      <td>2.0</td>\n      <td>NaN</td>\n      <td>Flat</td>\n      <td>\\n\\n\\n                                Welcome ...</td>\n      <td>4148.148148</td>\n    </tr>\n    <tr>\n      <th>1</th>\n      <td>1</td>\n      <td>8800000</td>\n      <td>Sector 79, Gurgaon, Delhi NCR</td>\n      <td>1490</td>\n      <td>28.374236</td>\n      <td>76.952416</td>\n      <td>3</td>\n      <td>3</td>\n      <td>NaN</td>\n      <td>Ready to Move</td>\n      <td>New Property</td>\n      <td>NaN</td>\n      <td>Semi-Furnished</td>\n      <td>2.0</td>\n      <td>NaN</td>\n      <td>Flat</td>\n      <td>\\n\\n\\n                                Mapsko M...</td>\n      <td>5906.040268</td>\n    </tr>\n    <tr>\n      <th>2</th>\n      <td>2</td>\n      <td>16500000</td>\n      <td>Vaishali, Ghaziabad, Delhi NCR</td>\n      <td>2385</td>\n      <td>28.645769</td>\n      <td>77.385110</td>\n      <td>4</td>\n      <td>5</td>\n      <td>NaN</td>\n      <td>Ready to Move</td>\n      <td>New Property</td>\n      <td>1.0</td>\n      <td>Unfurnished</td>\n      <td>NaN</td>\n      <td>NaN</td>\n      <td>Flat</td>\n      <td>\\n\\n\\n                                This pro...</td>\n      <td>6918.238994</td>\n    </tr>\n    <tr>\n      <th>3</th>\n      <td>3</td>\n      <td>3810000</td>\n      <td>Link Road, F Block, Sector 50, Noida, Uttar Pr...</td>\n      <td>1050</td>\n      <td>28.566914</td>\n      <td>77.436434</td>\n      <td>2</td>\n      <td>2</td>\n      <td>3.0</td>\n      <td>NaN</td>\n      <td>New Property</td>\n      <td>1.0</td>\n      <td>Unfurnished</td>\n      <td>2.0</td>\n      <td>near Gaur Mulberry Mansion</td>\n      <td>Flat</td>\n      <td>\\n\\n\\n                                AIG Roya...</td>\n      <td>3628.571429</td>\n    </tr>\n    <tr>\n      <th>4</th>\n      <td>4</td>\n      <td>6200000</td>\n      <td>Jaypee Pavilion Court Sector 128, Noida, Secto...</td>\n      <td>1350</td>\n      <td>28.520732</td>\n      <td>77.356491</td>\n      <td>2</td>\n      <td>2</td>\n      <td>3.0</td>\n      <td>Ready to Move</td>\n      <td>Resale</td>\n      <td>1.0</td>\n      <td>NaN</td>\n      <td>3.0</td>\n      <td>NaN</td>\n      <td>Flat</td>\n      <td>\\n\\n\\n                                The prop...</td>\n      <td>4592.592593</td>\n    </tr>\n    <tr>\n      <th>...</th>\n      <td>...</td>\n      <td>...</td>\n      <td>...</td>\n      <td>...</td>\n      <td>...</td>\n      <td>...</td>\n      <td>...</td>\n      <td>...</td>\n      <td>...</td>\n      <td>...</td>\n      <td>...</td>\n      <td>...</td>\n      <td>...</td>\n      <td>...</td>\n      <td>...</td>\n      <td>...</td>\n      <td>...</td>\n      <td>...</td>\n    </tr>\n    <tr>\n      <th>7733</th>\n      <td>7733</td>\n      <td>7900000</td>\n      <td>Indirapuram, Ghaziabad, Delhi NCR</td>\n      <td>1095</td>\n      <td>28.635272</td>\n      <td>77.370395</td>\n      <td>2</td>\n      <td>2</td>\n      <td>NaN</td>\n      <td>Ready to Move</td>\n      <td>Resale</td>\n      <td>NaN</td>\n      <td>NaN</td>\n      <td>NaN</td>\n      <td>NaN</td>\n      <td>Flat</td>\n      <td>\\n                    \\n                    \\n...</td>\n      <td>7214.611872</td>\n    </tr>\n    <tr>\n      <th>7734</th>\n      <td>7734</td>\n      <td>4510000</td>\n      <td>Greater Noida, Sector 2, Greater Noida, Delhi NCR</td>\n      <td>1060</td>\n      <td>28.581431</td>\n      <td>77.452819</td>\n      <td>2</td>\n      <td>2</td>\n      <td>3.0</td>\n      <td>NaN</td>\n      <td>Resale</td>\n      <td>NaN</td>\n      <td>Semi-Furnished</td>\n      <td>NaN</td>\n      <td>ek murti chowk</td>\n      <td>Flat</td>\n      <td>\\n                    \\n                    \\n...</td>\n      <td>4254.716981</td>\n    </tr>\n    <tr>\n      <th>7735</th>\n      <td>7735</td>\n      <td>7000000</td>\n      <td>Crossings Republik, Ghaziabad, Delhi NCR</td>\n      <td>1898</td>\n      <td>28.625850</td>\n      <td>77.435336</td>\n      <td>4</td>\n      <td>3</td>\n      <td>5.0</td>\n      <td>Ready to Move</td>\n      <td>Resale</td>\n      <td>NaN</td>\n      <td>NaN</td>\n      <td>NaN</td>\n      <td>NaN</td>\n      <td>Flat</td>\n      <td>\\n                    \\n                    \\n...</td>\n      <td>3688.092729</td>\n    </tr>\n    <tr>\n      <th>7736</th>\n      <td>7736</td>\n      <td>6500000</td>\n      <td>Raj Nagar Extension, Ghaziabad, Raj Nagar Exte...</td>\n      <td>1400</td>\n      <td>28.701622</td>\n      <td>77.430153</td>\n      <td>3</td>\n      <td>3</td>\n      <td>2.0</td>\n      <td>Ready to Move</td>\n      <td>Resale</td>\n      <td>1.0</td>\n      <td>NaN</td>\n      <td>3.0</td>\n      <td>vvip mall</td>\n      <td>Flat</td>\n      <td>\\n                    \\n                    \\n...</td>\n      <td>4642.857143</td>\n    </tr>\n    <tr>\n      <th>7737</th>\n      <td>7737</td>\n      <td>6500000</td>\n      <td>sandal apartment, Shalimar Garden Extension 1,...</td>\n      <td>1750</td>\n      <td>28.693590</td>\n      <td>77.344376</td>\n      <td>3</td>\n      <td>2</td>\n      <td>3.0</td>\n      <td>Ready to Move</td>\n      <td>New Property</td>\n      <td>NaN</td>\n      <td>NaN</td>\n      <td>NaN</td>\n      <td>NaN</td>\n      <td>Flat</td>\n      <td>\\n</td>\n      <td>3714.285714</td>\n    </tr>\n  </tbody>\n</table>\n<p>7738 rows × 18 columns</p>\n</div>"
     },
     "execution_count": 70,
     "metadata": {},
     "output_type": "execute_result"
    }
   ],
   "source": [
    "data"
   ]
  },
  {
   "cell_type": "code",
   "execution_count": 70,
   "id": "444f7009",
   "metadata": {
    "ExecuteTime": {
     "end_time": "2023-10-03T19:26:09.218506Z",
     "start_time": "2023-10-03T19:26:08.914662Z"
    }
   },
   "outputs": [],
   "source": []
  },
  {
   "cell_type": "code",
   "execution_count": 71,
   "id": "be27180f",
   "metadata": {
    "ExecuteTime": {
     "end_time": "2023-10-03T19:26:09.218699Z",
     "start_time": "2023-10-03T19:26:08.918283Z"
    }
   },
   "outputs": [
    {
     "data": {
      "text/plain": "Unnamed: 0            int64\nprice                 int64\nAddress              object\narea                  int64\nlatitude            float64\nlongitude           float64\nBedrooms              int64\nBathrooms             int64\nBalcony             float64\nStatus               object\nneworold             object\nparking             float64\nFurnished_status     object\nLift                float64\nLandmarks            object\ntype_of_building     object\ndesc                 object\nPrice_sqft          float64\ndtype: object"
     },
     "execution_count": 71,
     "metadata": {},
     "output_type": "execute_result"
    }
   ],
   "source": [
    "data.dtypes"
   ]
  },
  {
   "cell_type": "code",
   "execution_count": 71,
   "id": "e068ec28",
   "metadata": {
    "ExecuteTime": {
     "end_time": "2023-10-03T19:26:09.218749Z",
     "start_time": "2023-10-03T19:26:08.920046Z"
    }
   },
   "outputs": [],
   "source": []
  },
  {
   "cell_type": "code",
   "execution_count": 72,
   "id": "c135d3cb",
   "metadata": {
    "ExecuteTime": {
     "end_time": "2023-10-03T19:26:09.218969Z",
     "start_time": "2023-10-03T19:26:08.922010Z"
    }
   },
   "outputs": [],
   "source": [
    "data.dropna(inplace=True)"
   ]
  },
  {
   "cell_type": "code",
   "execution_count": 73,
   "id": "12334c5b",
   "metadata": {
    "ExecuteTime": {
     "end_time": "2023-10-03T19:26:09.219330Z",
     "start_time": "2023-10-03T19:26:08.945179Z"
    }
   },
   "outputs": [
    {
     "data": {
      "text/plain": "      Unnamed: 0     price                                            Address  \\\n10            10   7300000    Sector 24 Rohini, New Delhi - Rohini, Delhi NCR   \n15            15   9500000    Sector 24 Rohini, New Delhi - Rohini, Delhi NCR   \n16            16  15000000    Sector 24 Rohini, New Delhi - Rohini, Delhi NCR   \n18            18   5100000  NeelPadam Kunj, Vaishali, Sector 1, Ghaziabad,...   \n30            30   9000000  sector 103 gurgaon, Dwarka Expressway, Gurgaon...   \n...          ...       ...                                                ...   \n7454        7454   4600000  IP Colony, Sector 49, Faridabad, Sector 49, Fa...   \n7499        7499   7000000            Sector 6 Vaishali, Ghaziabad, Delhi NCR   \n7537        7537   4000000         17. th floor, Sector 134, Noida, Delhi NCR   \n7663        7663  14100000  Rajendra Nagar Ghaziabad, Gulmohur Greens, Gha...   \n7709        7709   8500000  Indirapuram, Ghaziabad, Ahinsa Khand 2, Ghazia...   \n\n      area   latitude  longitude  Bedrooms  Bathrooms  Balcony         Status  \\\n10     850  28.724075  77.095581         3          2      1.0  Ready to Move   \n15    1000  28.721436  77.107018         3          2      1.0  Ready to Move   \n16    1450  28.727213  77.096062         4          3      1.0  Ready to Move   \n18    1087  28.644310  77.331787         2          2      2.0  Ready to Move   \n30    1481  28.497450  77.027092         2          2      2.0  Ready to Move   \n...    ...        ...        ...       ...        ...      ...            ...   \n7454   900  28.392095  77.267223         3          2      1.0  Ready to Move   \n7499  1200  28.648588  77.353339         3          2      2.0  Ready to Move   \n7537   942  28.500751  77.380900         2          2      1.0  Ready to Move   \n7663  2550  28.636213  77.433601         3          3      3.0  Ready to Move   \n7709  1592  28.646700  77.382332         3          2      2.0  Ready to Move   \n\n          neworold  parking Furnished_status  Lift  \\\n10    New Property      2.0   Semi-Furnished   1.0   \n15    New Property      2.0   Semi-Furnished   1.0   \n16    New Property      2.0   Semi-Furnished   1.0   \n18          Resale      1.0   Semi-Furnished   2.0   \n30          Resale      2.0      Unfurnished   2.0   \n...            ...      ...              ...   ...   \n7454        Resale      1.0   Semi-Furnished   0.0   \n7499        Resale      1.0        Furnished   0.0   \n7537        Resale      1.0      Unfurnished   2.0   \n7663        Resale      2.0   Semi-Furnished   2.0   \n7709        Resale      1.0   Semi-Furnished   2.0   \n\n                                              Landmarks  type_of_building  \\\n10                        Near by shri jagannath mandir              Flat   \n15                         Near by the sovereign school  Individual House   \n16                        Near by shri jagannath mandir  Individual House   \n18    Prime location surrounded by malls and hospita...              Flat   \n30                         near gurgaon railway station              Flat   \n...                                                 ...               ...   \n7454  Schools/Play Schools/ Shopping center/Banks in...              Flat   \n7499  1.5Kms away from Vaishali Metro Station. 2 Kms...              Flat   \n7537  Multiple schools, corporate offices and reside...              Flat   \n7663                       Near Hindon Airforce Station              Flat   \n7709                                         DPS School  Individual House   \n\n                                                   desc    Price_sqft  \n10    \\n\\n\\n                                3 BHK se...   8588.235294  \n15    \\n                    \\n                    \\n...   9500.000000  \n16    \\n\\n\\n                                4 BHK th...  10344.827590  \n18    \\n\\n\\n                                Complex ...   4691.812328  \n30    \\n                    \\n                    \\n...   6076.975017  \n...                                                 ...           ...  \n7454  \\n                    \\n                    \\n...   5111.111111  \n7499  \\n                    \\n                    \\n...   5833.333333  \n7537  \\n                    \\n                    \\n...   4246.284501  \n7663  \\n                    \\n                    \\n...   5529.411765  \n7709  \\n                    \\n                    \\n...   5339.195980  \n\n[329 rows x 18 columns]",
      "text/html": "<div>\n<style scoped>\n    .dataframe tbody tr th:only-of-type {\n        vertical-align: middle;\n    }\n\n    .dataframe tbody tr th {\n        vertical-align: top;\n    }\n\n    .dataframe thead th {\n        text-align: right;\n    }\n</style>\n<table border=\"1\" class=\"dataframe\">\n  <thead>\n    <tr style=\"text-align: right;\">\n      <th></th>\n      <th>Unnamed: 0</th>\n      <th>price</th>\n      <th>Address</th>\n      <th>area</th>\n      <th>latitude</th>\n      <th>longitude</th>\n      <th>Bedrooms</th>\n      <th>Bathrooms</th>\n      <th>Balcony</th>\n      <th>Status</th>\n      <th>neworold</th>\n      <th>parking</th>\n      <th>Furnished_status</th>\n      <th>Lift</th>\n      <th>Landmarks</th>\n      <th>type_of_building</th>\n      <th>desc</th>\n      <th>Price_sqft</th>\n    </tr>\n  </thead>\n  <tbody>\n    <tr>\n      <th>10</th>\n      <td>10</td>\n      <td>7300000</td>\n      <td>Sector 24 Rohini, New Delhi - Rohini, Delhi NCR</td>\n      <td>850</td>\n      <td>28.724075</td>\n      <td>77.095581</td>\n      <td>3</td>\n      <td>2</td>\n      <td>1.0</td>\n      <td>Ready to Move</td>\n      <td>New Property</td>\n      <td>2.0</td>\n      <td>Semi-Furnished</td>\n      <td>1.0</td>\n      <td>Near by shri jagannath mandir</td>\n      <td>Flat</td>\n      <td>\\n\\n\\n                                3 BHK se...</td>\n      <td>8588.235294</td>\n    </tr>\n    <tr>\n      <th>15</th>\n      <td>15</td>\n      <td>9500000</td>\n      <td>Sector 24 Rohini, New Delhi - Rohini, Delhi NCR</td>\n      <td>1000</td>\n      <td>28.721436</td>\n      <td>77.107018</td>\n      <td>3</td>\n      <td>2</td>\n      <td>1.0</td>\n      <td>Ready to Move</td>\n      <td>New Property</td>\n      <td>2.0</td>\n      <td>Semi-Furnished</td>\n      <td>1.0</td>\n      <td>Near by the sovereign school</td>\n      <td>Individual House</td>\n      <td>\\n                    \\n                    \\n...</td>\n      <td>9500.000000</td>\n    </tr>\n    <tr>\n      <th>16</th>\n      <td>16</td>\n      <td>15000000</td>\n      <td>Sector 24 Rohini, New Delhi - Rohini, Delhi NCR</td>\n      <td>1450</td>\n      <td>28.727213</td>\n      <td>77.096062</td>\n      <td>4</td>\n      <td>3</td>\n      <td>1.0</td>\n      <td>Ready to Move</td>\n      <td>New Property</td>\n      <td>2.0</td>\n      <td>Semi-Furnished</td>\n      <td>1.0</td>\n      <td>Near by shri jagannath mandir</td>\n      <td>Individual House</td>\n      <td>\\n\\n\\n                                4 BHK th...</td>\n      <td>10344.827590</td>\n    </tr>\n    <tr>\n      <th>18</th>\n      <td>18</td>\n      <td>5100000</td>\n      <td>NeelPadam Kunj, Vaishali, Sector 1, Ghaziabad,...</td>\n      <td>1087</td>\n      <td>28.644310</td>\n      <td>77.331787</td>\n      <td>2</td>\n      <td>2</td>\n      <td>2.0</td>\n      <td>Ready to Move</td>\n      <td>Resale</td>\n      <td>1.0</td>\n      <td>Semi-Furnished</td>\n      <td>2.0</td>\n      <td>Prime location surrounded by malls and hospita...</td>\n      <td>Flat</td>\n      <td>\\n\\n\\n                                Complex ...</td>\n      <td>4691.812328</td>\n    </tr>\n    <tr>\n      <th>30</th>\n      <td>30</td>\n      <td>9000000</td>\n      <td>sector 103 gurgaon, Dwarka Expressway, Gurgaon...</td>\n      <td>1481</td>\n      <td>28.497450</td>\n      <td>77.027092</td>\n      <td>2</td>\n      <td>2</td>\n      <td>2.0</td>\n      <td>Ready to Move</td>\n      <td>Resale</td>\n      <td>2.0</td>\n      <td>Unfurnished</td>\n      <td>2.0</td>\n      <td>near gurgaon railway station</td>\n      <td>Flat</td>\n      <td>\\n                    \\n                    \\n...</td>\n      <td>6076.975017</td>\n    </tr>\n    <tr>\n      <th>...</th>\n      <td>...</td>\n      <td>...</td>\n      <td>...</td>\n      <td>...</td>\n      <td>...</td>\n      <td>...</td>\n      <td>...</td>\n      <td>...</td>\n      <td>...</td>\n      <td>...</td>\n      <td>...</td>\n      <td>...</td>\n      <td>...</td>\n      <td>...</td>\n      <td>...</td>\n      <td>...</td>\n      <td>...</td>\n      <td>...</td>\n    </tr>\n    <tr>\n      <th>7454</th>\n      <td>7454</td>\n      <td>4600000</td>\n      <td>IP Colony, Sector 49, Faridabad, Sector 49, Fa...</td>\n      <td>900</td>\n      <td>28.392095</td>\n      <td>77.267223</td>\n      <td>3</td>\n      <td>2</td>\n      <td>1.0</td>\n      <td>Ready to Move</td>\n      <td>Resale</td>\n      <td>1.0</td>\n      <td>Semi-Furnished</td>\n      <td>0.0</td>\n      <td>Schools/Play Schools/ Shopping center/Banks in...</td>\n      <td>Flat</td>\n      <td>\\n                    \\n                    \\n...</td>\n      <td>5111.111111</td>\n    </tr>\n    <tr>\n      <th>7499</th>\n      <td>7499</td>\n      <td>7000000</td>\n      <td>Sector 6 Vaishali, Ghaziabad, Delhi NCR</td>\n      <td>1200</td>\n      <td>28.648588</td>\n      <td>77.353339</td>\n      <td>3</td>\n      <td>2</td>\n      <td>2.0</td>\n      <td>Ready to Move</td>\n      <td>Resale</td>\n      <td>1.0</td>\n      <td>Furnished</td>\n      <td>0.0</td>\n      <td>1.5Kms away from Vaishali Metro Station. 2 Kms...</td>\n      <td>Flat</td>\n      <td>\\n                    \\n                    \\n...</td>\n      <td>5833.333333</td>\n    </tr>\n    <tr>\n      <th>7537</th>\n      <td>7537</td>\n      <td>4000000</td>\n      <td>17. th floor, Sector 134, Noida, Delhi NCR</td>\n      <td>942</td>\n      <td>28.500751</td>\n      <td>77.380900</td>\n      <td>2</td>\n      <td>2</td>\n      <td>1.0</td>\n      <td>Ready to Move</td>\n      <td>Resale</td>\n      <td>1.0</td>\n      <td>Unfurnished</td>\n      <td>2.0</td>\n      <td>Multiple schools, corporate offices and reside...</td>\n      <td>Flat</td>\n      <td>\\n                    \\n                    \\n...</td>\n      <td>4246.284501</td>\n    </tr>\n    <tr>\n      <th>7663</th>\n      <td>7663</td>\n      <td>14100000</td>\n      <td>Rajendra Nagar Ghaziabad, Gulmohur Greens, Gha...</td>\n      <td>2550</td>\n      <td>28.636213</td>\n      <td>77.433601</td>\n      <td>3</td>\n      <td>3</td>\n      <td>3.0</td>\n      <td>Ready to Move</td>\n      <td>Resale</td>\n      <td>2.0</td>\n      <td>Semi-Furnished</td>\n      <td>2.0</td>\n      <td>Near Hindon Airforce Station</td>\n      <td>Flat</td>\n      <td>\\n                    \\n                    \\n...</td>\n      <td>5529.411765</td>\n    </tr>\n    <tr>\n      <th>7709</th>\n      <td>7709</td>\n      <td>8500000</td>\n      <td>Indirapuram, Ghaziabad, Ahinsa Khand 2, Ghazia...</td>\n      <td>1592</td>\n      <td>28.646700</td>\n      <td>77.382332</td>\n      <td>3</td>\n      <td>2</td>\n      <td>2.0</td>\n      <td>Ready to Move</td>\n      <td>Resale</td>\n      <td>1.0</td>\n      <td>Semi-Furnished</td>\n      <td>2.0</td>\n      <td>DPS School</td>\n      <td>Individual House</td>\n      <td>\\n                    \\n                    \\n...</td>\n      <td>5339.195980</td>\n    </tr>\n  </tbody>\n</table>\n<p>329 rows × 18 columns</p>\n</div>"
     },
     "execution_count": 73,
     "metadata": {},
     "output_type": "execute_result"
    }
   ],
   "source": [
    "data"
   ]
  },
  {
   "cell_type": "code",
   "execution_count": 74,
   "id": "057f3652",
   "metadata": {
    "ExecuteTime": {
     "end_time": "2023-10-03T19:26:09.219379Z",
     "start_time": "2023-10-03T19:26:08.947810Z"
    }
   },
   "outputs": [],
   "source": [
    "data.reset_index(inplace=True, drop=True)"
   ]
  },
  {
   "cell_type": "code",
   "execution_count": 75,
   "id": "370609c8",
   "metadata": {
    "ExecuteTime": {
     "end_time": "2023-10-03T19:26:09.219776Z",
     "start_time": "2023-10-03T19:26:08.955312Z"
    }
   },
   "outputs": [
    {
     "data": {
      "text/plain": "     Unnamed: 0     price                                            Address  \\\n0            10   7300000    Sector 24 Rohini, New Delhi - Rohini, Delhi NCR   \n1            15   9500000    Sector 24 Rohini, New Delhi - Rohini, Delhi NCR   \n2            16  15000000    Sector 24 Rohini, New Delhi - Rohini, Delhi NCR   \n3            18   5100000  NeelPadam Kunj, Vaishali, Sector 1, Ghaziabad,...   \n4            30   9000000  sector 103 gurgaon, Dwarka Expressway, Gurgaon...   \n..          ...       ...                                                ...   \n324        7454   4600000  IP Colony, Sector 49, Faridabad, Sector 49, Fa...   \n325        7499   7000000            Sector 6 Vaishali, Ghaziabad, Delhi NCR   \n326        7537   4000000         17. th floor, Sector 134, Noida, Delhi NCR   \n327        7663  14100000  Rajendra Nagar Ghaziabad, Gulmohur Greens, Gha...   \n328        7709   8500000  Indirapuram, Ghaziabad, Ahinsa Khand 2, Ghazia...   \n\n     area   latitude  longitude  Bedrooms  Bathrooms  Balcony         Status  \\\n0     850  28.724075  77.095581         3          2      1.0  Ready to Move   \n1    1000  28.721436  77.107018         3          2      1.0  Ready to Move   \n2    1450  28.727213  77.096062         4          3      1.0  Ready to Move   \n3    1087  28.644310  77.331787         2          2      2.0  Ready to Move   \n4    1481  28.497450  77.027092         2          2      2.0  Ready to Move   \n..    ...        ...        ...       ...        ...      ...            ...   \n324   900  28.392095  77.267223         3          2      1.0  Ready to Move   \n325  1200  28.648588  77.353339         3          2      2.0  Ready to Move   \n326   942  28.500751  77.380900         2          2      1.0  Ready to Move   \n327  2550  28.636213  77.433601         3          3      3.0  Ready to Move   \n328  1592  28.646700  77.382332         3          2      2.0  Ready to Move   \n\n         neworold  parking Furnished_status  Lift  \\\n0    New Property      2.0   Semi-Furnished   1.0   \n1    New Property      2.0   Semi-Furnished   1.0   \n2    New Property      2.0   Semi-Furnished   1.0   \n3          Resale      1.0   Semi-Furnished   2.0   \n4          Resale      2.0      Unfurnished   2.0   \n..            ...      ...              ...   ...   \n324        Resale      1.0   Semi-Furnished   0.0   \n325        Resale      1.0        Furnished   0.0   \n326        Resale      1.0      Unfurnished   2.0   \n327        Resale      2.0   Semi-Furnished   2.0   \n328        Resale      1.0   Semi-Furnished   2.0   \n\n                                             Landmarks  type_of_building  \\\n0                        Near by shri jagannath mandir              Flat   \n1                         Near by the sovereign school  Individual House   \n2                        Near by shri jagannath mandir  Individual House   \n3    Prime location surrounded by malls and hospita...              Flat   \n4                         near gurgaon railway station              Flat   \n..                                                 ...               ...   \n324  Schools/Play Schools/ Shopping center/Banks in...              Flat   \n325  1.5Kms away from Vaishali Metro Station. 2 Kms...              Flat   \n326  Multiple schools, corporate offices and reside...              Flat   \n327                       Near Hindon Airforce Station              Flat   \n328                                         DPS School  Individual House   \n\n                                                  desc    Price_sqft  \n0    \\n\\n\\n                                3 BHK se...   8588.235294  \n1    \\n                    \\n                    \\n...   9500.000000  \n2    \\n\\n\\n                                4 BHK th...  10344.827590  \n3    \\n\\n\\n                                Complex ...   4691.812328  \n4    \\n                    \\n                    \\n...   6076.975017  \n..                                                 ...           ...  \n324  \\n                    \\n                    \\n...   5111.111111  \n325  \\n                    \\n                    \\n...   5833.333333  \n326  \\n                    \\n                    \\n...   4246.284501  \n327  \\n                    \\n                    \\n...   5529.411765  \n328  \\n                    \\n                    \\n...   5339.195980  \n\n[329 rows x 18 columns]",
      "text/html": "<div>\n<style scoped>\n    .dataframe tbody tr th:only-of-type {\n        vertical-align: middle;\n    }\n\n    .dataframe tbody tr th {\n        vertical-align: top;\n    }\n\n    .dataframe thead th {\n        text-align: right;\n    }\n</style>\n<table border=\"1\" class=\"dataframe\">\n  <thead>\n    <tr style=\"text-align: right;\">\n      <th></th>\n      <th>Unnamed: 0</th>\n      <th>price</th>\n      <th>Address</th>\n      <th>area</th>\n      <th>latitude</th>\n      <th>longitude</th>\n      <th>Bedrooms</th>\n      <th>Bathrooms</th>\n      <th>Balcony</th>\n      <th>Status</th>\n      <th>neworold</th>\n      <th>parking</th>\n      <th>Furnished_status</th>\n      <th>Lift</th>\n      <th>Landmarks</th>\n      <th>type_of_building</th>\n      <th>desc</th>\n      <th>Price_sqft</th>\n    </tr>\n  </thead>\n  <tbody>\n    <tr>\n      <th>0</th>\n      <td>10</td>\n      <td>7300000</td>\n      <td>Sector 24 Rohini, New Delhi - Rohini, Delhi NCR</td>\n      <td>850</td>\n      <td>28.724075</td>\n      <td>77.095581</td>\n      <td>3</td>\n      <td>2</td>\n      <td>1.0</td>\n      <td>Ready to Move</td>\n      <td>New Property</td>\n      <td>2.0</td>\n      <td>Semi-Furnished</td>\n      <td>1.0</td>\n      <td>Near by shri jagannath mandir</td>\n      <td>Flat</td>\n      <td>\\n\\n\\n                                3 BHK se...</td>\n      <td>8588.235294</td>\n    </tr>\n    <tr>\n      <th>1</th>\n      <td>15</td>\n      <td>9500000</td>\n      <td>Sector 24 Rohini, New Delhi - Rohini, Delhi NCR</td>\n      <td>1000</td>\n      <td>28.721436</td>\n      <td>77.107018</td>\n      <td>3</td>\n      <td>2</td>\n      <td>1.0</td>\n      <td>Ready to Move</td>\n      <td>New Property</td>\n      <td>2.0</td>\n      <td>Semi-Furnished</td>\n      <td>1.0</td>\n      <td>Near by the sovereign school</td>\n      <td>Individual House</td>\n      <td>\\n                    \\n                    \\n...</td>\n      <td>9500.000000</td>\n    </tr>\n    <tr>\n      <th>2</th>\n      <td>16</td>\n      <td>15000000</td>\n      <td>Sector 24 Rohini, New Delhi - Rohini, Delhi NCR</td>\n      <td>1450</td>\n      <td>28.727213</td>\n      <td>77.096062</td>\n      <td>4</td>\n      <td>3</td>\n      <td>1.0</td>\n      <td>Ready to Move</td>\n      <td>New Property</td>\n      <td>2.0</td>\n      <td>Semi-Furnished</td>\n      <td>1.0</td>\n      <td>Near by shri jagannath mandir</td>\n      <td>Individual House</td>\n      <td>\\n\\n\\n                                4 BHK th...</td>\n      <td>10344.827590</td>\n    </tr>\n    <tr>\n      <th>3</th>\n      <td>18</td>\n      <td>5100000</td>\n      <td>NeelPadam Kunj, Vaishali, Sector 1, Ghaziabad,...</td>\n      <td>1087</td>\n      <td>28.644310</td>\n      <td>77.331787</td>\n      <td>2</td>\n      <td>2</td>\n      <td>2.0</td>\n      <td>Ready to Move</td>\n      <td>Resale</td>\n      <td>1.0</td>\n      <td>Semi-Furnished</td>\n      <td>2.0</td>\n      <td>Prime location surrounded by malls and hospita...</td>\n      <td>Flat</td>\n      <td>\\n\\n\\n                                Complex ...</td>\n      <td>4691.812328</td>\n    </tr>\n    <tr>\n      <th>4</th>\n      <td>30</td>\n      <td>9000000</td>\n      <td>sector 103 gurgaon, Dwarka Expressway, Gurgaon...</td>\n      <td>1481</td>\n      <td>28.497450</td>\n      <td>77.027092</td>\n      <td>2</td>\n      <td>2</td>\n      <td>2.0</td>\n      <td>Ready to Move</td>\n      <td>Resale</td>\n      <td>2.0</td>\n      <td>Unfurnished</td>\n      <td>2.0</td>\n      <td>near gurgaon railway station</td>\n      <td>Flat</td>\n      <td>\\n                    \\n                    \\n...</td>\n      <td>6076.975017</td>\n    </tr>\n    <tr>\n      <th>...</th>\n      <td>...</td>\n      <td>...</td>\n      <td>...</td>\n      <td>...</td>\n      <td>...</td>\n      <td>...</td>\n      <td>...</td>\n      <td>...</td>\n      <td>...</td>\n      <td>...</td>\n      <td>...</td>\n      <td>...</td>\n      <td>...</td>\n      <td>...</td>\n      <td>...</td>\n      <td>...</td>\n      <td>...</td>\n      <td>...</td>\n    </tr>\n    <tr>\n      <th>324</th>\n      <td>7454</td>\n      <td>4600000</td>\n      <td>IP Colony, Sector 49, Faridabad, Sector 49, Fa...</td>\n      <td>900</td>\n      <td>28.392095</td>\n      <td>77.267223</td>\n      <td>3</td>\n      <td>2</td>\n      <td>1.0</td>\n      <td>Ready to Move</td>\n      <td>Resale</td>\n      <td>1.0</td>\n      <td>Semi-Furnished</td>\n      <td>0.0</td>\n      <td>Schools/Play Schools/ Shopping center/Banks in...</td>\n      <td>Flat</td>\n      <td>\\n                    \\n                    \\n...</td>\n      <td>5111.111111</td>\n    </tr>\n    <tr>\n      <th>325</th>\n      <td>7499</td>\n      <td>7000000</td>\n      <td>Sector 6 Vaishali, Ghaziabad, Delhi NCR</td>\n      <td>1200</td>\n      <td>28.648588</td>\n      <td>77.353339</td>\n      <td>3</td>\n      <td>2</td>\n      <td>2.0</td>\n      <td>Ready to Move</td>\n      <td>Resale</td>\n      <td>1.0</td>\n      <td>Furnished</td>\n      <td>0.0</td>\n      <td>1.5Kms away from Vaishali Metro Station. 2 Kms...</td>\n      <td>Flat</td>\n      <td>\\n                    \\n                    \\n...</td>\n      <td>5833.333333</td>\n    </tr>\n    <tr>\n      <th>326</th>\n      <td>7537</td>\n      <td>4000000</td>\n      <td>17. th floor, Sector 134, Noida, Delhi NCR</td>\n      <td>942</td>\n      <td>28.500751</td>\n      <td>77.380900</td>\n      <td>2</td>\n      <td>2</td>\n      <td>1.0</td>\n      <td>Ready to Move</td>\n      <td>Resale</td>\n      <td>1.0</td>\n      <td>Unfurnished</td>\n      <td>2.0</td>\n      <td>Multiple schools, corporate offices and reside...</td>\n      <td>Flat</td>\n      <td>\\n                    \\n                    \\n...</td>\n      <td>4246.284501</td>\n    </tr>\n    <tr>\n      <th>327</th>\n      <td>7663</td>\n      <td>14100000</td>\n      <td>Rajendra Nagar Ghaziabad, Gulmohur Greens, Gha...</td>\n      <td>2550</td>\n      <td>28.636213</td>\n      <td>77.433601</td>\n      <td>3</td>\n      <td>3</td>\n      <td>3.0</td>\n      <td>Ready to Move</td>\n      <td>Resale</td>\n      <td>2.0</td>\n      <td>Semi-Furnished</td>\n      <td>2.0</td>\n      <td>Near Hindon Airforce Station</td>\n      <td>Flat</td>\n      <td>\\n                    \\n                    \\n...</td>\n      <td>5529.411765</td>\n    </tr>\n    <tr>\n      <th>328</th>\n      <td>7709</td>\n      <td>8500000</td>\n      <td>Indirapuram, Ghaziabad, Ahinsa Khand 2, Ghazia...</td>\n      <td>1592</td>\n      <td>28.646700</td>\n      <td>77.382332</td>\n      <td>3</td>\n      <td>2</td>\n      <td>2.0</td>\n      <td>Ready to Move</td>\n      <td>Resale</td>\n      <td>1.0</td>\n      <td>Semi-Furnished</td>\n      <td>2.0</td>\n      <td>DPS School</td>\n      <td>Individual House</td>\n      <td>\\n                    \\n                    \\n...</td>\n      <td>5339.195980</td>\n    </tr>\n  </tbody>\n</table>\n<p>329 rows × 18 columns</p>\n</div>"
     },
     "execution_count": 75,
     "metadata": {},
     "output_type": "execute_result"
    }
   ],
   "source": [
    "data"
   ]
  },
  {
   "cell_type": "code",
   "execution_count": 75,
   "id": "69443cef",
   "metadata": {
    "ExecuteTime": {
     "end_time": "2023-10-03T19:26:09.219842Z",
     "start_time": "2023-10-03T19:26:08.957407Z"
    }
   },
   "outputs": [],
   "source": []
  },
  {
   "cell_type": "code",
   "execution_count": 76,
   "id": "3b7c4f1e",
   "metadata": {
    "ExecuteTime": {
     "end_time": "2023-10-03T19:26:09.220070Z",
     "start_time": "2023-10-03T19:26:08.961552Z"
    }
   },
   "outputs": [
    {
     "name": "stdout",
     "output_type": "stream",
     "text": [
      "<class 'pandas.core.frame.DataFrame'>\n",
      "RangeIndex: 329 entries, 0 to 328\n",
      "Data columns (total 18 columns):\n",
      " #   Column            Non-Null Count  Dtype  \n",
      "---  ------            --------------  -----  \n",
      " 0   Unnamed: 0        329 non-null    int64  \n",
      " 1   price             329 non-null    int64  \n",
      " 2   Address           329 non-null    object \n",
      " 3   area              329 non-null    int64  \n",
      " 4   latitude          329 non-null    float64\n",
      " 5   longitude         329 non-null    float64\n",
      " 6   Bedrooms          329 non-null    int64  \n",
      " 7   Bathrooms         329 non-null    int64  \n",
      " 8   Balcony           329 non-null    float64\n",
      " 9   Status            329 non-null    object \n",
      " 10  neworold          329 non-null    object \n",
      " 11  parking           329 non-null    float64\n",
      " 12  Furnished_status  329 non-null    object \n",
      " 13  Lift              329 non-null    float64\n",
      " 14  Landmarks         329 non-null    object \n",
      " 15  type_of_building  329 non-null    object \n",
      " 16  desc              329 non-null    object \n",
      " 17  Price_sqft        329 non-null    float64\n",
      "dtypes: float64(6), int64(5), object(7)\n",
      "memory usage: 46.4+ KB\n"
     ]
    }
   ],
   "source": [
    "data.info()"
   ]
  },
  {
   "cell_type": "code",
   "execution_count": 77,
   "id": "59b1c29c",
   "metadata": {
    "ExecuteTime": {
     "end_time": "2023-10-03T19:26:09.220125Z",
     "start_time": "2023-10-03T19:26:08.964364Z"
    }
   },
   "outputs": [],
   "source": [
    "\n",
    "data=data[['area','Bedrooms','Bathrooms','Balcony','type_of_building','Furnished_status','Price_sqft','price']]"
   ]
  },
  {
   "cell_type": "code",
   "execution_count": 78,
   "id": "9c31fe85",
   "metadata": {
    "ExecuteTime": {
     "end_time": "2023-10-03T19:26:09.220443Z",
     "start_time": "2023-10-03T19:26:08.969241Z"
    }
   },
   "outputs": [
    {
     "data": {
      "text/plain": "     area  Bedrooms  Bathrooms  Balcony  type_of_building Furnished_status  \\\n0     850         3          2      1.0              Flat   Semi-Furnished   \n1    1000         3          2      1.0  Individual House   Semi-Furnished   \n2    1450         4          3      1.0  Individual House   Semi-Furnished   \n3    1087         2          2      2.0              Flat   Semi-Furnished   \n4    1481         2          2      2.0              Flat      Unfurnished   \n..    ...       ...        ...      ...               ...              ...   \n324   900         3          2      1.0              Flat   Semi-Furnished   \n325  1200         3          2      2.0              Flat        Furnished   \n326   942         2          2      1.0              Flat      Unfurnished   \n327  2550         3          3      3.0              Flat   Semi-Furnished   \n328  1592         3          2      2.0  Individual House   Semi-Furnished   \n\n       Price_sqft     price  \n0     8588.235294   7300000  \n1     9500.000000   9500000  \n2    10344.827590  15000000  \n3     4691.812328   5100000  \n4     6076.975017   9000000  \n..            ...       ...  \n324   5111.111111   4600000  \n325   5833.333333   7000000  \n326   4246.284501   4000000  \n327   5529.411765  14100000  \n328   5339.195980   8500000  \n\n[329 rows x 8 columns]",
      "text/html": "<div>\n<style scoped>\n    .dataframe tbody tr th:only-of-type {\n        vertical-align: middle;\n    }\n\n    .dataframe tbody tr th {\n        vertical-align: top;\n    }\n\n    .dataframe thead th {\n        text-align: right;\n    }\n</style>\n<table border=\"1\" class=\"dataframe\">\n  <thead>\n    <tr style=\"text-align: right;\">\n      <th></th>\n      <th>area</th>\n      <th>Bedrooms</th>\n      <th>Bathrooms</th>\n      <th>Balcony</th>\n      <th>type_of_building</th>\n      <th>Furnished_status</th>\n      <th>Price_sqft</th>\n      <th>price</th>\n    </tr>\n  </thead>\n  <tbody>\n    <tr>\n      <th>0</th>\n      <td>850</td>\n      <td>3</td>\n      <td>2</td>\n      <td>1.0</td>\n      <td>Flat</td>\n      <td>Semi-Furnished</td>\n      <td>8588.235294</td>\n      <td>7300000</td>\n    </tr>\n    <tr>\n      <th>1</th>\n      <td>1000</td>\n      <td>3</td>\n      <td>2</td>\n      <td>1.0</td>\n      <td>Individual House</td>\n      <td>Semi-Furnished</td>\n      <td>9500.000000</td>\n      <td>9500000</td>\n    </tr>\n    <tr>\n      <th>2</th>\n      <td>1450</td>\n      <td>4</td>\n      <td>3</td>\n      <td>1.0</td>\n      <td>Individual House</td>\n      <td>Semi-Furnished</td>\n      <td>10344.827590</td>\n      <td>15000000</td>\n    </tr>\n    <tr>\n      <th>3</th>\n      <td>1087</td>\n      <td>2</td>\n      <td>2</td>\n      <td>2.0</td>\n      <td>Flat</td>\n      <td>Semi-Furnished</td>\n      <td>4691.812328</td>\n      <td>5100000</td>\n    </tr>\n    <tr>\n      <th>4</th>\n      <td>1481</td>\n      <td>2</td>\n      <td>2</td>\n      <td>2.0</td>\n      <td>Flat</td>\n      <td>Unfurnished</td>\n      <td>6076.975017</td>\n      <td>9000000</td>\n    </tr>\n    <tr>\n      <th>...</th>\n      <td>...</td>\n      <td>...</td>\n      <td>...</td>\n      <td>...</td>\n      <td>...</td>\n      <td>...</td>\n      <td>...</td>\n      <td>...</td>\n    </tr>\n    <tr>\n      <th>324</th>\n      <td>900</td>\n      <td>3</td>\n      <td>2</td>\n      <td>1.0</td>\n      <td>Flat</td>\n      <td>Semi-Furnished</td>\n      <td>5111.111111</td>\n      <td>4600000</td>\n    </tr>\n    <tr>\n      <th>325</th>\n      <td>1200</td>\n      <td>3</td>\n      <td>2</td>\n      <td>2.0</td>\n      <td>Flat</td>\n      <td>Furnished</td>\n      <td>5833.333333</td>\n      <td>7000000</td>\n    </tr>\n    <tr>\n      <th>326</th>\n      <td>942</td>\n      <td>2</td>\n      <td>2</td>\n      <td>1.0</td>\n      <td>Flat</td>\n      <td>Unfurnished</td>\n      <td>4246.284501</td>\n      <td>4000000</td>\n    </tr>\n    <tr>\n      <th>327</th>\n      <td>2550</td>\n      <td>3</td>\n      <td>3</td>\n      <td>3.0</td>\n      <td>Flat</td>\n      <td>Semi-Furnished</td>\n      <td>5529.411765</td>\n      <td>14100000</td>\n    </tr>\n    <tr>\n      <th>328</th>\n      <td>1592</td>\n      <td>3</td>\n      <td>2</td>\n      <td>2.0</td>\n      <td>Individual House</td>\n      <td>Semi-Furnished</td>\n      <td>5339.195980</td>\n      <td>8500000</td>\n    </tr>\n  </tbody>\n</table>\n<p>329 rows × 8 columns</p>\n</div>"
     },
     "execution_count": 78,
     "metadata": {},
     "output_type": "execute_result"
    }
   ],
   "source": [
    "data"
   ]
  },
  {
   "cell_type": "code",
   "execution_count": 79,
   "id": "37eab239",
   "metadata": {
    "ExecuteTime": {
     "end_time": "2023-10-03T19:26:09.220555Z",
     "start_time": "2023-10-03T19:26:08.973457Z"
    }
   },
   "outputs": [
    {
     "data": {
      "text/plain": "area                0\nBedrooms            0\nBathrooms           0\nBalcony             0\ntype_of_building    0\nFurnished_status    0\nPrice_sqft          0\nprice               0\ndtype: int64"
     },
     "execution_count": 79,
     "metadata": {},
     "output_type": "execute_result"
    }
   ],
   "source": [
    "data.isnull().sum()"
   ]
  },
  {
   "cell_type": "code",
   "execution_count": 80,
   "id": "9f288a17",
   "metadata": {
    "ExecuteTime": {
     "end_time": "2023-10-03T19:26:09.220641Z",
     "start_time": "2023-10-03T19:26:08.975887Z"
    }
   },
   "outputs": [
    {
     "data": {
      "text/plain": "7"
     },
     "execution_count": 80,
     "metadata": {},
     "output_type": "execute_result"
    }
   ],
   "source": [
    "data.duplicated().sum()"
   ]
  },
  {
   "cell_type": "code",
   "execution_count": 81,
   "id": "35a29c7e",
   "metadata": {
    "ExecuteTime": {
     "end_time": "2023-10-03T19:26:09.220685Z",
     "start_time": "2023-10-03T19:26:08.978846Z"
    }
   },
   "outputs": [],
   "source": [
    "data=data.drop_duplicates()"
   ]
  },
  {
   "cell_type": "code",
   "execution_count": 82,
   "id": "bb649c24",
   "metadata": {
    "ExecuteTime": {
     "end_time": "2023-10-03T19:26:09.221547Z",
     "start_time": "2023-10-03T19:26:08.984297Z"
    }
   },
   "outputs": [
    {
     "data": {
      "text/plain": "     area  Bedrooms  Bathrooms  Balcony  type_of_building Furnished_status  \\\n0     850         3          2      1.0              Flat   Semi-Furnished   \n1    1000         3          2      1.0  Individual House   Semi-Furnished   \n2    1450         4          3      1.0  Individual House   Semi-Furnished   \n3    1087         2          2      2.0              Flat   Semi-Furnished   \n4    1481         2          2      2.0              Flat      Unfurnished   \n..    ...       ...        ...      ...               ...              ...   \n324   900         3          2      1.0              Flat   Semi-Furnished   \n325  1200         3          2      2.0              Flat        Furnished   \n326   942         2          2      1.0              Flat      Unfurnished   \n327  2550         3          3      3.0              Flat   Semi-Furnished   \n328  1592         3          2      2.0  Individual House   Semi-Furnished   \n\n       Price_sqft     price  \n0     8588.235294   7300000  \n1     9500.000000   9500000  \n2    10344.827590  15000000  \n3     4691.812328   5100000  \n4     6076.975017   9000000  \n..            ...       ...  \n324   5111.111111   4600000  \n325   5833.333333   7000000  \n326   4246.284501   4000000  \n327   5529.411765  14100000  \n328   5339.195980   8500000  \n\n[322 rows x 8 columns]",
      "text/html": "<div>\n<style scoped>\n    .dataframe tbody tr th:only-of-type {\n        vertical-align: middle;\n    }\n\n    .dataframe tbody tr th {\n        vertical-align: top;\n    }\n\n    .dataframe thead th {\n        text-align: right;\n    }\n</style>\n<table border=\"1\" class=\"dataframe\">\n  <thead>\n    <tr style=\"text-align: right;\">\n      <th></th>\n      <th>area</th>\n      <th>Bedrooms</th>\n      <th>Bathrooms</th>\n      <th>Balcony</th>\n      <th>type_of_building</th>\n      <th>Furnished_status</th>\n      <th>Price_sqft</th>\n      <th>price</th>\n    </tr>\n  </thead>\n  <tbody>\n    <tr>\n      <th>0</th>\n      <td>850</td>\n      <td>3</td>\n      <td>2</td>\n      <td>1.0</td>\n      <td>Flat</td>\n      <td>Semi-Furnished</td>\n      <td>8588.235294</td>\n      <td>7300000</td>\n    </tr>\n    <tr>\n      <th>1</th>\n      <td>1000</td>\n      <td>3</td>\n      <td>2</td>\n      <td>1.0</td>\n      <td>Individual House</td>\n      <td>Semi-Furnished</td>\n      <td>9500.000000</td>\n      <td>9500000</td>\n    </tr>\n    <tr>\n      <th>2</th>\n      <td>1450</td>\n      <td>4</td>\n      <td>3</td>\n      <td>1.0</td>\n      <td>Individual House</td>\n      <td>Semi-Furnished</td>\n      <td>10344.827590</td>\n      <td>15000000</td>\n    </tr>\n    <tr>\n      <th>3</th>\n      <td>1087</td>\n      <td>2</td>\n      <td>2</td>\n      <td>2.0</td>\n      <td>Flat</td>\n      <td>Semi-Furnished</td>\n      <td>4691.812328</td>\n      <td>5100000</td>\n    </tr>\n    <tr>\n      <th>4</th>\n      <td>1481</td>\n      <td>2</td>\n      <td>2</td>\n      <td>2.0</td>\n      <td>Flat</td>\n      <td>Unfurnished</td>\n      <td>6076.975017</td>\n      <td>9000000</td>\n    </tr>\n    <tr>\n      <th>...</th>\n      <td>...</td>\n      <td>...</td>\n      <td>...</td>\n      <td>...</td>\n      <td>...</td>\n      <td>...</td>\n      <td>...</td>\n      <td>...</td>\n    </tr>\n    <tr>\n      <th>324</th>\n      <td>900</td>\n      <td>3</td>\n      <td>2</td>\n      <td>1.0</td>\n      <td>Flat</td>\n      <td>Semi-Furnished</td>\n      <td>5111.111111</td>\n      <td>4600000</td>\n    </tr>\n    <tr>\n      <th>325</th>\n      <td>1200</td>\n      <td>3</td>\n      <td>2</td>\n      <td>2.0</td>\n      <td>Flat</td>\n      <td>Furnished</td>\n      <td>5833.333333</td>\n      <td>7000000</td>\n    </tr>\n    <tr>\n      <th>326</th>\n      <td>942</td>\n      <td>2</td>\n      <td>2</td>\n      <td>1.0</td>\n      <td>Flat</td>\n      <td>Unfurnished</td>\n      <td>4246.284501</td>\n      <td>4000000</td>\n    </tr>\n    <tr>\n      <th>327</th>\n      <td>2550</td>\n      <td>3</td>\n      <td>3</td>\n      <td>3.0</td>\n      <td>Flat</td>\n      <td>Semi-Furnished</td>\n      <td>5529.411765</td>\n      <td>14100000</td>\n    </tr>\n    <tr>\n      <th>328</th>\n      <td>1592</td>\n      <td>3</td>\n      <td>2</td>\n      <td>2.0</td>\n      <td>Individual House</td>\n      <td>Semi-Furnished</td>\n      <td>5339.195980</td>\n      <td>8500000</td>\n    </tr>\n  </tbody>\n</table>\n<p>322 rows × 8 columns</p>\n</div>"
     },
     "execution_count": 82,
     "metadata": {},
     "output_type": "execute_result"
    }
   ],
   "source": [
    "data"
   ]
  },
  {
   "cell_type": "code",
   "execution_count": 83,
   "id": "f107b3c9",
   "metadata": {
    "ExecuteTime": {
     "end_time": "2023-10-03T19:26:09.221701Z",
     "start_time": "2023-10-03T19:26:08.986406Z"
    }
   },
   "outputs": [
    {
     "data": {
      "text/plain": "0"
     },
     "execution_count": 83,
     "metadata": {},
     "output_type": "execute_result"
    }
   ],
   "source": [
    "data.duplicated().sum()"
   ]
  },
  {
   "cell_type": "code",
   "execution_count": 84,
   "id": "4ea8da4b",
   "metadata": {
    "ExecuteTime": {
     "end_time": "2023-10-03T19:26:09.221982Z",
     "start_time": "2023-10-03T19:26:08.989680Z"
    }
   },
   "outputs": [
    {
     "data": {
      "text/plain": "            count          mean           std           min           25%  \\\narea        322.0  1.535398e+03  7.469509e+02  5.400000e+02  1.000000e+03   \nBedrooms    322.0  2.881988e+00  7.180701e-01  2.000000e+00  2.000000e+00   \nBathrooms   322.0  2.636646e+00  8.399814e-01  2.000000e+00  2.000000e+00   \nBalcony     322.0  2.046584e+00  9.957875e-01  1.000000e+00  1.000000e+00   \nPrice_sqft  322.0  6.706306e+03  3.224009e+03  2.599244e+03  4.484403e+03   \nprice       322.0  1.127311e+07  9.728892e+06  1.950000e+06  4.700000e+06   \n\n                     50%           75%           max  \narea        1.322500e+03  1.880000e+03  4.545000e+03  \nBedrooms    3.000000e+00  3.000000e+00  5.000000e+00  \nBathrooms   2.000000e+00  3.000000e+00  6.000000e+00  \nBalcony     2.000000e+00  3.000000e+00  5.000000e+00  \nPrice_sqft  5.812920e+03  8.229665e+03  2.407407e+04  \nprice       7.500000e+06  1.440000e+07  6.500000e+07  ",
      "text/html": "<div>\n<style scoped>\n    .dataframe tbody tr th:only-of-type {\n        vertical-align: middle;\n    }\n\n    .dataframe tbody tr th {\n        vertical-align: top;\n    }\n\n    .dataframe thead th {\n        text-align: right;\n    }\n</style>\n<table border=\"1\" class=\"dataframe\">\n  <thead>\n    <tr style=\"text-align: right;\">\n      <th></th>\n      <th>count</th>\n      <th>mean</th>\n      <th>std</th>\n      <th>min</th>\n      <th>25%</th>\n      <th>50%</th>\n      <th>75%</th>\n      <th>max</th>\n    </tr>\n  </thead>\n  <tbody>\n    <tr>\n      <th>area</th>\n      <td>322.0</td>\n      <td>1.535398e+03</td>\n      <td>7.469509e+02</td>\n      <td>5.400000e+02</td>\n      <td>1.000000e+03</td>\n      <td>1.322500e+03</td>\n      <td>1.880000e+03</td>\n      <td>4.545000e+03</td>\n    </tr>\n    <tr>\n      <th>Bedrooms</th>\n      <td>322.0</td>\n      <td>2.881988e+00</td>\n      <td>7.180701e-01</td>\n      <td>2.000000e+00</td>\n      <td>2.000000e+00</td>\n      <td>3.000000e+00</td>\n      <td>3.000000e+00</td>\n      <td>5.000000e+00</td>\n    </tr>\n    <tr>\n      <th>Bathrooms</th>\n      <td>322.0</td>\n      <td>2.636646e+00</td>\n      <td>8.399814e-01</td>\n      <td>2.000000e+00</td>\n      <td>2.000000e+00</td>\n      <td>2.000000e+00</td>\n      <td>3.000000e+00</td>\n      <td>6.000000e+00</td>\n    </tr>\n    <tr>\n      <th>Balcony</th>\n      <td>322.0</td>\n      <td>2.046584e+00</td>\n      <td>9.957875e-01</td>\n      <td>1.000000e+00</td>\n      <td>1.000000e+00</td>\n      <td>2.000000e+00</td>\n      <td>3.000000e+00</td>\n      <td>5.000000e+00</td>\n    </tr>\n    <tr>\n      <th>Price_sqft</th>\n      <td>322.0</td>\n      <td>6.706306e+03</td>\n      <td>3.224009e+03</td>\n      <td>2.599244e+03</td>\n      <td>4.484403e+03</td>\n      <td>5.812920e+03</td>\n      <td>8.229665e+03</td>\n      <td>2.407407e+04</td>\n    </tr>\n    <tr>\n      <th>price</th>\n      <td>322.0</td>\n      <td>1.127311e+07</td>\n      <td>9.728892e+06</td>\n      <td>1.950000e+06</td>\n      <td>4.700000e+06</td>\n      <td>7.500000e+06</td>\n      <td>1.440000e+07</td>\n      <td>6.500000e+07</td>\n    </tr>\n  </tbody>\n</table>\n</div>"
     },
     "execution_count": 84,
     "metadata": {},
     "output_type": "execute_result"
    }
   ],
   "source": [
    "data.describe().transpose()"
   ]
  },
  {
   "cell_type": "code",
   "execution_count": 84,
   "id": "4dd36513",
   "metadata": {
    "ExecuteTime": {
     "end_time": "2023-10-03T19:26:09.222041Z",
     "start_time": "2023-10-03T19:26:08.996639Z"
    }
   },
   "outputs": [],
   "source": []
  },
  {
   "cell_type": "code",
   "execution_count": 85,
   "id": "beaccce7",
   "metadata": {
    "ExecuteTime": {
     "end_time": "2023-10-03T19:26:09.350433Z",
     "start_time": "2023-10-03T19:26:09.000168Z"
    }
   },
   "outputs": [
    {
     "data": {
      "text/plain": "<Axes: xlabel='Balcony', ylabel='Bedrooms'>"
     },
     "execution_count": 85,
     "metadata": {},
     "output_type": "execute_result"
    },
    {
     "data": {
      "text/plain": "<Figure size 640x480 with 1 Axes>",
      "image/png": "[encoded data removed]"
     },
     "metadata": {},
     "output_type": "display_data"
    }
   ],
   "source": [
    "sns.barplot(x=data['Balcony'],y=data['Bedrooms'],hue=data['Furnished_status'])"
   ]
  },
  {
   "cell_type": "code",
   "execution_count": 86,
   "id": "00363630",
   "metadata": {
    "ExecuteTime": {
     "end_time": "2023-10-03T19:26:09.959806Z",
     "start_time": "2023-10-03T19:26:09.208765Z"
    }
   },
   "outputs": [
    {
     "data": {
      "text/plain": "<seaborn.axisgrid.JointGrid at 0x16df803d0>"
     },
     "execution_count": 86,
     "metadata": {},
     "output_type": "execute_result"
    },
    {
     "data": {
      "text/plain": "<Figure size 600x600 with 3 Axes>",
      "image/png": "[encoded data removed]"
     },
     "metadata": {},
     "output_type": "display_data"
    }
   ],
   "source": [
    "sns.jointplot(x=data['price'],y=data['area'])"
   ]
  },
  {
   "cell_type": "code",
   "execution_count": 87,
   "id": "cfd1ecfa",
   "metadata": {
    "ExecuteTime": {
     "end_time": "2023-10-03T19:26:10.084272Z",
     "start_time": "2023-10-03T19:26:09.473403Z"
    }
   },
   "outputs": [
    {
     "ename": "ValueError",
     "evalue": "could not convert string to float: 'Flat'",
     "output_type": "error",
     "traceback": [
      "\u001B[0;31m---------------------------------------------------------------------------\u001B[0m",
      "\u001B[0;31mValueError\u001B[0m                                Traceback (most recent call last)",
      "Cell \u001B[0;32mIn[87], line 1\u001B[0m\n\u001B[0;32m----> 1\u001B[0m sns\u001B[38;5;241m.\u001B[39mheatmap(\u001B[43mdata\u001B[49m\u001B[38;5;241;43m.\u001B[39;49m\u001B[43mcorr\u001B[49m\u001B[43m(\u001B[49m\u001B[43m)\u001B[49m,cmap\u001B[38;5;241m=\u001B[39m\u001B[38;5;124m'\u001B[39m\u001B[38;5;124mcrest\u001B[39m\u001B[38;5;124m'\u001B[39m,annot\u001B[38;5;241m=\u001B[39m\u001B[38;5;28;01mTrue\u001B[39;00m)\n",
      "File \u001B[0;32m/Library/Frameworks/Python.framework/Versions/3.11/lib/python3.11/site-packages/pandas/core/frame.py:10054\u001B[0m, in \u001B[0;36mDataFrame.corr\u001B[0;34m(self, method, min_periods, numeric_only)\u001B[0m\n\u001B[1;32m  10052\u001B[0m cols \u001B[38;5;241m=\u001B[39m data\u001B[38;5;241m.\u001B[39mcolumns\n\u001B[1;32m  10053\u001B[0m idx \u001B[38;5;241m=\u001B[39m cols\u001B[38;5;241m.\u001B[39mcopy()\n\u001B[0;32m> 10054\u001B[0m mat \u001B[38;5;241m=\u001B[39m \u001B[43mdata\u001B[49m\u001B[38;5;241;43m.\u001B[39;49m\u001B[43mto_numpy\u001B[49m\u001B[43m(\u001B[49m\u001B[43mdtype\u001B[49m\u001B[38;5;241;43m=\u001B[39;49m\u001B[38;5;28;43mfloat\u001B[39;49m\u001B[43m,\u001B[49m\u001B[43m \u001B[49m\u001B[43mna_value\u001B[49m\u001B[38;5;241;43m=\u001B[39;49m\u001B[43mnp\u001B[49m\u001B[38;5;241;43m.\u001B[39;49m\u001B[43mnan\u001B[49m\u001B[43m,\u001B[49m\u001B[43m \u001B[49m\u001B[43mcopy\u001B[49m\u001B[38;5;241;43m=\u001B[39;49m\u001B[38;5;28;43;01mFalse\u001B[39;49;00m\u001B[43m)\u001B[49m\n\u001B[1;32m  10056\u001B[0m \u001B[38;5;28;01mif\u001B[39;00m method \u001B[38;5;241m==\u001B[39m \u001B[38;5;124m\"\u001B[39m\u001B[38;5;124mpearson\u001B[39m\u001B[38;5;124m\"\u001B[39m:\n\u001B[1;32m  10057\u001B[0m     correl \u001B[38;5;241m=\u001B[39m libalgos\u001B[38;5;241m.\u001B[39mnancorr(mat, minp\u001B[38;5;241m=\u001B[39mmin_periods)\n",
      "File \u001B[0;32m/Library/Frameworks/Python.framework/Versions/3.11/lib/python3.11/site-packages/pandas/core/frame.py:1838\u001B[0m, in \u001B[0;36mDataFrame.to_numpy\u001B[0;34m(self, dtype, copy, na_value)\u001B[0m\n\u001B[1;32m   1836\u001B[0m \u001B[38;5;28;01mif\u001B[39;00m dtype \u001B[38;5;129;01mis\u001B[39;00m \u001B[38;5;129;01mnot\u001B[39;00m \u001B[38;5;28;01mNone\u001B[39;00m:\n\u001B[1;32m   1837\u001B[0m     dtype \u001B[38;5;241m=\u001B[39m np\u001B[38;5;241m.\u001B[39mdtype(dtype)\n\u001B[0;32m-> 1838\u001B[0m result \u001B[38;5;241m=\u001B[39m \u001B[38;5;28;43mself\u001B[39;49m\u001B[38;5;241;43m.\u001B[39;49m\u001B[43m_mgr\u001B[49m\u001B[38;5;241;43m.\u001B[39;49m\u001B[43mas_array\u001B[49m\u001B[43m(\u001B[49m\u001B[43mdtype\u001B[49m\u001B[38;5;241;43m=\u001B[39;49m\u001B[43mdtype\u001B[49m\u001B[43m,\u001B[49m\u001B[43m \u001B[49m\u001B[43mcopy\u001B[49m\u001B[38;5;241;43m=\u001B[39;49m\u001B[43mcopy\u001B[49m\u001B[43m,\u001B[49m\u001B[43m \u001B[49m\u001B[43mna_value\u001B[49m\u001B[38;5;241;43m=\u001B[39;49m\u001B[43mna_value\u001B[49m\u001B[43m)\u001B[49m\n\u001B[1;32m   1839\u001B[0m \u001B[38;5;28;01mif\u001B[39;00m result\u001B[38;5;241m.\u001B[39mdtype \u001B[38;5;129;01mis\u001B[39;00m \u001B[38;5;129;01mnot\u001B[39;00m dtype:\n\u001B[1;32m   1840\u001B[0m     result \u001B[38;5;241m=\u001B[39m np\u001B[38;5;241m.\u001B[39marray(result, dtype\u001B[38;5;241m=\u001B[39mdtype, copy\u001B[38;5;241m=\u001B[39m\u001B[38;5;28;01mFalse\u001B[39;00m)\n",
      "File \u001B[0;32m/Library/Frameworks/Python.framework/Versions/3.11/lib/python3.11/site-packages/pandas/core/internals/managers.py:1732\u001B[0m, in \u001B[0;36mBlockManager.as_array\u001B[0;34m(self, dtype, copy, na_value)\u001B[0m\n\u001B[1;32m   1730\u001B[0m         arr\u001B[38;5;241m.\u001B[39mflags\u001B[38;5;241m.\u001B[39mwriteable \u001B[38;5;241m=\u001B[39m \u001B[38;5;28;01mFalse\u001B[39;00m\n\u001B[1;32m   1731\u001B[0m \u001B[38;5;28;01melse\u001B[39;00m:\n\u001B[0;32m-> 1732\u001B[0m     arr \u001B[38;5;241m=\u001B[39m \u001B[38;5;28;43mself\u001B[39;49m\u001B[38;5;241;43m.\u001B[39;49m\u001B[43m_interleave\u001B[49m\u001B[43m(\u001B[49m\u001B[43mdtype\u001B[49m\u001B[38;5;241;43m=\u001B[39;49m\u001B[43mdtype\u001B[49m\u001B[43m,\u001B[49m\u001B[43m \u001B[49m\u001B[43mna_value\u001B[49m\u001B[38;5;241;43m=\u001B[39;49m\u001B[43mna_value\u001B[49m\u001B[43m)\u001B[49m\n\u001B[1;32m   1733\u001B[0m     \u001B[38;5;66;03m# The underlying data was copied within _interleave, so no need\u001B[39;00m\n\u001B[1;32m   1734\u001B[0m     \u001B[38;5;66;03m# to further copy if copy=True or setting na_value\u001B[39;00m\n\u001B[1;32m   1736\u001B[0m \u001B[38;5;28;01mif\u001B[39;00m na_value \u001B[38;5;129;01mis\u001B[39;00m \u001B[38;5;129;01mnot\u001B[39;00m lib\u001B[38;5;241m.\u001B[39mno_default:\n",
      "File \u001B[0;32m/Library/Frameworks/Python.framework/Versions/3.11/lib/python3.11/site-packages/pandas/core/internals/managers.py:1794\u001B[0m, in \u001B[0;36mBlockManager._interleave\u001B[0;34m(self, dtype, na_value)\u001B[0m\n\u001B[1;32m   1792\u001B[0m     \u001B[38;5;28;01melse\u001B[39;00m:\n\u001B[1;32m   1793\u001B[0m         arr \u001B[38;5;241m=\u001B[39m blk\u001B[38;5;241m.\u001B[39mget_values(dtype)\n\u001B[0;32m-> 1794\u001B[0m     \u001B[43mresult\u001B[49m\u001B[43m[\u001B[49m\u001B[43mrl\u001B[49m\u001B[38;5;241;43m.\u001B[39;49m\u001B[43mindexer\u001B[49m\u001B[43m]\u001B[49m \u001B[38;5;241m=\u001B[39m arr\n\u001B[1;32m   1795\u001B[0m     itemmask[rl\u001B[38;5;241m.\u001B[39mindexer] \u001B[38;5;241m=\u001B[39m \u001B[38;5;241m1\u001B[39m\n\u001B[1;32m   1797\u001B[0m \u001B[38;5;28;01mif\u001B[39;00m \u001B[38;5;129;01mnot\u001B[39;00m itemmask\u001B[38;5;241m.\u001B[39mall():\n",
      "\u001B[0;31mValueError\u001B[0m: could not convert string to float: 'Flat'"
     ]
    }
   ],
   "source": [
    "sns.heatmap(data.corr(),cmap='crest',annot=True)"
   ]
  },
  {
   "cell_type": "code",
   "execution_count": null,
   "id": "772a2b30",
   "metadata": {
    "ExecuteTime": {
     "start_time": "2023-10-03T19:26:09.515391Z"
    }
   },
   "outputs": [],
   "source": [
    "sns.histplot(x=data['price'])"
   ]
  },
  {
   "cell_type": "code",
   "execution_count": null,
   "id": "a1545e87",
   "metadata": {
    "ExecuteTime": {
     "start_time": "2023-10-03T19:26:09.517254Z"
    }
   },
   "outputs": [],
   "source": [
    "data.info()"
   ]
  },
  {
   "cell_type": "markdown",
   "id": "af486d4b",
   "metadata": {},
   "source": [
    "### CONVERTING CATEGORICAL FEATURES INTO NUMERICAL FEATURES"
   ]
  },
  {
   "cell_type": "code",
   "execution_count": null,
   "id": "98e93b1c",
   "metadata": {
    "ExecuteTime": {
     "start_time": "2023-10-03T19:26:09.519764Z"
    }
   },
   "outputs": [],
   "source": [
    "from sklearn.preprocessing import LabelEncoder\n",
    "cols=['type_of_building','Furnished_status']\n",
    "le=LabelEncoder()\n",
    "for col in cols:\n",
    "    data[col]=le.fit_transform(data[col])"
   ]
  },
  {
   "cell_type": "code",
   "execution_count": null,
   "id": "fce82478",
   "metadata": {
    "ExecuteTime": {
     "start_time": "2023-10-03T19:26:09.521690Z"
    }
   },
   "outputs": [],
   "source": [
    "data\n"
   ]
  },
  {
   "cell_type": "markdown",
   "id": "ad1564f8",
   "metadata": {},
   "source": [
    "### TRAINING"
   ]
  },
  {
   "cell_type": "code",
   "execution_count": null,
   "id": "d2403800",
   "metadata": {
    "ExecuteTime": {
     "start_time": "2023-10-03T19:26:09.523324Z"
    }
   },
   "outputs": [],
   "source": [
    "from sklearn.model_selection import train_test_split\n",
    "X=data.drop('price',axis=1)\n",
    "y=data['price']\n",
    "X_train, X_test, y_train, y_test = train_test_split(X, y, test_size=0.33, random_state=42)"
   ]
  },
  {
   "cell_type": "code",
   "execution_count": null,
   "id": "bd02b429",
   "metadata": {
    "ExecuteTime": {
     "start_time": "2023-10-03T19:26:09.524788Z"
    }
   },
   "outputs": [],
   "source": [
    "X_train.shape\n"
   ]
  },
  {
   "cell_type": "code",
   "execution_count": null,
   "outputs": [],
   "source": [
    "X_test.shape"
   ],
   "metadata": {
    "collapsed": false,
    "ExecuteTime": {
     "start_time": "2023-10-03T19:26:09.525557Z"
    }
   },
   "id": "9e23ddd2ead60b49"
  },
  {
   "cell_type": "code",
   "execution_count": null,
   "id": "c62fc936",
   "metadata": {
    "ExecuteTime": {
     "start_time": "2023-10-03T19:26:09.526236Z"
    }
   },
   "outputs": [],
   "source": [
    "model=LinearRegression().fit(X_train,y_train)\n",
    "predictions=model.predict(X_test)\n",
    "plt.scatter(y_test,predictions)"
   ]
  },
  {
   "cell_type": "code",
   "execution_count": null,
   "outputs": [],
   "source": [
    "print(model.score(X_tes))"
   ],
   "metadata": {
    "collapsed": false,
    "ExecuteTime": {
     "start_time": "2023-10-03T19:26:09.526876Z"
    }
   },
   "id": "41a32548e92d669d"
  },
  {
   "cell_type": "code",
   "execution_count": null,
   "outputs": [],
   "source": [],
   "metadata": {
    "collapsed": false
   },
   "id": "6471903a4927ed8a"
  },
  {
   "cell_type": "code",
   "execution_count": null,
   "outputs": [],
   "source": [],
   "metadata": {
    "collapsed": false,
    "ExecuteTime": {
     "start_time": "2023-10-03T19:26:09.527505Z"
    }
   },
   "id": "e12498eecee3ecc6"
  }
 ],
 "metadata": {
  "kernelspec": {
   "display_name": "Python 3 (ipykernel)",
   "language": "python",
   "name": "python3"
  },
  "language_info": {
   "codemirror_mode": {
    "name": "ipython",
    "version": 3
   },
   "file_extension": ".py",
   "mimetype": "text/x-python",
   "name": "python",
   "nbconvert_exporter": "python",
   "pygments_lexer": "ipython3",
   "version": "3.11.4"
  }
 },
 "nbformat": 4,
 "nbformat_minor": 5
}
