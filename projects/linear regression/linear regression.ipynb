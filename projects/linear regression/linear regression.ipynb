{
 "cells": [
  {
   "cell_type": "code",
   "execution_count": 1,
   "id": "edd7f719",
   "metadata": {},
   "outputs": [],
   "source": [
    "import numpy as np\n",
    "from sklearn.linear_model import LinearRegression"
   ]
  },
  {
   "cell_type": "code",
   "execution_count": 3,
   "id": "75aff901",
   "metadata": {},
   "outputs": [
    {
     "data": {
      "text/plain": [
       "array([[-4.91050164e-02, -4.46416365e-02,  1.60854917e-01, ...,\n",
       "         2.80165065e-02,  1.13486232e-02,  3.46000000e+02],\n",
       "       [-7.09002471e-02,  5.06801187e-02, -8.91974838e-02, ...,\n",
       "        -1.29079423e-02, -5.49250874e-02,  1.04000000e+02],\n",
       "       [ 1.75052192e-03, -4.46416365e-02, -7.08746786e-02, ...,\n",
       "        -2.25121719e-02,  7.20651633e-03,  4.90000000e+01],\n",
       "       ...,\n",
       "       [ 2.35457526e-02, -4.46416365e-02,  7.03187031e-02, ...,\n",
       "        -1.91970476e-02, -9.36191133e-03,  2.88000000e+02],\n",
       "       [ 1.62806757e-02,  5.06801187e-02,  7.24743273e-02, ...,\n",
       "        -2.36445576e-02,  6.10539062e-02,  1.31000000e+02],\n",
       "       [-9.14709343e-03,  5.06801187e-02, -3.09956318e-02, ...,\n",
       "         6.20931562e-03,  2.79170509e-02,  4.20000000e+01]])"
      ]
     },
     "execution_count": 3,
     "metadata": {},
     "output_type": "execute_result"
    }
   ],
   "source": [
    "data = np.genfromtxt('0000000000002329_training_diabetes_x_y_train.csv',delimiter=',')\n",
    "\n",
    "data"
   ]
  },
  {
   "cell_type": "code",
   "execution_count": 4,
   "id": "b201580f",
   "metadata": {},
   "outputs": [
    {
     "data": {
      "text/plain": [
       "(331, 11)"
      ]
     },
     "execution_count": 4,
     "metadata": {},
     "output_type": "execute_result"
    }
   ],
   "source": [
    "data.shape"
   ]
  },
  {
   "cell_type": "code",
   "execution_count": 5,
   "id": "c1e82fc1",
   "metadata": {},
   "outputs": [],
   "source": [
    "x = data[:,0:10]\n",
    "y = data[:,10]"
   ]
  },
  {
   "cell_type": "code",
   "execution_count": 6,
   "id": "343c66f2",
   "metadata": {},
   "outputs": [
    {
     "data": {
      "text/plain": [
       "(331, 10)"
      ]
     },
     "execution_count": 6,
     "metadata": {},
     "output_type": "execute_result"
    }
   ],
   "source": [
    "x.shape"
   ]
  },
  {
   "cell_type": "code",
   "execution_count": 7,
   "id": "54543eea",
   "metadata": {},
   "outputs": [
    {
     "data": {
      "text/plain": [
       "(331,)"
      ]
     },
     "execution_count": 7,
     "metadata": {},
     "output_type": "execute_result"
    }
   ],
   "source": [
    "y.shape"
   ]
  },
  {
   "cell_type": "code",
   "execution_count": 8,
   "id": "1afb3e20",
   "metadata": {},
   "outputs": [
    {
     "name": "stdout",
     "output_type": "stream",
     "text": [
      "21.734080963775252\n",
      "150.702574894566\n"
     ]
    }
   ],
   "source": [
    "alg = LinearRegression()\n",
    "alg.fit(x,y)\n",
    "print(alg.coef_[0])\n",
    "print(alg.intercept_)"
   ]
  },
  {
   "cell_type": "code",
   "execution_count": 10,
   "id": "bdd5db26",
   "metadata": {},
   "outputs": [
    {
     "data": {
      "text/plain": [
       "array([[ 0.02354575,  0.05068012, -0.0374625 , ..., -0.03949338,\n",
       "        -0.03075121, -0.01350402],\n",
       "       [-0.07816532, -0.04464164, -0.0730303 , ..., -0.03949338,\n",
       "        -0.01811827, -0.08391984],\n",
       "       [-0.03094232,  0.05068012,  0.00133873, ...,  0.1081111 ,\n",
       "         0.08379677,  0.00306441],\n",
       "       ...,\n",
       "       [ 0.0090156 , -0.04464164, -0.01267283, ...,  0.03430886,\n",
       "         0.02337484, -0.0052198 ],\n",
       "       [ 0.01991321, -0.04464164, -0.03422907, ...,  0.03283281,\n",
       "         0.02472532,  0.06933812],\n",
       "       [ 0.01628068,  0.05068012,  0.00996123, ..., -0.03949338,\n",
       "         0.01703713,  0.00720652]])"
      ]
     },
     "execution_count": 10,
     "metadata": {},
     "output_type": "execute_result"
    }
   ],
   "source": [
    "x_test = np.genfromtxt('0000000000002329_test_diabetes_x_test.csv',delimiter=',')\n",
    "x_test"
   ]
  },
  {
   "cell_type": "code",
   "execution_count": null,
   "id": "04c08b8a",
   "metadata": {},
   "outputs": [],
   "source": [
    "y_pred = alg.predict(x_test)\n",
    "yy = np.round(y_pred,decimals=5)\n"
   ]
  }
 ],
 "metadata": {
  "kernelspec": {
   "display_name": "Python 3 (ipykernel)",
   "language": "python",
   "name": "python3"
  },
  "language_info": {
   "codemirror_mode": {
    "name": "ipython",
    "version": 3
   },
   "file_extension": ".py",
   "mimetype": "text/x-python",
   "name": "python",
   "nbconvert_exporter": "python",
   "pygments_lexer": "ipython3",
   "version": "3.9.13"
  }
 },
 "nbformat": 4,
 "nbformat_minor": 5
}
