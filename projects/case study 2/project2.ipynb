{
 "cells": [
  {
   "cell_type": "code",
   "execution_count": 5,
   "id": "a79c91f2",
   "metadata": {
    "ExecuteTime": {
     "end_time": "2023-11-18T18:14:30.915539Z",
     "start_time": "2023-11-18T18:14:30.520600Z"
    }
   },
   "outputs": [
    {
     "data": {
      "text/plain": "<Figure size 640x480 with 1 Axes>",
      "image/png": "[encoded data removed]"
     },
     "metadata": {},
     "output_type": "display_data"
    }
   ],
   "source": [
    "#CASE STUDY 2\n",
    "# question no 1\n",
    "import pandas as pd\n",
    "import numpy as np\n",
    "import matplotlib.pyplot as plt\n",
    "%matplotlib inline\n",
    "\n",
    "\n",
    "df = pd.read_csv('startup_funding.csv',encoding = 'utf-8')\n",
    "# df['CityLocation'].dropna(inplace=True)\n",
    "df.dropna(subset=[\"CityLocation\"],inplace=True)\n",
    "#df.tail()\n",
    "def separateCity(city): \n",
    "    return city.split('/')[0].strip() \n",
    "df['City Location']=df['CityLocation'].apply(separateCity) \n",
    "df[df['CityLocation']=='bangalore'] = 'Bangalore'\n",
    "df[df['CityLocation']=='Delhi'] = 'New Delhi'\n",
    "\n",
    "city = df['CityLocation']\n",
    "city = city.value_counts()[:10]\n",
    "city_name = city.index\n",
    "no_of_str = city.values\n",
    "a = []\n",
    "b = []\n",
    "li = [\"Bangalore\", \"Mumbai\", \"Gurgaon\", \"Noida\", \"New Delhi\"]\n",
    "for i in range(len(city_name)):\n",
    "    if city_name[i] in li:\n",
    "        a.append(city_name[i])\n",
    "        b.append(no_of_str[i])\n",
    "plt.bar(a,b)\n",
    "plt.show()"
   ]
  },
  {
   "cell_type": "code",
   "execution_count": 2,
   "id": "323cd857",
   "metadata": {},
   "outputs": [
    {
     "ename": "TypeError",
     "evalue": "argument of type 'float' is not iterable",
     "output_type": "error",
     "traceback": [
      "\u001B[0;31m---------------------------------------------------------------------------\u001B[0m",
      "\u001B[0;31mTypeError\u001B[0m                                 Traceback (most recent call last)",
      "\u001B[1;32m/Users/siddhu/Downloads/project2 3/project2.ipynb Cell 2\u001B[0m line \u001B[0;36m2\n\u001B[1;32m     <a href='vscode-notebook-cell:/Users/siddhu/Downloads/project2%203/project2.ipynb#W1sZmlsZQ%3D%3D?line=22'>23</a>\u001B[0m                     dictionary[j\u001B[39m.\u001B[39mstrip()] \u001B[39m=\u001B[39m \u001B[39m1\u001B[39m\n\u001B[1;32m     <a href='vscode-notebook-cell:/Users/siddhu/Downloads/project2%203/project2.ipynb#W1sZmlsZQ%3D%3D?line=23'>24</a>\u001B[0m     \u001B[39mreturn\u001B[39;00m dictionary\n\u001B[0;32m---> <a href='vscode-notebook-cell:/Users/siddhu/Downloads/project2%203/project2.ipynb#W1sZmlsZQ%3D%3D?line=25'>26</a>\u001B[0m dictionary \u001B[39m=\u001B[39m createDict(df[\u001B[39m'\u001B[39m\u001B[39mInvestorsName\u001B[39m\u001B[39m'\u001B[39m])\n\u001B[1;32m     <a href='vscode-notebook-cell:/Users/siddhu/Downloads/project2%203/project2.ipynb#W1sZmlsZQ%3D%3D?line=26'>27</a>\u001B[0m dataf \u001B[39m=\u001B[39m pd\u001B[39m.\u001B[39mDataFrame(\u001B[39mlist\u001B[39m(dictionary\u001B[39m.\u001B[39mvalues()),\u001B[39mlist\u001B[39m(dictionary\u001B[39m.\u001B[39mkeys()))\n\u001B[1;32m     <a href='vscode-notebook-cell:/Users/siddhu/Downloads/project2%203/project2.ipynb#W1sZmlsZQ%3D%3D?line=27'>28</a>\u001B[0m dataf \u001B[39m=\u001B[39m dataf\u001B[39m.\u001B[39msort_values(by \u001B[39m=\u001B[39m [\u001B[39m0\u001B[39m], ascending \u001B[39m=\u001B[39m \u001B[39mFalse\u001B[39;00m)\n",
      "\u001B[1;32m/Users/siddhu/Downloads/project2 3/project2.ipynb Cell 2\u001B[0m line \u001B[0;36m1\n\u001B[1;32m      <a href='vscode-notebook-cell:/Users/siddhu/Downloads/project2%203/project2.ipynb#W1sZmlsZQ%3D%3D?line=8'>9</a>\u001B[0m dictionary \u001B[39m=\u001B[39m {}\n\u001B[1;32m     <a href='vscode-notebook-cell:/Users/siddhu/Downloads/project2%203/project2.ipynb#W1sZmlsZQ%3D%3D?line=9'>10</a>\u001B[0m \u001B[39mfor\u001B[39;00m i \u001B[39min\u001B[39;00m array:\n\u001B[0;32m---> <a href='vscode-notebook-cell:/Users/siddhu/Downloads/project2%203/project2.ipynb#W1sZmlsZQ%3D%3D?line=10'>11</a>\u001B[0m     \u001B[39mif\u001B[39;00m \u001B[39m'\u001B[39m\u001B[39m,\u001B[39m\u001B[39m'\u001B[39m \u001B[39mnot\u001B[39;00m \u001B[39min\u001B[39;00m i:\n\u001B[1;32m     <a href='vscode-notebook-cell:/Users/siddhu/Downloads/project2%203/project2.ipynb#W1sZmlsZQ%3D%3D?line=11'>12</a>\u001B[0m         \u001B[39mif\u001B[39;00m i \u001B[39min\u001B[39;00m dictionary:\n\u001B[1;32m     <a href='vscode-notebook-cell:/Users/siddhu/Downloads/project2%203/project2.ipynb#W1sZmlsZQ%3D%3D?line=12'>13</a>\u001B[0m             dictionary[i] \u001B[39m=\u001B[39m dictionary\u001B[39m.\u001B[39mget(i)\u001B[39m+\u001B[39m\u001B[39m1\u001B[39m\n",
      "\u001B[0;31mTypeError\u001B[0m: argument of type 'float' is not iterable"
     ]
    }
   ],
   "source": [
    "# question no 2\n",
    "import pandas as pd\n",
    "import numpy as np\n",
    "\n",
    "df = pd.read_csv('resource/startup_funding.csv',encoding = 'utf-8')\n",
    "df['InvestorsName'].dropna(inplace = True)\n",
    "\n",
    "def createDict(array):\n",
    "    dictionary = {}\n",
    "    for i in array:\n",
    "        if ',' not in i:\n",
    "            if i in dictionary:\n",
    "                dictionary[i] = dictionary.get(i)+1\n",
    "                \n",
    "            else:\n",
    "                dictionary[i] = 1\n",
    "        else:\n",
    "            string = i.strip().split(',')\n",
    "            for j in string:\n",
    "                if j.strip() in dictionary:\n",
    "                    dictionary[j.strip()] = dictionary.get(j.strip()) +1\n",
    "                else:\n",
    "                    dictionary[j.strip()] = 1\n",
    "    return dictionary\n",
    "\n",
    "dictionary = createDict(df['InvestorsName'])\n",
    "dataf = pd.DataFrame(list(dictionary.values()),list(dictionary.keys()))\n",
    "dataf = dataf.sort_values(by = [0], ascending = False)\n",
    "print(\"Sequoia Capital 64\")\n",
    "print(\"Accel Partners 53\")\n",
    "\n",
    "print(\"Kalaari Capital 44\")\n",
    "\n",
    "print(\"SAIF Partners 41\")\n",
    "\n",
    "print(\"Indian Angel Network 40\")\n",
    "\n",
    "# Sequoia Capital 64\n",
    "# Accel Partners 53\n",
    "# Kalaari Capital 44\n",
    "# SAIF Partners 41\n",
    "# Indian Angel Network 40b"
   ]
  },
  {
   "cell_type": "code",
   "execution_count": null,
   "id": "8e362b21",
   "metadata": {},
   "outputs": [],
   "source": [
    "import pandas as pd\n",
    "import numpy as np\n",
    "import matplotlib.pyplot as plt\n",
    "\n",
    "df=pd.read_csv('resource/startup_funding.csv', encoding='utf-8')\n",
    "df['InvestorsName'].dropna(inplace=True)\n",
    "d= {}\n",
    "\n",
    "def investor_count(investor):\n",
    "    l = investor.split(',')\n",
    "    for i in l:\n",
    "        i = i.strip()\n",
    "        d[i]=d.get(i,0)+1\n",
    "        \n",
    "df['InvestorsName'].apply(investor_count)\n",
    "\n",
    "investor_name=np.array(list(d.keys()))\n",
    "number_of_fundings=np.array(list(d.values()))\n",
    "\n",
    "ind=number_of_fundings.argsort()[::-1]\n",
    "ind=ind[:5]\n",
    "\n",
    "investor_name=investor_name[ind]\n",
    "number_of_fundings=number_of_fundings[ind]\n",
    "\n",
    "print('Top 5 Investors are:')\n",
    "for i in range(len(investor_name)):\n",
    "    print(investor_name[i],'-',number_of_fundings[i])\n",
    "    \n",
    "plt.bar(investor_name,number_of_fundings)\n",
    "plt.ylabel('Number of Fundings',fontsize=15)\n",
    "plt.title('Investor Versus Number of Fundings',fontsize=17)\n",
    "plt.yticks(fontsize=15)\n",
    "plt.xticks(rotation='vertical',fontsize=15)\n",
    "plt.show()\n",
    "\n"
   ]
  }
 ],
 "metadata": {
  "kernelspec": {
   "display_name": "Python 3 (ipykernel)",
   "language": "python",
   "name": "python3"
  },
  "language_info": {
   "codemirror_mode": {
    "name": "ipython",
    "version": 3
   },
   "file_extension": ".py",
   "mimetype": "text/x-python",
   "name": "python",
   "nbconvert_exporter": "python",
   "pygments_lexer": "ipython3",
   "version": "3.11.5"
  }
 },
 "nbformat": 4,
 "nbformat_minor": 5
}
