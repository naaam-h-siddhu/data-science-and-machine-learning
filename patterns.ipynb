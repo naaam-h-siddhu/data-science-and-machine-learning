{
  "nbformat": 4,
  "nbformat_minor": 0,
  "metadata": {
    "colab": {
      "provenance": [],
      "authorship_tag": "ABX9TyPNStv9FgdGMB5BXngJUyCw",
      "include_colab_link": true
    },
    "kernelspec": {
      "name": "python3",
      "display_name": "Python 3"
    },
    "language_info": {
      "name": "python"
    }
  },
  "cells": [
    {
      "cell_type": "markdown",
      "metadata": {
        "id": "view-in-github",
        "colab_type": "text"
      },
      "source": [
        "<a href=\"https://colab.research.google.com/github/naaam-h-siddhu/data-science-and-machine-learning/blob/master/patterns.ipynb\" target=\"_parent\"><img src=\"https://colab.research.google.com/assets/colab-badge.svg\" alt=\"Open In Colab\"/></a>"
      ]
    },
    {
      "cell_type": "code",
      "execution_count": null,
      "metadata": {
        "id": "sej6OyI1WZI3"
      },
      "outputs": [],
      "source": [
        "#@title square using *\n",
        "n = int(input())\n",
        "i = 1\n",
        "while i<=n:\n",
        "  j = 1\n",
        "  while j<=n:\n",
        "    print('*',end= '')\n",
        "    j += 1\n",
        "  print()\n",
        "  i += 1\n"
      ]
    },
    {
      "cell_type": "code",
      "source": [
        "#@title square using 1234\n",
        "n = int(input())\n",
        "i = 1\n",
        "while i<=n:\n",
        "  j = 1\n",
        "  while j<=n:\n",
        "    print(j,end='')\n",
        "    j += 1\n",
        "  print()\n",
        "  i += 1\n"
      ],
      "metadata": {
        "id": "4wrR9yAcWoz-"
      },
      "execution_count": null,
      "outputs": []
    },
    {
      "cell_type": "code",
      "source": [
        "#@title trianglular pattern #1\n",
        "n = int(input())\n",
        "i = 1\n",
        "while i<=n:\n",
        "  j = 1\n",
        "  while j<=i:\n",
        "    print(j,end='')\n",
        "    j+=1\n",
        "  print()\n",
        "  i+=1\n"
      ],
      "metadata": {
        "id": "2Kk1T_iiWqpP"
      },
      "execution_count": null,
      "outputs": []
    },
    {
      "cell_type": "code",
      "source": [
        "#@title triangular pattern #2\n",
        "n = int(input())\n",
        "i =1\n",
        "while i<=n:\n",
        "  j = 1\n",
        "  p = i\n",
        "  while j<=i:\n",
        "    print(p,end='')\n",
        "    p += 1\n",
        "    j += 1\n",
        "  print()\n",
        "  i += 1"
      ],
      "metadata": {
        "id": "iH0nIan4WrVv"
      },
      "execution_count": null,
      "outputs": []
    },
    {
      "cell_type": "code",
      "source": [
        "#@title triangular pattern #3\n",
        "n = int(input())\n",
        "i =1\n",
        "p = 1\n",
        "while i<=n:\n",
        "  j = 1\n",
        "  while j<=i:\n",
        "    print(p,end='')\n",
        "    p += 1\n",
        "    j += 1\n",
        "  print()\n",
        "  i += 1"
      ],
      "metadata": {
        "id": "HAdy2adVWt0F"
      },
      "execution_count": null,
      "outputs": []
    },
    {
      "cell_type": "code",
      "source": [
        "#@title char pattern #1\n",
        "n = int(input())\n",
        "i = 1\n",
        "while i<=n:\n",
        "  j = 1\n",
        "  while j<=n:\n",
        "    print(getchar(j),end='')\n",
        "    j+=1\n",
        "  print()\n",
        "  i+=1"
      ],
      "metadata": {
        "id": "2VCdzXcWWv1e"
      },
      "execution_count": null,
      "outputs": []
    },
    {
      "cell_type": "code",
      "source": [
        "#@title GET K'TH CHAR \n",
        "def getchar(k):\n",
        "  x = 'A'\n",
        "  y = ord(x)# this will return the ascii value of the char\n",
        "  y = y + k-1\n",
        "  return chr(y)\n",
        "def getchari(i,k):\n",
        "  x = chr(64+i)\n",
        "  y = ord(x)# this will return the ascii value of the char\n",
        "  y = y + k-1\n",
        "  return chr(y)"
      ],
      "metadata": {
        "id": "3wjRMfKDWxPp"
      },
      "execution_count": null,
      "outputs": []
    },
    {
      "cell_type": "code",
      "source": [
        "#@title char pattern #2\n",
        "n = int(input())\n",
        "i = 1\n",
        "while i<=n:\n",
        "  j = 1\n",
        "  while j<=n:\n",
        "    print(getchari(i,j),end='')\n",
        "    j+=1\n",
        "  print()\n",
        "  i+=1"
      ],
      "metadata": {
        "id": "IpxLpBR9W03P"
      },
      "execution_count": null,
      "outputs": []
    },
    {
      "cell_type": "code",
      "source": [
        "#@title inverted pattern\n",
        "n = int(input())\n",
        "i = 1\n",
        "while i<=n:\n",
        "  j = 1\n",
        "  while j<= n-i+1:\n",
        "    print('*',end='')\n",
        "    j+=1\n",
        "  print()\n",
        "  i+=1\n",
        "  \n"
      ],
      "metadata": {
        "id": "nupA2Yz_W3Zo"
      },
      "execution_count": null,
      "outputs": []
    },
    {
      "cell_type": "code",
      "source": [
        "#@title isosceles pattern \n",
        "n = int(input())\n",
        "i = 1\n",
        "while i<=n:\n",
        "  space = 1\n",
        "  while space<=n-i:\n",
        "    print(' ',end='')\n",
        "    space+=1\n",
        "  j = 1\n",
        "  while j<=i:\n",
        "    print(j,end='')\n",
        "    j+=1\n",
        "  p = i-1\n",
        "  while p>=1:\n",
        "    print(p,end='')\n",
        "    p-=1\n",
        "  print()\n",
        "  i+=1 \n"
      ],
      "metadata": {
        "id": "yg5CfP7zW65M"
      },
      "execution_count": null,
      "outputs": []
    },
    {
      "cell_type": "code",
      "source": [
        "n = int(input())\n",
        "i = 1\n",
        "while i<=n:\n",
        "  k = i\n",
        "  space = 1\n",
        "  while space<=n-i:\n",
        "    print(' ',end='')\n",
        "    space+=1\n",
        "  j = 1\n",
        "  while j<=i:\n",
        "    print(k,end='')\n",
        "    j+=1\n",
        "    k+=1\n",
        "  p = 2*(i-1)\n",
        "  cnt = 1\n",
        "  while cnt<i:\n",
        "    print(p,end='')\n",
        "    p-=1\n",
        "    cnt +=1\n",
        "  print()\n",
        "  i+=1 "
      ],
      "metadata": {
        "id": "O7Slxst4W-Vt"
      },
      "execution_count": null,
      "outputs": []
    }
  ]
}