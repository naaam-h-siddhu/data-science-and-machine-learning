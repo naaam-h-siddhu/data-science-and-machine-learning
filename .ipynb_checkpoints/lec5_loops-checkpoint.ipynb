{
 "cells": [
  {
   "cell_type": "markdown",
   "metadata": {
    "colab_type": "text",
    "id": "view-in-github"
   },
   "source": [
    "<a href=\"https://colab.research.google.com/github/naaam-h-siddhu/data-science-and-machine-learning/blob/master/lec5_loops.ipynb\" target=\"_parent\"><img src=\"https://colab.research.google.com/assets/colab-badge.svg\" alt=\"Open In Colab\"/></a>"
   ]
  },
  {
   "cell_type": "code",
   "execution_count": null,
   "metadata": {
    "colab": {
     "base_uri": "https://localhost:8080/"
    },
    "id": "IMtKc-GnAfG3",
    "outputId": "6d62aa6d-61de-4360-f39e-9f3c9c7b08ea"
   },
   "outputs": [
    {
     "name": "stdout",
     "output_type": "stream",
     "text": [
      "s\n",
      "i\n",
      "d\n",
      "d\n",
      "h\n",
      "u\n"
     ]
    }
   ],
   "source": [
    "#@title loop in string\n",
    "s = \"siddhu\"\n",
    "for i in s:\n",
    "    print(i)\n",
    "print(\"siddhu\")"
   ]
  },
  {
   "cell_type": "code",
   "execution_count": null,
   "metadata": {
    "id": "mmEV0fEkBDTe"
   },
   "outputs": [],
   "source": [
    "#@title Loop in number\n",
    "# Range method have three argument (start,stop, stride)\n",
    "n = int(input())\n",
    "for i in range(1,n+1,1):#it stops at n-1\n",
    "  print(i)\n",
    "# By default start = 0 and stride is 1\n"
   ]
  },
  {
   "cell_type": "code",
   "execution_count": null,
   "metadata": {
    "id": "2et6shp1BsxG"
   },
   "outputs": [],
   "source": [
    "#if one argument is given \n",
    "for i in range(n+1):\n",
    "  print(i)"
   ]
  },
  {
   "cell_type": "code",
   "execution_count": null,
   "metadata": {
    "id": "DR2uwObyCbyP"
   },
   "outputs": [],
   "source": [
    "#if we give two args by default first is takena as start and second as stop\n",
    "n = 5\n",
    "for i in range(1,n+1):\n",
    "  print(i)\n"
   ]
  },
  {
   "cell_type": "code",
   "execution_count": null,
   "metadata": {
    "colab": {
     "base_uri": "https://localhost:8080/"
    },
    "id": "vWAtNyUHDhlY",
    "outputId": "f57a9b04-0702-4622-bccb-7ddf939790c3"
   },
   "outputs": [
    {
     "name": "stdout",
     "output_type": "stream",
     "text": [
      "5\n",
      "4\n",
      "3\n",
      "2\n",
      "1\n"
     ]
    }
   ],
   "source": [
    "#@title Reverse number print \n",
    "n = 5\n",
    "for i in range(n,0,-1):\n",
    "  print(i)"
   ]
  },
  {
   "cell_type": "code",
   "execution_count": null,
   "metadata": {
    "id": "EMC_bPkBFXAK"
   },
   "outputs": [],
   "source": [
    "#@title Multiple of 3\n",
    "a = int(input())\n",
    "b = int(input())\n",
    "if a%3==0:\n",
    "  s = a\n",
    "elif a%3:\n",
    "  s = a+2\n",
    "else:\n",
    "  s = a+1\n",
    "for i in range(s,b,3):\n",
    "  print(i)\n",
    "  "
   ]
  },
  {
   "cell_type": "code",
   "execution_count": null,
   "metadata": {
    "colab": {
     "base_uri": "https://localhost:8080/"
    },
    "id": "frMDANQEN5Za",
    "outputId": "557b6d7f-508f-4321-bc30-02560fa84ec7"
   },
   "outputs": [
    {
     "name": "stdout",
     "output_type": "stream",
     "text": [
      "5\n",
      "4\n",
      "3\n",
      "2\n",
      "1\n",
      "n is 0 so it is npt runing\n"
     ]
    }
   ],
   "source": [
    "#@title Else while loop \n",
    "n = 5\n",
    "while n>=1:\n",
    "  print(n)\n",
    "  n -= 1\n",
    "else:\n",
    "  print(\"n is 0 so it is npt runing\")"
   ]
  },
  {
   "cell_type": "code",
   "execution_count": null,
   "metadata": {
    "id": "WUkOHqzZOQwK"
   },
   "outputs": [],
   "source": [
    "#@title Else for loop\n",
    "for i in range(1,5):\n",
    "  if i ==3:\n",
    "    break       #IF THE LOOP IS TERNIBATED BY THE BREAK CODE THEN NO ELSE WILL EXECUTE\n",
    "  print(i)\n",
    "else:\n",
    "  print(\"i is 0 bro \")"
   ]
  },
  {
   "cell_type": "code",
   "execution_count": null,
   "metadata": {
    "colab": {
     "base_uri": "https://localhost:8080/"
    },
    "id": "DZmFW434PWtg",
    "outputId": "0b3f2821-2a6e-4eef-ce63-47391880734e"
   },
   "outputs": [
    {
     "name": "stdout",
     "output_type": "stream",
     "text": [
      "1 2 4 5 1 2 4 5 "
     ]
    }
   ],
   "source": [
    "i = 1\n",
    "while i<3:\n",
    "  j= 0\n",
    "  while j<5:\n",
    "    j=j+1\n",
    "    if j==3:\n",
    "      continue\n",
    "    print(j,end=\" \")\n",
    "  i+=1\n"
   ]
  }
 ],
 "metadata": {
  "colab": {
   "authorship_tag": "ABX9TyP6IpJTyih9L3bcR3BjxJiv",
   "include_colab_link": true,
   "provenance": []
  },
  "kernelspec": {
   "display_name": "Python 3 (ipykernel)",
   "language": "python",
   "name": "python3"
  },
  "language_info": {
   "codemirror_mode": {
    "name": "ipython",
    "version": 3
   },
   "file_extension": ".py",
   "mimetype": "text/x-python",
   "name": "python",
   "nbconvert_exporter": "python",
   "pygments_lexer": "ipython3",
   "version": "3.9.13"
  }
 },
 "nbformat": 4,
 "nbformat_minor": 1
}
