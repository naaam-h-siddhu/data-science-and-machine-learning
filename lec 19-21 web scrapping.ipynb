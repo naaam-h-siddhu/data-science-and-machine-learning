{
 "cells": [
  {
   "cell_type": "raw",
   "id": "f959867a",
   "metadata": {},
   "source": [
    "html = '<!DOCTYPE html>\\\n",
    "<html lang=\"en\">\\\n",
    "<head>\\\n",
    "<title>Testing web Browser</title>\\\n",
    "\n",
    "</head>\\\n",
    "<body>\\\n",
    "<h1>Web Scrapping</h1>\\\n",
    "<p class=\"abc\" id=\" first_para\">\\\n",
    "Let\\'s Start Learning\\\n",
    "<b>\\\n",
    "Web Scrapping\\\n",
    "</b>\\\n",
    "</p>\\\n",
    "<p id=\"def\">\\\n",
    "You can read about beautyfull soup from <a href=\"https://www.crummy.com/software/BeautifulSoup/\">here</a>\\\n",
    "</p>\\\n",
    "<p class=\"abc\">\\\n",
    "<a href=\"https://codingninjas.in\">Coding ninjas</a>\\\n",
    "</p>\\\n",
    "</body>\\\n",
    "</html>'"
   ]
  },
  {
   "cell_type": "code",
   "execution_count": 2,
   "id": "9ebcf8bb",
   "metadata": {},
   "outputs": [],
   "source": [
    "from bs4 import BeautifulSoup as bs\n"
   ]
  },
  {
   "cell_type": "code",
   "execution_count": 8,
   "id": "05fd5bd0",
   "metadata": {},
   "outputs": [
    {
     "data": {
      "text/plain": [
       "<!DOCTYPE html>\n",
       "<html lang=\"en\"><head><title>Testing web Browser</title></head><body><h1>Web Scrapping</h1><p class=\"abc\" id=\" first_para\">Let's Start Learning<b>Web Scrapping</b></p><p id=\"def\">You can read about beautyfull soup from <a href=\"https://www.crummy.com/software/BeautifulSoup/\">here</a></p><p class=\"abc\"><a href=\"https://codingninjas.in\">Coding ninjas</a></p></body></html>"
      ]
     },
     "execution_count": 8,
     "metadata": {},
     "output_type": "execute_result"
    }
   ],
   "source": [
    "data = bs(html,'html.parser')\n",
    "data"
   ]
  },
  {
   "cell_type": "code",
   "execution_count": 9,
   "id": "5de6f301",
   "metadata": {},
   "outputs": [
    {
     "name": "stdout",
     "output_type": "stream",
     "text": [
      "<!DOCTYPE html>\n",
      "<html lang=\"en\">\n",
      " <head>\n",
      "  <title>\n",
      "   Testing web Browser\n",
      "  </title>\n",
      " </head>\n",
      " <body>\n",
      "  <h1>\n",
      "   Web Scrapping\n",
      "  </h1>\n",
      "  <p class=\"abc\" id=\" first_para\">\n",
      "   Let's Start Learning\n",
      "   <b>\n",
      "    Web Scrapping\n",
      "   </b>\n",
      "  </p>\n",
      "  <p id=\"def\">\n",
      "   You can read about beautyfull soup from\n",
      "   <a href=\"https://www.crummy.com/software/BeautifulSoup/\">\n",
      "    here\n",
      "   </a>\n",
      "  </p>\n",
      "  <p class=\"abc\">\n",
      "   <a href=\"https://codingninjas.in\">\n",
      "    Coding ninjas\n",
      "   </a>\n",
      "  </p>\n",
      " </body>\n",
      "</html>\n"
     ]
    }
   ],
   "source": [
    "print(data.prettify())\n"
   ]
  },
  {
   "cell_type": "code",
   "execution_count": 10,
   "id": "a7ae57d1",
   "metadata": {},
   "outputs": [
    {
     "data": {
      "text/plain": [
       "bs4.BeautifulSoup"
      ]
     },
     "execution_count": 10,
     "metadata": {},
     "output_type": "execute_result"
    }
   ],
   "source": [
    "type(data)"
   ]
  },
  {
   "cell_type": "code",
   "execution_count": 12,
   "id": "a8371588",
   "metadata": {},
   "outputs": [
    {
     "data": {
      "text/plain": [
       "<head><title>Testing web Browser</title></head>"
      ]
     },
     "execution_count": 12,
     "metadata": {},
     "output_type": "execute_result"
    }
   ],
   "source": [
    "data.head\n"
   ]
  },
  {
   "cell_type": "code",
   "execution_count": 14,
   "id": "40acca59",
   "metadata": {},
   "outputs": [
    {
     "data": {
      "text/plain": [
       "<title>Testing web Browser</title>"
      ]
     },
     "execution_count": 14,
     "metadata": {},
     "output_type": "execute_result"
    }
   ],
   "source": [
    "data.title"
   ]
  },
  {
   "cell_type": "code",
   "execution_count": 15,
   "id": "75965c2b",
   "metadata": {},
   "outputs": [
    {
     "data": {
      "text/plain": [
       "<h1>Web Scrapping</h1>"
      ]
     },
     "execution_count": 15,
     "metadata": {},
     "output_type": "execute_result"
    }
   ],
   "source": [
    "data.h1"
   ]
  },
  {
   "cell_type": "code",
   "execution_count": 17,
   "id": "acbaa93c",
   "metadata": {},
   "outputs": [],
   "source": [
    "data.h2"
   ]
  },
  {
   "cell_type": "code",
   "execution_count": 18,
   "id": "c7647464",
   "metadata": {},
   "outputs": [
    {
     "name": "stdout",
     "output_type": "stream",
     "text": [
      "title\n",
      "Testing web Browser\n"
     ]
    }
   ],
   "source": [
    "print(data.title.name)\n",
    "print(data.title.string)"
   ]
  },
  {
   "cell_type": "code",
   "execution_count": 19,
   "id": "37226046",
   "metadata": {},
   "outputs": [
    {
     "name": "stdout",
     "output_type": "stream",
     "text": [
      "{'class': ['abc'], 'id': ' first_para'}\n"
     ]
    }
   ],
   "source": [
    "print(data.p.attrs)"
   ]
  },
  {
   "cell_type": "code",
   "execution_count": 20,
   "id": "9e6e0b08",
   "metadata": {},
   "outputs": [
    {
     "data": {
      "text/plain": [
       "' first_para'"
      ]
     },
     "execution_count": 20,
     "metadata": {},
     "output_type": "execute_result"
    }
   ],
   "source": [
    "data.p.get('id')"
   ]
  },
  {
   "cell_type": "code",
   "execution_count": 22,
   "id": "9386d097",
   "metadata": {},
   "outputs": [
    {
     "data": {
      "text/plain": [
       "\"Testing web BrowserWeb ScrappingLet's Start LearningWeb ScrappingYou can read about beautyfull soup from hereCoding ninjas\""
      ]
     },
     "execution_count": 22,
     "metadata": {},
     "output_type": "execute_result"
    }
   ],
   "source": [
    "data.get_text()"
   ]
  },
  {
   "cell_type": "code",
   "execution_count": 31,
   "id": "0893a4c0",
   "metadata": {},
   "outputs": [
    {
     "data": {
      "text/plain": [
       "<h1>Web Scrapping</h1>"
      ]
     },
     "execution_count": 31,
     "metadata": {},
     "output_type": "execute_result"
    }
   ],
   "source": [
    "data.find('h1')"
   ]
  },
  {
   "cell_type": "code",
   "execution_count": 34,
   "id": "cc7dfeb5",
   "metadata": {},
   "outputs": [
    {
     "name": "stdout",
     "output_type": "stream",
     "text": [
      "<p class=\"abc\" id=\" first_para\">Let's Start Learning<b>Web Scrapping</b></p>\n",
      "<p id=\"def\">You can read about beautyfull soup from <a href=\"https://www.crummy.com/software/BeautifulSoup/\">here</a></p>\n",
      "<p class=\"abc\"><a href=\"https://codingninjas.in\">Coding ninjas</a></p>\n"
     ]
    }
   ],
   "source": [
    "li = data.find_all('p')\n",
    "for i in li:\n",
    "    print(i)"
   ]
  },
  {
   "cell_type": "code",
   "execution_count": 49,
   "id": "4508920f",
   "metadata": {},
   "outputs": [
    {
     "name": "stdout",
     "output_type": "stream",
     "text": [
      "https://www.codingninjas.in/\n",
      "https://www.facebook.com/codingninjas/\n"
     ]
    }
   ],
   "source": [
    "## HTML Code is provided in variable html\n",
    "\n",
    "html = '<!DOCTYPE html><html><head><title>Learning Beautiful Soup</title></head>\\\n",
    "<body><h1> About Us </h1><div class = \"first_div\"><p>Coding Ninjas Website</p>\\\n",
    "<a href=\"https://www.codingninjas.in/\">Link to Coding Ninjas Website</a>\\\n",
    "<ul><li>This</li><li>is</li><li>an</li><li>unordered</li><li>list.</li></ul>\\\n",
    "</div><p id = \"template_p\">This is a template paragraph tag</p>\\\n",
    "<a href = \"https://www.facebook.com/codingninjas/\">\\\n",
    "This is the link of our Facebook Page</a></body></html>'\n",
    "\n",
    "## Print the required output in given format\n",
    "from bs4 import BeautifulSoup as bs\n",
    "data = bs(html,'html.parser')\n",
    "li = data.find_all('a')\n",
    "for i in li:\n",
    "    print(i['href'])"
   ]
  }
 ],
 "metadata": {
  "kernelspec": {
   "display_name": "Python 3 (ipykernel)",
   "language": "python",
   "name": "python3"
  },
  "language_info": {
   "codemirror_mode": {
    "name": "ipython",
    "version": 3
   },
   "file_extension": ".py",
   "mimetype": "text/x-python",
   "name": "python",
   "nbconvert_exporter": "python",
   "pygments_lexer": "ipython3",
   "version": "3.9.13"
  }
 },
 "nbformat": 4,
 "nbformat_minor": 5
}
