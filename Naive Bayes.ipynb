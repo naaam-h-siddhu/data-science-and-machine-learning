{
 "cells": [
  {
   "cell_type": "code",
   "execution_count": 1,
   "id": "aa7755f4",
   "metadata": {
    "ExecuteTime": {
     "end_time": "2023-08-16T16:54:56.928196Z",
     "start_time": "2023-08-16T16:54:56.476883Z"
    }
   },
   "outputs": [],
   "source": [
    "import numpy as np"
   ]
  },
  {
   "cell_type": "code",
   "execution_count": 2,
   "id": "491f1d8c",
   "metadata": {},
   "outputs": [],
   "source": [
    "def fit(X_train, y_train):\n",
    "    result = {}\n",
    "    class_values = set(y_train)\n",
    "    for curr_class in class_values:\n",
    "        result[curr_class] = {}\n",
    "        result['total_data'] = len(y_train)\n",
    "        current_class_rows = (y_train == curr_class)\n",
    "        X_train_curr = X_train[current_class_rows]\n",
    "        y_train_curr = y_train[current_class_rows]\n",
    "        result[curr_class]['total_count'] = len(y_train_curr)\n",
    "        num_features = X_train.shape[1]\n",
    "        for j in range(1,num_features+1):\n",
    "            j_1 = j-1\n",
    "            result[curr_class][j] = {}\n",
    "            all_possible_values = set(X_train[:,j_1])\n",
    "            for curr_value in all_possible_values:\n",
    "                result[curr_class][j][curr_value] = (X_train_curr[:,j_1] == curr_value).sum()\n",
    "    return result"
   ]
  },
  {
   "cell_type": "code",
   "execution_count": 3,
   "id": "0b076cad",
   "metadata": {},
   "outputs": [],
   "source": [
    "def probability(dictionary,x,curr_class):\n",
    "    output = np.log(dictionary[curr_class]['total_count'])-np.log(dictionary['total_data'])\n",
    "    num_features = len(dictionary[curr_class].keys())-1\n",
    "    for j in range(1,num_features+1):\n",
    "        xj = x[j-1]\n",
    "        count_curr_class_with_value_xi = dictionary[curr_class][i][xj] +1\n",
    "        count_curr_class = dictionary[curr_class]['total_count']+len(dictionary[curr_class][j].keys())\n",
    "        current_xj_prob = np.log(count_curr_class_with_value_xi)-np.log(count_curr_class)\n",
    "        output = output + current_xj_prob\n",
    "        \n",
    "    return output"
   ]
  },
  {
   "cell_type": "code",
   "execution_count": 4,
   "id": "3cdddd42",
   "metadata": {},
   "outputs": [],
   "source": [
    "def predictSinglePoint(dictionary,x):\n",
    "    classes = dictionary.keys()\n",
    "    best_p = -1000\n",
    "    best_class = -1\n",
    "    first_run = True\n",
    "    for curr_class in classes:\n",
    "        if(curr_class == 'total_data'):\n",
    "            continue\n",
    "        p_cur_class = probability(dictionary,x,curr_class)\n",
    "        if(first_run or p_cur_class>best_p):\n",
    "            \n",
    "            best_p = p_cur_class\n",
    "            best_class = curr_class\n",
    "        first_run = False\n",
    "    return best_class"
   ]
  },
  {
   "cell_type": "code",
   "execution_count": 5,
   "id": "160cdaf1",
   "metadata": {},
   "outputs": [],
   "source": [
    "def predict(result, x_test):\n",
    "    y_pred = []\n",
    "    for x in x_test:\n",
    "        x_class = predictSinglePoint(dictionary,x)\n",
    "        y_pred.append(x_class)\n",
    "    return y_pred"
   ]
  },
  {
   "cell_type": "code",
   "execution_count": 6,
   "id": "7ea394d1",
   "metadata": {},
   "outputs": [],
   "source": [
    "def makeLabelled(column):\n",
    "    second_limit = column.mean()\n",
    "    first_limit = 0.5 * second_limit\n",
    "    third_limit = 1.5 * second_limit\n",
    "    for i in range(0, len(column)):\n",
    "        if(column[i]<first_limit):\n",
    "            column[i] = 0\n",
    "        elif(column[i]<second_limit):\n",
    "            column[i] = 1\n",
    "        elif(column[i] < third_limit):\n",
    "            column[i] = 2\n",
    "        else:\n",
    "            column[i] = 3\n",
    "    return column"
   ]
  },
  {
   "cell_type": "code",
   "execution_count": 7,
   "id": "7adcb32c",
   "metadata": {},
   "outputs": [],
   "source": [
    "from sklearn import datasets\n",
    "iris = datasets.load_iris()\n",
    "X = iris.data\n",
    "y = iris.target"
   ]
  },
  {
   "cell_type": "code",
   "execution_count": 8,
   "id": "0024b677",
   "metadata": {},
   "outputs": [],
   "source": [
    "for i in range(0,X.shape[-1]):\n",
    "    X[:,i] = makeLabelled(X[:,i])\n",
    "    "
   ]
  },
  {
   "cell_type": "code",
   "execution_count": 9,
   "id": "805d167f",
   "metadata": {},
   "outputs": [],
   "source": [
    "from sklearn import model_selection\n",
    "X_train,X_test,Y_train,Y_test = model_selection.train_test_split(X,y, test_size= 0.25, random_state= 0)"
   ]
  },
  {
   "cell_type": "code",
   "execution_count": 10,
   "id": "69c04f68",
   "metadata": {},
   "outputs": [],
   "source": [
    "dictionary = fit(X_train,Y_train)"
   ]
  },
  {
   "cell_type": "code",
   "execution_count": 11,
   "id": "82572bab",
   "metadata": {},
   "outputs": [],
   "source": [
    "y_pred = predict(dictionary,X_test)"
   ]
  },
  {
   "cell_type": "code",
   "execution_count": 12,
   "id": "b698ea3b",
   "metadata": {},
   "outputs": [
    {
     "name": "stdout",
     "output_type": "stream",
     "text": [
      "              precision    recall  f1-score   support\n",
      "\n",
      "           0       1.00      0.85      0.92        13\n",
      "           1       0.76      1.00      0.86        16\n",
      "           2       1.00      0.67      0.80         9\n",
      "\n",
      "    accuracy                           0.87        38\n",
      "   macro avg       0.92      0.84      0.86        38\n",
      "weighted avg       0.90      0.87      0.87        38\n",
      "\n",
      "[[11  2  0]\n",
      " [ 0 16  0]\n",
      " [ 0  3  6]]\n"
     ]
    }
   ],
   "source": [
    "from sklearn.metrics import classification_report, confusion_matrix\n",
    "print(classification_report(Y_test, y_pred))\n",
    "print(confusion_matrix(Y_test,y_pred))"
   ]
  },
  {
   "cell_type": "code",
   "execution_count": 14,
   "id": "07ed04d7",
   "metadata": {},
   "outputs": [
    {
     "name": "stdout",
     "output_type": "stream",
     "text": [
      "              precision    recall  f1-score   support\n",
      "\n",
      "           0       1.00      0.85      0.92        13\n",
      "           1       0.76      1.00      0.86        16\n",
      "           2       1.00      0.67      0.80         9\n",
      "\n",
      "    accuracy                           0.87        38\n",
      "   macro avg       0.92      0.84      0.86        38\n",
      "weighted avg       0.90      0.87      0.87        38\n",
      "\n",
      "[[11  2  0]\n",
      " [ 0 16  0]\n",
      " [ 0  3  6]]\n"
     ]
    }
   ],
   "source": [
    "from sklearn.naive_bayes import GaussianNB\n",
    "clf = GaussianNB()\n",
    "clf.fit(X_train,Y_train)\n",
    "clf.predict(X_test)\n",
    "print(classification_report(Y_test, y_pred))\n",
    "print(confusion_matrix(Y_test,y_pred))"
   ]
  }
 ],
 "metadata": {
  "kernelspec": {
   "display_name": "Python 3 (ipykernel)",
   "language": "python",
   "name": "python3"
  },
  "language_info": {
   "codemirror_mode": {
    "name": "ipython",
    "version": 3
   },
   "file_extension": ".py",
   "mimetype": "text/x-python",
   "name": "python",
   "nbconvert_exporter": "python",
   "pygments_lexer": "ipython3",
   "version": "3.9.13"
  }
 },
 "nbformat": 4,
 "nbformat_minor": 5
}
