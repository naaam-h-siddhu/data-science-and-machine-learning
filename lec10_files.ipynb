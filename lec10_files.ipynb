{
 "cells": [
  {
   "cell_type": "code",
   "execution_count": 43,
   "id": "3cc3d4f5",
   "metadata": {},
   "outputs": [],
   "source": [
    "file_obj = open(('resource/sample.txt'))\n"
   ]
  },
  {
   "cell_type": "code",
   "execution_count": 33,
   "id": "d1025417",
   "metadata": {},
   "outputs": [
    {
     "data": {
      "text/plain": [
       "'Lorem ipsum dolor sit amet, consectetur adipiscing elit, sed do eiusmod tempor incididunt ut labore '"
      ]
     },
     "execution_count": 33,
     "metadata": {},
     "output_type": "execute_result"
    }
   ],
   "source": [
    "data = file_obj.read(100)\n",
    "data"
   ]
  },
  {
   "cell_type": "code",
   "execution_count": 34,
   "id": "564aff34",
   "metadata": {},
   "outputs": [
    {
     "data": {
      "text/plain": [
       "'et dolore magna aliqua. Ut enim ad minim veniam, \\n'"
      ]
     },
     "execution_count": 34,
     "metadata": {},
     "output_type": "execute_result"
    }
   ],
   "source": [
    "data1 = file_obj.readline()\n",
    "data1"
   ]
  },
  {
   "cell_type": "code",
   "execution_count": 44,
   "id": "c78ff879",
   "metadata": {},
   "outputs": [],
   "source": [
    "data2 = file_obj.readlines()"
   ]
  },
  {
   "cell_type": "code",
   "execution_count": 45,
   "id": "fc7bf042",
   "metadata": {},
   "outputs": [
    {
     "data": {
      "text/plain": [
       "['Lorem ipsum dolor sit amet, consectetur adipiscing elit, sed do eiusmod tempor incididunt ut labore et dolore magna aliqua. Ut enim ad minim veniam, \\n',\n",
       " 'quis nostrud exercitation ullamco laboris nisi ut aliquip ex ea commodo consequat. \\n',\n",
       " 'Duis aute irure dolor in reprehenderit in voluptate velit esse cillum dolore eu fugiat nulla pariatur. \\n',\n",
       " 'Excepteur sint occaecat cupidatat non proident, sunt in culpa qui officia deserunt mollit anim id est laborum.']"
      ]
     },
     "execution_count": 45,
     "metadata": {},
     "output_type": "execute_result"
    }
   ],
   "source": [
    "data2"
   ]
  },
  {
   "cell_type": "code",
   "execution_count": 50,
   "id": "79befa18",
   "metadata": {},
   "outputs": [
    {
     "name": "stdout",
     "output_type": "stream",
     "text": [
      "['Username; Identifier;First name;Last name']\n",
      "['booker12;9012;Rachel;Booker']\n",
      "['grey07;2070;Laura;Grey']\n",
      "['johnson81;4081;Craig;Johnson']\n",
      "['jenkins46;9346;Mary;Jenkins']\n",
      "['smith79;5079;Jamie;Smith']\n",
      "[]\n"
     ]
    }
   ],
   "source": [
    "import csv\n",
    "with open('resource/username.csv') as a:\n",
    "    da = csv.reader(a)\n",
    "    for i in da:\n",
    "        print(i)"
   ]
  },
  {
   "cell_type": "code",
   "execution_count": 53,
   "id": "e01db89c",
   "metadata": {},
   "outputs": [
    {
     "name": "stdout",
     "output_type": "stream",
     "text": [
      "['EMPLOYEE_ID,FIRST_NAME,LAST_NAME,EMAIL,PHONE_NUMBER,HIRE_DATE,JOB_ID,SALARY,COMMISSION_PCT,MANAGER_ID,DEPARTMENT_ID']\n",
      "['198,Donald,OConnell,DOCONNEL,650.507.9833,21-JUN-07,SH_CLERK,2600,', '-', ',124,50']\n",
      "['199,Douglas,Grant,DGRANT,650.507.9844,13-JAN-08,SH_CLERK,2600,', '-', ',124,50']\n",
      "['200,Jennifer,Whalen,JWHALEN,515.123.4444,17-SEP-03,AD_ASST,4400,', '-', ',101,10']\n",
      "['201,Michael,Hartstein,MHARTSTE,515.123.5555,17-FEB-04,MK_MAN,13000,', '-', ',100,20']\n",
      "['202,Pat,Fay,PFAY,603.123.6666,17-AUG-05,MK_REP,6000,', '-', ',201,20']\n",
      "['203,Susan,Mavris,SMAVRIS,515.123.7777,07-JUN-02,HR_REP,6500,', '-', ',101,40']\n",
      "['204,Hermann,Baer,HBAER,515.123.8888,07-JUN-02,PR_REP,10000,', '-', ',101,70']\n",
      "['205,Shelley,Higgins,SHIGGINS,515.123.8080,07-JUN-02,AC_MGR,12008,', '-', ',101,110']\n",
      "['206,William,Gietz,WGIETZ,515.123.8181,07-JUN-02,AC_ACCOUNT,8300,', '-', ',205,110']\n",
      "['100,Steven,King,SKING,515.123.4567,17-JUN-03,AD_PRES,24000,', '-', ',', '-', ',90']\n",
      "['101,Neena,Kochhar,NKOCHHAR,515.123.4568,21-SEP-05,AD_VP,17000,', '-', ',100,90']\n",
      "['102,Lex,De', 'Haan,LDEHAAN,515.123.4569,13-JAN-01,AD_VP,17000,', '-', ',100,90']\n",
      "['103,Alexander,Hunold,AHUNOLD,590.423.4567,03-JAN-06,IT_PROG,9000,', '-', ',102,60']\n",
      "['104,Bruce,Ernst,BERNST,590.423.4568,21-MAY-07,IT_PROG,6000,', '-', ',103,60']\n",
      "['105,David,Austin,DAUSTIN,590.423.4569,25-JUN-05,IT_PROG,4800,', '-', ',103,60']\n",
      "['106,Valli,Pataballa,VPATABAL,590.423.4560,05-FEB-06,IT_PROG,4800,', '-', ',103,60']\n",
      "['107,Diana,Lorentz,DLORENTZ,590.423.5567,07-FEB-07,IT_PROG,4200,', '-', ',103,60']\n",
      "['108,Nancy,Greenberg,NGREENBE,515.124.4569,17-AUG-02,FI_MGR,12008,', '-', ',101,100']\n",
      "['109,Daniel,Faviet,DFAVIET,515.124.4169,16-AUG-02,FI_ACCOUNT,9000,', '-', ',108,100']\n",
      "['110,John,Chen,JCHEN,515.124.4269,28-SEP-05,FI_ACCOUNT,8200,', '-', ',108,100']\n",
      "['111,Ismael,Sciarra,ISCIARRA,515.124.4369,30-SEP-05,FI_ACCOUNT,7700,', '-', ',108,100']\n",
      "['112,Jose', 'Manuel,Urman,JMURMAN,515.124.4469,07-MAR-06,FI_ACCOUNT,7800,', '-', ',108,100']\n",
      "['113,Luis,Popp,LPOPP,515.124.4567,07-DEC-07,FI_ACCOUNT,6900,', '-', ',108,100']\n",
      "['114,Den,Raphaely,DRAPHEAL,515.127.4561,07-DEC-02,PU_MAN,11000,', '-', ',100,30']\n",
      "['115,Alexander,Khoo,AKHOO,515.127.4562,18-MAY-03,PU_CLERK,3100,', '-', ',114,30']\n",
      "['116,Shelli,Baida,SBAIDA,515.127.4563,24-DEC-05,PU_CLERK,2900,', '-', ',114,30']\n",
      "['117,Sigal,Tobias,STOBIAS,515.127.4564,24-JUL-05,PU_CLERK,2800,', '-', ',114,30']\n",
      "['118,Guy,Himuro,GHIMURO,515.127.4565,15-NOV-06,PU_CLERK,2600,', '-', ',114,30']\n",
      "['119,Karen,Colmenares,KCOLMENA,515.127.4566,10-AUG-07,PU_CLERK,2500,', '-', ',114,30']\n",
      "['120,Matthew,Weiss,MWEISS,650.123.1234,18-JUL-04,ST_MAN,8000,', '-', ',100,50']\n",
      "['121,Adam,Fripp,AFRIPP,650.123.2234,10-APR-05,ST_MAN,8200,', '-', ',100,50']\n",
      "['122,Payam,Kaufling,PKAUFLIN,650.123.3234,01-MAY-03,ST_MAN,7900,', '-', ',100,50']\n",
      "['123,Shanta,Vollman,SVOLLMAN,650.123.4234,10-OCT-05,ST_MAN,6500,', '-', ',100,50']\n",
      "['124,Kevin,Mourgos,KMOURGOS,650.123.5234,16-NOV-07,ST_MAN,5800,', '-', ',100,50']\n",
      "['125,Julia,Nayer,JNAYER,650.124.1214,16-JUL-05,ST_CLERK,3200,', '-', ',120,50']\n",
      "['126,Irene,Mikkilineni,IMIKKILI,650.124.1224,28-SEP-06,ST_CLERK,2700,', '-', ',120,50']\n",
      "['127,James,Landry,JLANDRY,650.124.1334,14-JAN-07,ST_CLERK,2400,', '-', ',120,50']\n",
      "['128,Steven,Markle,SMARKLE,650.124.1434,08-MAR-08,ST_CLERK,2200,', '-', ',120,50']\n",
      "['129,Laura,Bissot,LBISSOT,650.124.5234,20-AUG-05,ST_CLERK,3300,', '-', ',121,50']\n",
      "['130,Mozhe,Atkinson,MATKINSO,650.124.6234,30-OCT-05,ST_CLERK,2800,', '-', ',121,50']\n",
      "['131,James,Marlow,JAMRLOW,650.124.7234,16-FEB-05,ST_CLERK,2500,', '-', ',121,50']\n",
      "['132,TJ,Olson,TJOLSON,650.124.8234,10-APR-07,ST_CLERK,2100,', '-', ',121,50']\n",
      "['133,Jason,Mallin,JMALLIN,650.127.1934,14-JUN-04,ST_CLERK,3300,', '-', ',122,50']\n",
      "['134,Michael,Rogers,MROGERS,650.127.1834,26-AUG-06,ST_CLERK,2900,', '-', ',122,50']\n",
      "['135,Ki,Gee,KGEE,650.127.1734,12-DEC-07,ST_CLERK,2400,', '-', ',122,50']\n",
      "['136,Hazel,Philtanker,HPHILTAN,650.127.1634,06-FEB-08,ST_CLERK,2200,', '-', ',122,50']\n",
      "['137,Renske,Ladwig,RLADWIG,650.121.1234,14-JUL-03,ST_CLERK,3600,', '-', ',123,50']\n",
      "['138,Stephen,Stiles,SSTILES,650.121.2034,26-OCT-05,ST_CLERK,3200,', '-', ',123,50']\n",
      "['139,John,Seo,JSEO,650.121.2019,12-FEB-06,ST_CLERK,2700,', '-', ',123,50']\n",
      "['140,Joshua,Patel,JPATEL,650.121.1834,06-APR-06,ST_CLERK,2500,', '-', ',123,50']\n"
     ]
    },
    {
     "data": {
      "text/plain": [
       "_csv.reader"
      ]
     },
     "execution_count": 53,
     "metadata": {},
     "output_type": "execute_result"
    }
   ],
   "source": [
    "with open('resource/employees.csv') as b:\n",
    "    ba = csv.reader(b,delimiter = \" \", skipinitialspace = True)\n",
    "    for i in ba:\n",
    "        print(i)\n",
    "type(ba)"
   ]
  },
  {
   "cell_type": "code",
   "execution_count": 70,
   "id": "e11fe830",
   "metadata": {},
   "outputs": [
    {
     "name": "stdout",
     "output_type": "stream",
     "text": [
      "702\n"
     ]
    }
   ],
   "source": [
    "import csv\n",
    "with open('resource/year2017.csv') as a:\n",
    "    b = csv.reader(a,skipinitialspace =True)\n",
    "    b = list(b)\n",
    "wound = []\n",
    "for i in b[1:]:\n",
    "    if i[3]== 'India':\n",
    "        if i[10] != '':\n",
    "            wound.append(float(i[10]))\n",
    "print(int(sum(wound)))\n",
    "`"
   ]
  },
  {
   "cell_type": "code",
   "execution_count": 88,
   "id": "d66607c7",
   "metadata": {},
   "outputs": [
    {
     "name": "stdout",
     "output_type": "stream",
     "text": [
      "29280\n"
     ]
    }
   ],
   "source": [
    "import csv\n",
    "with open('resource/year2017.csv') as a:\n",
    "    b = csv.DictReader(a,skipinitialspace =True)\n",
    "    summ = 0\n",
    "    for row in b:\n",
    "        if row['Weapon_type'] == 'Explosives':\n",
    "            ch = row['casualities']\n",
    "            if ch != '':\n",
    "                ch = float(ch)\n",
    "\n",
    "                summ += ch\n",
    "    print(int(summ))\n",
    "    "
   ]
  },
  {
   "cell_type": "code",
   "execution_count": 141,
   "id": "555154cd",
   "metadata": {},
   "outputs": [
    {
     "name": "stdout",
     "output_type": "stream",
     "text": [
      "Afghanistan   11698\n",
      "Sudan   255\n",
      "Democratic Republic of the Congo   636\n",
      "Turkey   548\n",
      "Syria   2731\n",
      "Pakistan   3153\n",
      "Italy   8\n",
      "Somalia   3038\n",
      "Yemen   1446\n",
      "Bahrain   32\n",
      "Myanmar   85\n",
      "Burundi   147\n",
      "Iraq   10999\n",
      "Egypt   1499\n",
      "Burkina Faso   98\n",
      "India   1157\n",
      "Algeria   31\n",
      "United States   1027\n",
      "Philippines   1148\n",
      "Greece   7\n",
      "Mali   657\n",
      "Libya   316\n",
      "Central African Republic   569\n",
      "Nigeria   2300\n",
      "Lebanon   66\n",
      "Mexico   29\n",
      "Cameroon   448\n",
      "Ethiopia   80\n",
      "Kyrgyzstan   0\n",
      "Serbia   1\n",
      "Sweden   37\n",
      "Thailand   342\n",
      "Iran   106\n",
      "France   35\n",
      "United Kingdom   343\n",
      "West Bank and Gaza Strip   125\n",
      "Ukraine   104\n",
      "Paraguay   5\n",
      "Colombia   188\n",
      "Malaysia   6\n",
      "Russia   175\n",
      "Kosovo   4\n",
      "South Africa   28\n",
      "Chile   2\n",
      "Kenya   204\n",
      "Israel   18\n",
      "Saudi Arabia   100\n",
      "China   92\n",
      "Nepal   97\n",
      "Ecuador   0\n",
      "Niger   210\n",
      "Venezuela   37\n",
      "South Sudan   836\n",
      "Canada   31\n",
      "Bangladesh   97\n",
      "Tajikistan   1\n",
      "Angola   416\n",
      "Ireland   0\n",
      "Peru   12\n",
      "Dominican Republic   3\n",
      "Poland   0\n",
      "Jordan   5\n",
      "Azerbaijan   7\n",
      "Mozambique   33\n",
      "Indonesia   47\n",
      "Germany   11\n",
      "Brazil   0\n",
      "Macedonia   0\n",
      "Tunisia   10\n",
      "Uganda   9\n",
      "Chad   2\n",
      "Finland   12\n",
      "Australia   25\n",
      "Norway   0\n",
      "Vietnam   0\n",
      "Tanzania   10\n",
      "Sierra Leone   0\n",
      "Sri Lanka   4\n",
      "Maldives   1\n",
      "Belgium   4\n",
      "Rwanda   10\n",
      "Honduras   2\n",
      "Czech Republic   0\n",
      "Malta   1\n",
      "Gabon   2\n",
      "Laos   1\n",
      "Djibouti   0\n",
      "Austria   2\n",
      "Zambia   0\n",
      "Argentina   0\n",
      "Papua New Guinea   3\n",
      "Zimbabwe   1\n",
      "Ivory Coast   5\n",
      "Spain   132\n",
      "Taiwan   1\n",
      "Jamaica   0\n",
      "Albania   0\n",
      "Liberia   0\n",
      "Georgia   5\n",
      "Malawi   0\n",
      "Netherlands   0\n",
      "Latvia   0\n"
     ]
    }
   ],
   "source": [
    "import csv\n",
    "with open('resource/year2017.csv') as a:\n",
    "    b = csv.DictReader(a,skipinitialspace = True)\n",
    "    b = list(b)\n",
    "    kill = {}\n",
    "    for i in b:\n",
    "        key = i['Country']\n",
    "        value = i['casualities']\n",
    "        if value != '':\n",
    "            value = int(float(value))\n",
    "        else:\n",
    "            value = 0;\n",
    "        if key in kill:\n",
    "            kill[key] += value\n",
    "        else:\n",
    "            kill[key] = value\n",
    "for i in kill:\n",
    "    print(i,\" \",kill[i])"
   ]
  },
  {
   "cell_type": "code",
   "execution_count": 136,
   "id": "36a669c9",
   "metadata": {},
   "outputs": [
    {
     "ename": "IndexError",
     "evalue": "string index out of range",
     "output_type": "error",
     "traceback": [
      "\u001b[0;31m---------------------------------------------------------------------------\u001b[0m",
      "\u001b[0;31mIndexError\u001b[0m                                Traceback (most recent call last)",
      "\u001b[0;32m/var/folders/g0/4tjttlg17jn_d7b0wkct3ld00000gn/T/ipykernel_20995/1448923194.py\u001b[0m in \u001b[0;36m<module>\u001b[0;34m\u001b[0m\n\u001b[1;32m     12\u001b[0m         \u001b[0;31m# z = i['PREFERRED QUALIFICATIONS']\u001b[0m\u001b[0;34m\u001b[0m\u001b[0;34m\u001b[0m\u001b[0m\n\u001b[1;32m     13\u001b[0m \u001b[0;34m\u001b[0m\u001b[0m\n\u001b[0;32m---> 14\u001b[0;31m         \u001b[0;32mif\u001b[0m  \u001b[0mx\u001b[0m\u001b[0;34m[\u001b[0m\u001b[0;36m0\u001b[0m\u001b[0;34m]\u001b[0m\u001b[0;34m==\u001b[0m\u001b[0;34m\"C\"\u001b[0m \u001b[0;32mand\u001b[0m \u001b[0mx\u001b[0m\u001b[0;34m[\u001b[0m\u001b[0;36m1\u001b[0m\u001b[0;34m]\u001b[0m\u001b[0;34m==\u001b[0m\u001b[0;34m\"A\"\u001b[0m\u001b[0;34m:\u001b[0m\u001b[0;34m\u001b[0m\u001b[0;34m\u001b[0m\u001b[0m\n\u001b[0m\u001b[1;32m     15\u001b[0m \u001b[0;34m\u001b[0m\u001b[0m\n\u001b[1;32m     16\u001b[0m             \u001b[0msea\u001b[0m \u001b[0;34m+=\u001b[0m \u001b[0;36m1\u001b[0m\u001b[0;34m\u001b[0m\u001b[0;34m\u001b[0m\u001b[0m\n",
      "\u001b[0;31mIndexError\u001b[0m: string index out of range"
     ]
    }
   ],
   "source": [
    "## Open and read data file as specified in the question\n",
    "## Print the required output in given format\n",
    "import csv\n",
    "with open('resource/am.csv') as a:\n",
    "    b = csv.DictReader(a,skipinitialspace = True)\n",
    "    b = list(b)\n",
    "    sea = 0\n",
    "    for i in b:\n",
    "        x = i['location']\n",
    "        x = str(x)\n",
    "        # y = i['BASIC QUALIFICATIONS']\n",
    "        # z = i['PREFERRED QUALIFICATIONS']\n",
    "        \n",
    "        if  x[0]==\"C\" and x[1]==\"A\":\n",
    "            \n",
    "            sea += 1\n",
    "        \n",
    "print(sea)\n",
    "        \n",
    "        "
   ]
  },
  {
   "cell_type": "code",
   "execution_count": 195,
   "id": "5bd9224b",
   "metadata": {},
   "outputs": [
    {
     "name": "stdout",
     "output_type": "stream",
     "text": [
      "{'US': 2009, 'IN': 111, 'CA': 111, 'RO': 9, 'PL': 17, 'AE': 1, 'ES': 13, 'IL': 2, 'DE': 19, 'UK': 38, 'SG': 1, 'AU': 9, 'IE': 30, 'CN': 14, 'MX': 2, 'NL': 2, 'ZA': 12, 'FR': 2, 'JO': 2, 'TW': 4, 'LU': 6, 'BR': 8, 'JP': 4, 'IT': 1, '': 1}\n",
      "2009\n"
     ]
    }
   ],
   "source": [
    "## Open and read data file as specified in the question\n",
    "## Print the required output in given format\n",
    "## Open and read data file as specified in the question\n",
    "## Print the required output in given format\n",
    "import csv\n",
    "with open('resource/am.csv') as a:\n",
    "    b = csv.DictReader(a,skipinitialspace = True)\n",
    "    b = list(b)\n",
    "    ans = {}\n",
    "    for i in b:\n",
    "        cnt = i['location']\n",
    "        series = i['BASIC QUALIFICATIONS']\n",
    "        \n",
    "        if 'Java' in series:\n",
    "            cunt = cnt[:2]\n",
    "            if cunt in ans:\n",
    "                ans[cunt] += 1\n",
    "            else:\n",
    "                ans[cunt] = 1\n",
    "#     print(ans)\n",
    "        \n",
    "    key = max(ans, key= lambda x: ans[x])\n",
    "    print(key,end=\" \")\n",
    "    print(ans[key])\n",
    "        "
   ]
  }
 ],
 "metadata": {
  "kernelspec": {
   "display_name": "Python 3 (ipykernel)",
   "language": "python",
   "name": "python3"
  },
  "language_info": {
   "codemirror_mode": {
    "name": "ipython",
    "version": 3
   },
   "file_extension": ".py",
   "mimetype": "text/x-python",
   "name": "python",
   "nbconvert_exporter": "python",
   "pygments_lexer": "ipython3",
   "version": "3.9.13"
  }
 },
 "nbformat": 4,
 "nbformat_minor": 5
}
