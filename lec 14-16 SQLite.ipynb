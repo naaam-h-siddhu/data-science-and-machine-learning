{
 "cells": [
  {
   "cell_type": "code",
   "execution_count": 4,
   "id": "7752666a",
   "metadata": {},
   "outputs": [],
   "source": [
    "import sqlite3\n"
   ]
  },
  {
   "cell_type": "code",
   "execution_count": 3,
   "id": "f1e0cf5b",
   "metadata": {},
   "outputs": [
    {
     "data": {
      "text/plain": [
       "<sqlite3.Connection at 0x7fc490fde4e0>"
      ]
     },
     "execution_count": 3,
     "metadata": {},
     "output_type": "execute_result"
    }
   ],
   "source": [
    "db = sqlite3.connect('IMDB.sqlite')\n",
    "db"
   ]
  },
  {
   "cell_type": "code",
   "execution_count": 19,
   "id": "fdf4448a",
   "metadata": {},
   "outputs": [
    {
     "data": {
      "text/plain": [
       "<sqlite3.Connection at 0x7fc490fde210>"
      ]
     },
     "execution_count": 19,
     "metadata": {},
     "output_type": "execute_result"
    }
   ],
   "source": [
    "db = sqlite3.connect('room.sqlite')\n",
    "db"
   ]
  },
  {
   "cell_type": "code",
   "execution_count": 20,
   "id": "dcb4059a",
   "metadata": {},
   "outputs": [
    {
     "data": {
      "text/plain": [
       "<sqlite3.Cursor at 0x7fc468043ab0>"
      ]
     },
     "execution_count": 20,
     "metadata": {},
     "output_type": "execute_result"
    }
   ],
   "source": [
    "cur = db.cursor()\n",
    "cur"
   ]
  },
  {
   "cell_type": "code",
   "execution_count": 21,
   "id": "79f1f2b1",
   "metadata": {},
   "outputs": [
    {
     "data": {
      "text/plain": [
       "<sqlite3.Cursor at 0x7fc468043ab0>"
      ]
     },
     "execution_count": 21,
     "metadata": {},
     "output_type": "execute_result"
    }
   ],
   "source": [
    "sql_query = 'Create table room(rollnumber int primary key, name text, age int)'\n",
    "cur.execute(sql_query)"
   ]
  },
  {
   "cell_type": "code",
   "execution_count": 22,
   "id": "c4f4cd97",
   "metadata": {},
   "outputs": [
    {
     "data": {
      "text/plain": [
       "<sqlite3.Cursor at 0x7fc468043ab0>"
      ]
     },
     "execution_count": 22,
     "metadata": {},
     "output_type": "execute_result"
    }
   ],
   "source": [
    "cur.execute('Insert into room values(1012,\"siddhu\",24)')"
   ]
  },
  {
   "cell_type": "code",
   "execution_count": 23,
   "id": "a84293b5",
   "metadata": {},
   "outputs": [],
   "source": [
    "db.commit()"
   ]
  },
  {
   "cell_type": "code",
   "execution_count": 37,
   "id": "41076c67",
   "metadata": {},
   "outputs": [
    {
     "data": {
      "text/plain": [
       "<sqlite3.Connection at 0x7f782040e7b0>"
      ]
     },
     "execution_count": 37,
     "metadata": {},
     "output_type": "execute_result"
    }
   ],
   "source": [
    "db = sqlite3.connect('Employee.sqlite')\n",
    "db"
   ]
  },
  {
   "cell_type": "code",
   "execution_count": 38,
   "id": "67e849b3",
   "metadata": {},
   "outputs": [
    {
     "data": {
      "text/plain": [
       "<sqlite3.Cursor at 0x7f7831099c70>"
      ]
     },
     "execution_count": 38,
     "metadata": {},
     "output_type": "execute_result"
    }
   ],
   "source": [
    "cur = db.cursor()\n",
    "cur"
   ]
  },
  {
   "cell_type": "code",
   "execution_count": 29,
   "id": "2ebf46b2",
   "metadata": {},
   "outputs": [
    {
     "data": {
      "text/plain": [
       "<sqlite3.Cursor at 0x7fc468053030>"
      ]
     },
     "execution_count": 29,
     "metadata": {},
     "output_type": "execute_result"
    }
   ],
   "source": [
    "a = 'Create table employee(employeeid int primary key, name text , age int , department text, salary text)'\n",
    "cur.execute(a)"
   ]
  },
  {
   "cell_type": "code",
   "execution_count": 31,
   "id": "4c8d25fc",
   "metadata": {},
   "outputs": [
    {
     "data": {
      "text/plain": [
       "<sqlite3.Cursor at 0x7fc468053030>"
      ]
     },
     "execution_count": 31,
     "metadata": {},
     "output_type": "execute_result"
    }
   ],
   "source": [
    "b = 'Insert into employee values(100,\"Rishav\",25,\"Marketing\",50000), (101,\"abhishek\", 26, \"Operations\", 600000),(102,\"Aman\",24, \"Human Resource\", 75000)'\n",
    "cur.execute(b)"
   ]
  },
  {
   "cell_type": "code",
   "execution_count": 32,
   "id": "933cdea0",
   "metadata": {},
   "outputs": [],
   "source": [
    "db.commit()"
   ]
  },
  {
   "cell_type": "code",
   "execution_count": 7,
   "id": "f42e332b",
   "metadata": {},
   "outputs": [
    {
     "data": {
      "text/plain": [
       "<sqlite3.Cursor at 0x7f7880294180>"
      ]
     },
     "execution_count": 7,
     "metadata": {},
     "output_type": "execute_result"
    }
   ],
   "source": [
    "idd = 103\n",
    "name = \"siddhu\"\n",
    "ag   = 19\n",
    "dep = \"testing\"\n",
    "salary = 1000\n",
    "cur.execute('Insert into employee values(?,?,?,?,?)',(idd,name,ag,dep,salary))\n"
   ]
  },
  {
   "cell_type": "code",
   "execution_count": 9,
   "id": "c0eed53f",
   "metadata": {},
   "outputs": [],
   "source": [
    "db.commit()"
   ]
  },
  {
   "cell_type": "code",
   "execution_count": 10,
   "id": "72a0bfe8",
   "metadata": {},
   "outputs": [
    {
     "data": {
      "text/plain": [
       "<sqlite3.Cursor at 0x7f7880294180>"
      ]
     },
     "execution_count": 10,
     "metadata": {},
     "output_type": "execute_result"
    }
   ],
   "source": [
    "cur.execute('Update employee set salary = 1000000 where name = \"siddhu\"')"
   ]
  },
  {
   "cell_type": "code",
   "execution_count": 11,
   "id": "32dbf462",
   "metadata": {},
   "outputs": [],
   "source": [
    "db.commit()"
   ]
  },
  {
   "cell_type": "code",
   "execution_count": 13,
   "id": "3b6a0a34",
   "metadata": {},
   "outputs": [
    {
     "data": {
      "text/plain": [
       "<sqlite3.Cursor at 0x7f7820ff07a0>"
      ]
     },
     "execution_count": 13,
     "metadata": {},
     "output_type": "execute_result"
    }
   ],
   "source": [
    "db.execute('delete from employee where employeeid = 101')"
   ]
  },
  {
   "cell_type": "code",
   "execution_count": 14,
   "id": "44d1353e",
   "metadata": {},
   "outputs": [],
   "source": [
    "db.commit()"
   ]
  },
  {
   "cell_type": "code",
   "execution_count": 17,
   "id": "f1aa5fb1",
   "metadata": {},
   "outputs": [
    {
     "data": {
      "text/plain": [
       "<sqlite3.Cursor at 0x7f7820ff08f0>"
      ]
     },
     "execution_count": 17,
     "metadata": {},
     "output_type": "execute_result"
    }
   ],
   "source": [
    "emid = 102\n",
    "db.execute('delete from employee where employeeid = ?',(emid,))"
   ]
  },
  {
   "cell_type": "code",
   "execution_count": 18,
   "id": "fe343331",
   "metadata": {},
   "outputs": [],
   "source": [
    "db.commit()"
   ]
  },
  {
   "cell_type": "code",
   "execution_count": 20,
   "id": "adf9b999",
   "metadata": {},
   "outputs": [
    {
     "data": {
      "text/plain": [
       "<sqlite3.Cursor at 0x7f7820ff0b20>"
      ]
     },
     "execution_count": 20,
     "metadata": {},
     "output_type": "execute_result"
    }
   ],
   "source": [
    "db.execute('delete from employee where employeeid = 103')\n",
    "db.execute('delete from employee where employeeid = 104')"
   ]
  },
  {
   "cell_type": "code",
   "execution_count": 26,
   "id": "f490ab02",
   "metadata": {},
   "outputs": [
    {
     "data": {
      "text/plain": [
       "<sqlite3.Cursor at 0x7f78310991f0>"
      ]
     },
     "execution_count": 26,
     "metadata": {},
     "output_type": "execute_result"
    }
   ],
   "source": [
    "db.execute('delete from employee')"
   ]
  },
  {
   "cell_type": "code",
   "execution_count": 27,
   "id": "4ec77c2a",
   "metadata": {},
   "outputs": [],
   "source": [
    "db.commit()"
   ]
  },
  {
   "cell_type": "code",
   "execution_count": 28,
   "id": "b38e7b87",
   "metadata": {},
   "outputs": [
    {
     "name": "stdout",
     "output_type": "stream",
     "text": [
      "done\n"
     ]
    }
   ],
   "source": [
    "## Open and read data file as specified in the question\n",
    "## Print the required output in given format\n",
    "employee_id=[101,102,103,104,105,106,107,108,109,110,111,112]\n",
    "name=['Aadarsh','Aarti','Siddharth','Aman','Amit','Shivansh','Vaibhav','Himanshu','Raman','Kunal','Adhira','Tanya']\n",
    "age=[25,27,25,24,30,26,23,26,25,26,29,24]\n",
    "department=['Marketing','Operations','Finance','Human Resource','Marketing','IT','Finance','IT','Operations','Marketing','Human Resource','Marketing']\n",
    "salary=[50000,60000,85000,75000,50000,90000,85000,90000,60000,50000,75000,50000]\n",
    "for i in range(len(name))\n",
    "    db.execute('insert into employee values(?,?,?,?,?)',(employee_id[i],name[i],age[i],department[i],salary[i]))\n",
    "    db.commit()\n",
    "print('done')"
   ]
  },
  {
   "cell_type": "code",
   "execution_count": 34,
   "id": "717c5925",
   "metadata": {},
   "outputs": [],
   "source": [
    "db = sqlite3.connect('school.sqlite')\n",
    "cur = db.cursor()"
   ]
  },
  {
   "cell_type": "code",
   "execution_count": 39,
   "id": "66da8f15",
   "metadata": {},
   "outputs": [
    {
     "data": {
      "text/plain": [
       "<sqlite3.Cursor at 0x7f7831099c70>"
      ]
     },
     "execution_count": 39,
     "metadata": {},
     "output_type": "execute_result"
    }
   ],
   "source": [
    "cur.execute('Select * from employee')"
   ]
  },
  {
   "cell_type": "code",
   "execution_count": 40,
   "id": "e357071b",
   "metadata": {},
   "outputs": [
    {
     "name": "stdout",
     "output_type": "stream",
     "text": [
      "(101, 'Aadarsh', 25, 'Marketing', '50000')\n",
      "(102, 'Aarti', 27, 'Operations', '60000')\n",
      "(103, 'Siddharth', 25, 'Finance', '85000')\n",
      "(104, 'Aman', 24, 'Human Resource', '75000')\n",
      "(105, 'Amit', 30, 'Marketing', '50000')\n",
      "(106, 'Shivansh', 26, 'IT', '90000')\n",
      "(107, 'Vaibhav', 23, 'Finance', '85000')\n",
      "(108, 'Himanshu', 26, 'IT', '90000')\n",
      "(109, 'Raman', 25, 'Operations', '60000')\n",
      "(110, 'Kunal', 26, 'Marketing', '50000')\n",
      "(111, 'Adhira', 29, 'Human Resource', '75000')\n",
      "(112, 'Tanya', 24, 'Marketing', '50000')\n"
     ]
    }
   ],
   "source": [
    "for i in cur:\n",
    "    print(i)"
   ]
  },
  {
   "cell_type": "code",
   "execution_count": 41,
   "id": "3bce03ce",
   "metadata": {},
   "outputs": [
    {
     "name": "stdout",
     "output_type": "stream",
     "text": [
      "(101, 'Aadarsh', 25, 'Marketing', '50000')\n"
     ]
    }
   ],
   "source": [
    "cur.execute('select * from employee')\n",
    "print(cur.fetchone())"
   ]
  },
  {
   "cell_type": "code",
   "execution_count": 42,
   "id": "81d0ee40",
   "metadata": {},
   "outputs": [
    {
     "name": "stdout",
     "output_type": "stream",
     "text": [
      "[(102, 'Aarti', 27, 'Operations', '60000'), (103, 'Siddharth', 25, 'Finance', '85000'), (104, 'Aman', 24, 'Human Resource', '75000')]\n"
     ]
    }
   ],
   "source": [
    "print(cur.fetchmany(3))#default value is 1"
   ]
  },
  {
   "cell_type": "code",
   "execution_count": 43,
   "id": "8ce7537f",
   "metadata": {},
   "outputs": [
    {
     "name": "stdout",
     "output_type": "stream",
     "text": [
      "[(105, 'Amit', 30, 'Marketing', '50000'), (106, 'Shivansh', 26, 'IT', '90000'), (107, 'Vaibhav', 23, 'Finance', '85000'), (108, 'Himanshu', 26, 'IT', '90000'), (109, 'Raman', 25, 'Operations', '60000'), (110, 'Kunal', 26, 'Marketing', '50000'), (111, 'Adhira', 29, 'Human Resource', '75000'), (112, 'Tanya', 24, 'Marketing', '50000')]\n"
     ]
    }
   ],
   "source": [
    "print(cur.fetchall())"
   ]
  },
  {
   "cell_type": "code",
   "execution_count": 44,
   "id": "47c1d4e6",
   "metadata": {},
   "outputs": [
    {
     "data": {
      "text/plain": [
       "<sqlite3.Cursor at 0x7f7831099c70>"
      ]
     },
     "execution_count": 44,
     "metadata": {},
     "output_type": "execute_result"
    }
   ],
   "source": [
    "cur.execute('select * from employee where employeeid >105')"
   ]
  },
  {
   "cell_type": "code",
   "execution_count": 45,
   "id": "18a8a550",
   "metadata": {},
   "outputs": [
    {
     "name": "stdout",
     "output_type": "stream",
     "text": [
      "[(106, 'Shivansh', 26, 'IT', '90000'), (107, 'Vaibhav', 23, 'Finance', '85000'), (108, 'Himanshu', 26, 'IT', '90000'), (109, 'Raman', 25, 'Operations', '60000'), (110, 'Kunal', 26, 'Marketing', '50000'), (111, 'Adhira', 29, 'Human Resource', '75000'), (112, 'Tanya', 24, 'Marketing', '50000')]\n"
     ]
    }
   ],
   "source": [
    "print(cur.fetchall())"
   ]
  },
  {
   "cell_type": "code",
   "execution_count": 52,
   "id": "c70f7f98",
   "metadata": {},
   "outputs": [
    {
     "name": "stdout",
     "output_type": "stream",
     "text": [
      "[(2,)]\n"
     ]
    }
   ],
   "source": [
    "cur.execute('select count(*) from employee where department = \"IT\"')\n",
    "print(cur.fetchall())"
   ]
  }
 ],
 "metadata": {
  "kernelspec": {
   "display_name": "Python 3 (ipykernel)",
   "language": "python",
   "name": "python3"
  },
  "language_info": {
   "codemirror_mode": {
    "name": "ipython",
    "version": 3
   },
   "file_extension": ".py",
   "mimetype": "text/x-python",
   "name": "python",
   "nbconvert_exporter": "python",
   "pygments_lexer": "ipython3",
   "version": "3.9.13"
  }
 },
 "nbformat": 4,
 "nbformat_minor": 5
}
