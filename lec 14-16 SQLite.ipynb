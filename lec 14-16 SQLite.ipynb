{
 "cells": [
  {
   "cell_type": "code",
   "execution_count": 4,
   "id": "7752666a",
   "metadata": {},
   "outputs": [],
   "source": [
    "import sqlite3\n"
   ]
  },
  {
   "cell_type": "code",
   "execution_count": 3,
   "id": "f1e0cf5b",
   "metadata": {},
   "outputs": [
    {
     "data": {
      "text/plain": [
       "<sqlite3.Connection at 0x7fc490fde4e0>"
      ]
     },
     "execution_count": 3,
     "metadata": {},
     "output_type": "execute_result"
    }
   ],
   "source": [
    "db = sqlite3.connect('IMDB.sqlite')\n",
    "db"
   ]
  },
  {
   "cell_type": "code",
   "execution_count": 19,
   "id": "fdf4448a",
   "metadata": {},
   "outputs": [
    {
     "data": {
      "text/plain": [
       "<sqlite3.Connection at 0x7fc490fde210>"
      ]
     },
     "execution_count": 19,
     "metadata": {},
     "output_type": "execute_result"
    }
   ],
   "source": [
    "db = sqlite3.connect('room.sqlite')\n",
    "db"
   ]
  },
  {
   "cell_type": "code",
   "execution_count": 20,
   "id": "dcb4059a",
   "metadata": {},
   "outputs": [
    {
     "data": {
      "text/plain": [
       "<sqlite3.Cursor at 0x7fc468043ab0>"
      ]
     },
     "execution_count": 20,
     "metadata": {},
     "output_type": "execute_result"
    }
   ],
   "source": [
    "cur = db.cursor()\n",
    "cur"
   ]
  },
  {
   "cell_type": "code",
   "execution_count": 21,
   "id": "79f1f2b1",
   "metadata": {},
   "outputs": [
    {
     "data": {
      "text/plain": [
       "<sqlite3.Cursor at 0x7fc468043ab0>"
      ]
     },
     "execution_count": 21,
     "metadata": {},
     "output_type": "execute_result"
    }
   ],
   "source": [
    "sql_query = 'Create table room(rollnumber int primary key, name text, age int)'\n",
    "cur.execute(sql_query)"
   ]
  },
  {
   "cell_type": "code",
   "execution_count": 22,
   "id": "c4f4cd97",
   "metadata": {},
   "outputs": [
    {
     "data": {
      "text/plain": [
       "<sqlite3.Cursor at 0x7fc468043ab0>"
      ]
     },
     "execution_count": 22,
     "metadata": {},
     "output_type": "execute_result"
    }
   ],
   "source": [
    "cur.execute('Insert into room values(1012,\"siddhu\",24)')"
   ]
  },
  {
   "cell_type": "code",
   "execution_count": 23,
   "id": "a84293b5",
   "metadata": {},
   "outputs": [],
   "source": [
    "db.commit()"
   ]
  },
  {
   "cell_type": "code",
   "execution_count": 37,
   "id": "41076c67",
   "metadata": {},
   "outputs": [
    {
     "data": {
      "text/plain": [
       "<sqlite3.Connection at 0x7f782040e7b0>"
      ]
     },
     "execution_count": 37,
     "metadata": {},
     "output_type": "execute_result"
    }
   ],
   "source": [
    "db = sqlite3.connect('Employee.sqlite')\n",
    "db"
   ]
  },
  {
   "cell_type": "code",
   "execution_count": 38,
   "id": "67e849b3",
   "metadata": {},
   "outputs": [
    {
     "data": {
      "text/plain": [
       "<sqlite3.Cursor at 0x7f7831099c70>"
      ]
     },
     "execution_count": 38,
     "metadata": {},
     "output_type": "execute_result"
    }
   ],
   "source": [
    "cur = db.cursor()\n",
    "cur"
   ]
  },
  {
   "cell_type": "code",
   "execution_count": 29,
   "id": "2ebf46b2",
   "metadata": {},
   "outputs": [
    {
     "data": {
      "text/plain": [
       "<sqlite3.Cursor at 0x7fc468053030>"
      ]
     },
     "execution_count": 29,
     "metadata": {},
     "output_type": "execute_result"
    }
   ],
   "source": [
    "a = 'Create table employee(employeeid int primary key, name text , age int , department text, salary text)'\n",
    "cur.execute(a)"
   ]
  },
  {
   "cell_type": "code",
   "execution_count": 31,
   "id": "4c8d25fc",
   "metadata": {},
   "outputs": [
    {
     "data": {
      "text/plain": [
       "<sqlite3.Cursor at 0x7fc468053030>"
      ]
     },
     "execution_count": 31,
     "metadata": {},
     "output_type": "execute_result"
    }
   ],
   "source": [
    "b = 'Insert into employee values(100,\"Rishav\",25,\"Marketing\",50000), (101,\"abhishek\", 26, \"Operations\", 600000),(102,\"Aman\",24, \"Human Resource\", 75000)'\n",
    "cur.execute(b)"
   ]
  },
  {
   "cell_type": "code",
   "execution_count": 32,
   "id": "933cdea0",
   "metadata": {},
   "outputs": [],
   "source": [
    "db.commit()"
   ]
  },
  {
   "cell_type": "code",
   "execution_count": 7,
   "id": "f42e332b",
   "metadata": {},
   "outputs": [
    {
     "data": {
      "text/plain": [
       "<sqlite3.Cursor at 0x7f7880294180>"
      ]
     },
     "execution_count": 7,
     "metadata": {},
     "output_type": "execute_result"
    }
   ],
   "source": [
    "idd = 103\n",
    "name = \"siddhu\"\n",
    "ag   = 19\n",
    "dep = \"testing\"\n",
    "salary = 1000\n",
    "cur.execute('Insert into employee values(?,?,?,?,?)',(idd,name,ag,dep,salary))\n"
   ]
  },
  {
   "cell_type": "code",
   "execution_count": 9,
   "id": "c0eed53f",
   "metadata": {},
   "outputs": [],
   "source": [
    "db.commit()"
   ]
  },
  {
   "cell_type": "code",
   "execution_count": 10,
   "id": "72a0bfe8",
   "metadata": {},
   "outputs": [
    {
     "data": {
      "text/plain": [
       "<sqlite3.Cursor at 0x7f7880294180>"
      ]
     },
     "execution_count": 10,
     "metadata": {},
     "output_type": "execute_result"
    }
   ],
   "source": [
    "cur.execute('Update employee set salary = 1000000 where name = \"siddhu\"')"
   ]
  },
  {
   "cell_type": "code",
   "execution_count": 11,
   "id": "32dbf462",
   "metadata": {},
   "outputs": [],
   "source": [
    "db.commit()"
   ]
  },
  {
   "cell_type": "code",
   "execution_count": 13,
   "id": "3b6a0a34",
   "metadata": {},
   "outputs": [
    {
     "data": {
      "text/plain": [
       "<sqlite3.Cursor at 0x7f7820ff07a0>"
      ]
     },
     "execution_count": 13,
     "metadata": {},
     "output_type": "execute_result"
    }
   ],
   "source": [
    "db.execute('delete from employee where employeeid = 101')"
   ]
  },
  {
   "cell_type": "code",
   "execution_count": 14,
   "id": "44d1353e",
   "metadata": {},
   "outputs": [],
   "source": [
    "db.commit()"
   ]
  },
  {
   "cell_type": "code",
   "execution_count": 17,
   "id": "f1aa5fb1",
   "metadata": {},
   "outputs": [
    {
     "data": {
      "text/plain": [
       "<sqlite3.Cursor at 0x7f7820ff08f0>"
      ]
     },
     "execution_count": 17,
     "metadata": {},
     "output_type": "execute_result"
    }
   ],
   "source": [
    "emid = 102\n",
    "db.execute('delete from employee where employeeid = ?',(emid,))"
   ]
  },
  {
   "cell_type": "code",
   "execution_count": 18,
   "id": "fe343331",
   "metadata": {},
   "outputs": [],
   "source": [
    "db.commit()"
   ]
  },
  {
   "cell_type": "code",
   "execution_count": 20,
   "id": "adf9b999",
   "metadata": {},
   "outputs": [
    {
     "data": {
      "text/plain": [
       "<sqlite3.Cursor at 0x7f7820ff0b20>"
      ]
     },
     "execution_count": 20,
     "metadata": {},
     "output_type": "execute_result"
    }
   ],
   "source": [
    "db.execute('delete from employee where employeeid = 103')\n",
    "db.execute('delete from employee where employeeid = 104')"
   ]
  },
  {
   "cell_type": "code",
   "execution_count": 26,
   "id": "f490ab02",
   "metadata": {},
   "outputs": [
    {
     "data": {
      "text/plain": [
       "<sqlite3.Cursor at 0x7f78310991f0>"
      ]
     },
     "execution_count": 26,
     "metadata": {},
     "output_type": "execute_result"
    }
   ],
   "source": [
    "db.execute('delete from employee')"
   ]
  },
  {
   "cell_type": "code",
   "execution_count": 27,
   "id": "4ec77c2a",
   "metadata": {},
   "outputs": [],
   "source": [
    "db.commit()"
   ]
  },
  {
   "cell_type": "code",
   "execution_count": 28,
   "id": "b38e7b87",
   "metadata": {},
   "outputs": [
    {
     "name": "stdout",
     "output_type": "stream",
     "text": [
      "done\n"
     ]
    }
   ],
   "source": [
    "## Open and read data file as specified in the question\n",
    "## Print the required output in given format\n",
    "employee_id=[101,102,103,104,105,106,107,108,109,110,111,112]\n",
    "name=['Aadarsh','Aarti','Siddharth','Aman','Amit','Shivansh','Vaibhav','Himanshu','Raman','Kunal','Adhira','Tanya']\n",
    "age=[25,27,25,24,30,26,23,26,25,26,29,24]\n",
    "department=['Marketing','Operations','Finance','Human Resource','Marketing','IT','Finance','IT','Operations','Marketing','Human Resource','Marketing']\n",
    "salary=[50000,60000,85000,75000,50000,90000,85000,90000,60000,50000,75000,50000]\n",
    "for i in range(len(name))\n",
    "    db.execute('insert into employee values(?,?,?,?,?)',(employee_id[i],name[i],age[i],department[i],salary[i]))\n",
    "    db.commit()\n",
    "print('done')"
   ]
  },
  {
   "cell_type": "code",
   "execution_count": 34,
   "id": "717c5925",
   "metadata": {},
   "outputs": [],
   "source": [
    "db = sqlite3.connect('school.sqlite')\n",
    "cur = db.cursor()"
   ]
  },
  {
   "cell_type": "code",
   "execution_count": 39,
   "id": "66da8f15",
   "metadata": {},
   "outputs": [
    {
     "data": {
      "text/plain": [
       "<sqlite3.Cursor at 0x7f7831099c70>"
      ]
     },
     "execution_count": 39,
     "metadata": {},
     "output_type": "execute_result"
    }
   ],
   "source": [
    "cur.execute('Select * from employee')"
   ]
  },
  {
   "cell_type": "code",
   "execution_count": 40,
   "id": "e357071b",
   "metadata": {},
   "outputs": [
    {
     "name": "stdout",
     "output_type": "stream",
     "text": [
      "(101, 'Aadarsh', 25, 'Marketing', '50000')\n",
      "(102, 'Aarti', 27, 'Operations', '60000')\n",
      "(103, 'Siddharth', 25, 'Finance', '85000')\n",
      "(104, 'Aman', 24, 'Human Resource', '75000')\n",
      "(105, 'Amit', 30, 'Marketing', '50000')\n",
      "(106, 'Shivansh', 26, 'IT', '90000')\n",
      "(107, 'Vaibhav', 23, 'Finance', '85000')\n",
      "(108, 'Himanshu', 26, 'IT', '90000')\n",
      "(109, 'Raman', 25, 'Operations', '60000')\n",
      "(110, 'Kunal', 26, 'Marketing', '50000')\n",
      "(111, 'Adhira', 29, 'Human Resource', '75000')\n",
      "(112, 'Tanya', 24, 'Marketing', '50000')\n"
     ]
    }
   ],
   "source": [
    "for i in cur:\n",
    "    print(i)"
   ]
  },
  {
   "cell_type": "code",
   "execution_count": 41,
   "id": "3bce03ce",
   "metadata": {},
   "outputs": [
    {
     "name": "stdout",
     "output_type": "stream",
     "text": [
      "(101, 'Aadarsh', 25, 'Marketing', '50000')\n"
     ]
    }
   ],
   "source": [
    "cur.execute('select * from employee')\n",
    "print(cur.fetchone())"
   ]
  },
  {
   "cell_type": "code",
   "execution_count": 42,
   "id": "81d0ee40",
   "metadata": {},
   "outputs": [
    {
     "name": "stdout",
     "output_type": "stream",
     "text": [
      "[(102, 'Aarti', 27, 'Operations', '60000'), (103, 'Siddharth', 25, 'Finance', '85000'), (104, 'Aman', 24, 'Human Resource', '75000')]\n"
     ]
    }
   ],
   "source": [
    "print(cur.fetchmany(3))#default value is 1"
   ]
  },
  {
   "cell_type": "code",
   "execution_count": 43,
   "id": "8ce7537f",
   "metadata": {},
   "outputs": [
    {
     "name": "stdout",
     "output_type": "stream",
     "text": [
      "[(105, 'Amit', 30, 'Marketing', '50000'), (106, 'Shivansh', 26, 'IT', '90000'), (107, 'Vaibhav', 23, 'Finance', '85000'), (108, 'Himanshu', 26, 'IT', '90000'), (109, 'Raman', 25, 'Operations', '60000'), (110, 'Kunal', 26, 'Marketing', '50000'), (111, 'Adhira', 29, 'Human Resource', '75000'), (112, 'Tanya', 24, 'Marketing', '50000')]\n"
     ]
    }
   ],
   "source": [
    "print(cur.fetchall())"
   ]
  },
  {
   "cell_type": "code",
   "execution_count": 44,
   "id": "47c1d4e6",
   "metadata": {},
   "outputs": [
    {
     "data": {
      "text/plain": [
       "<sqlite3.Cursor at 0x7f7831099c70>"
      ]
     },
     "execution_count": 44,
     "metadata": {},
     "output_type": "execute_result"
    }
   ],
   "source": [
    "cur.execute('select * from employee where employeeid >105')"
   ]
  },
  {
   "cell_type": "code",
   "execution_count": 45,
   "id": "18a8a550",
   "metadata": {},
   "outputs": [
    {
     "name": "stdout",
     "output_type": "stream",
     "text": [
      "[(106, 'Shivansh', 26, 'IT', '90000'), (107, 'Vaibhav', 23, 'Finance', '85000'), (108, 'Himanshu', 26, 'IT', '90000'), (109, 'Raman', 25, 'Operations', '60000'), (110, 'Kunal', 26, 'Marketing', '50000'), (111, 'Adhira', 29, 'Human Resource', '75000'), (112, 'Tanya', 24, 'Marketing', '50000')]\n"
     ]
    }
   ],
   "source": [
    "print(cur.fetchall())"
   ]
  },
  {
   "cell_type": "code",
   "execution_count": 52,
   "id": "c70f7f98",
   "metadata": {},
   "outputs": [
    {
     "name": "stdout",
     "output_type": "stream",
     "text": [
      "[(2,)]\n"
     ]
    }
   ],
   "source": [
    "cur.execute('select count(*) from employee where department = \"IT\"')\n",
    "print(cur.fetchall())"
   ]
  },
  {
   "cell_type": "markdown",
   "id": "673df16d",
   "metadata": {},
   "source": [
    "# SQLite x PANDAS"
   ]
  },
  {
   "cell_type": "code",
   "execution_count": 3,
   "id": "aff43058",
   "metadata": {},
   "outputs": [],
   "source": [
    "import pandas as pd\n",
    "import sqlite3 as sql\n",
    "db = sql.connect('employee.sqlite')\n",
    "data = pd.read_sql_query(\"SELECT * FROM employee\",db)"
   ]
  },
  {
   "cell_type": "code",
   "execution_count": 11,
   "id": "7d3dbb07",
   "metadata": {},
   "outputs": [
    {
     "data": {
      "text/plain": [
       "2"
      ]
     },
     "execution_count": 11,
     "metadata": {},
     "output_type": "execute_result"
    }
   ],
   "source": [
    "data.to_sql(\"emplooyee\",db)"
   ]
  },
  {
   "cell_type": "code",
   "execution_count": 6,
   "id": "9db913ef",
   "metadata": {},
   "outputs": [
    {
     "data": {
      "text/html": [
       "<div>\n",
       "<style scoped>\n",
       "    .dataframe tbody tr th:only-of-type {\n",
       "        vertical-align: middle;\n",
       "    }\n",
       "\n",
       "    .dataframe tbody tr th {\n",
       "        vertical-align: top;\n",
       "    }\n",
       "\n",
       "    .dataframe thead th {\n",
       "        text-align: right;\n",
       "    }\n",
       "</style>\n",
       "<table border=\"1\" class=\"dataframe\">\n",
       "  <thead>\n",
       "    <tr style=\"text-align: right;\">\n",
       "      <th></th>\n",
       "      <th>employeeid</th>\n",
       "      <th>name</th>\n",
       "      <th>age</th>\n",
       "      <th>department</th>\n",
       "      <th>salary</th>\n",
       "    </tr>\n",
       "  </thead>\n",
       "  <tbody>\n",
       "    <tr>\n",
       "      <th>0</th>\n",
       "      <td>101</td>\n",
       "      <td>Aadarsh</td>\n",
       "      <td>25</td>\n",
       "      <td>Marketing</td>\n",
       "      <td>50000</td>\n",
       "    </tr>\n",
       "    <tr>\n",
       "      <th>2</th>\n",
       "      <td>103</td>\n",
       "      <td>Siddharth</td>\n",
       "      <td>25</td>\n",
       "      <td>Finance</td>\n",
       "      <td>85000</td>\n",
       "    </tr>\n",
       "    <tr>\n",
       "      <th>8</th>\n",
       "      <td>109</td>\n",
       "      <td>Raman</td>\n",
       "      <td>25</td>\n",
       "      <td>Operations</td>\n",
       "      <td>60000</td>\n",
       "    </tr>\n",
       "  </tbody>\n",
       "</table>\n",
       "</div>"
      ],
      "text/plain": [
       "   employeeid       name  age  department salary\n",
       "0         101    Aadarsh   25   Marketing  50000\n",
       "2         103  Siddharth   25     Finance  85000\n",
       "8         109      Raman   25  Operations  60000"
      ]
     },
     "execution_count": 6,
     "metadata": {},
     "output_type": "execute_result"
    }
   ],
   "source": [
    "data[data['age'] == 25]"
   ]
  },
  {
   "cell_type": "code",
   "execution_count": 9,
   "id": "35de8c07",
   "metadata": {},
   "outputs": [],
   "source": [
    "data = pd.DataFrame([[201,\"kunal\", 20, \"IT\",1000000],[202, \"srijan\", 20,\"IT\", 100000]])"
   ]
  },
  {
   "cell_type": "code",
   "execution_count": 12,
   "id": "40892bb4",
   "metadata": {},
   "outputs": [],
   "source": []
  },
  {
   "cell_type": "code",
   "execution_count": 17,
   "id": "dd58ff0f",
   "metadata": {},
   "outputs": [
    {
     "data": {
      "text/html": [
       "<div>\n",
       "<style scoped>\n",
       "    .dataframe tbody tr th:only-of-type {\n",
       "        vertical-align: middle;\n",
       "    }\n",
       "\n",
       "    .dataframe tbody tr th {\n",
       "        vertical-align: top;\n",
       "    }\n",
       "\n",
       "    .dataframe thead th {\n",
       "        text-align: right;\n",
       "    }\n",
       "</style>\n",
       "<table border=\"1\" class=\"dataframe\">\n",
       "  <thead>\n",
       "    <tr style=\"text-align: right;\">\n",
       "      <th></th>\n",
       "      <th>employeeid</th>\n",
       "      <th>name</th>\n",
       "      <th>age</th>\n",
       "      <th>department</th>\n",
       "      <th>salary</th>\n",
       "      <th>address</th>\n",
       "    </tr>\n",
       "  </thead>\n",
       "  <tbody>\n",
       "    <tr>\n",
       "      <th>0</th>\n",
       "      <td>101</td>\n",
       "      <td>Aadarsh</td>\n",
       "      <td>25</td>\n",
       "      <td>Marketing</td>\n",
       "      <td>50000</td>\n",
       "      <td>test</td>\n",
       "    </tr>\n",
       "    <tr>\n",
       "      <th>1</th>\n",
       "      <td>102</td>\n",
       "      <td>Aarti</td>\n",
       "      <td>27</td>\n",
       "      <td>Operations</td>\n",
       "      <td>60000</td>\n",
       "      <td>test</td>\n",
       "    </tr>\n",
       "    <tr>\n",
       "      <th>2</th>\n",
       "      <td>103</td>\n",
       "      <td>Siddharth</td>\n",
       "      <td>25</td>\n",
       "      <td>Finance</td>\n",
       "      <td>85000</td>\n",
       "      <td>test</td>\n",
       "    </tr>\n",
       "    <tr>\n",
       "      <th>3</th>\n",
       "      <td>104</td>\n",
       "      <td>Aman</td>\n",
       "      <td>24</td>\n",
       "      <td>Human Resource</td>\n",
       "      <td>75000</td>\n",
       "      <td>test</td>\n",
       "    </tr>\n",
       "    <tr>\n",
       "      <th>4</th>\n",
       "      <td>105</td>\n",
       "      <td>Amit</td>\n",
       "      <td>30</td>\n",
       "      <td>Marketing</td>\n",
       "      <td>50000</td>\n",
       "      <td>test</td>\n",
       "    </tr>\n",
       "    <tr>\n",
       "      <th>5</th>\n",
       "      <td>106</td>\n",
       "      <td>Shivansh</td>\n",
       "      <td>26</td>\n",
       "      <td>IT</td>\n",
       "      <td>90000</td>\n",
       "      <td>test</td>\n",
       "    </tr>\n",
       "    <tr>\n",
       "      <th>6</th>\n",
       "      <td>107</td>\n",
       "      <td>Vaibhav</td>\n",
       "      <td>23</td>\n",
       "      <td>Finance</td>\n",
       "      <td>85000</td>\n",
       "      <td>test</td>\n",
       "    </tr>\n",
       "    <tr>\n",
       "      <th>7</th>\n",
       "      <td>108</td>\n",
       "      <td>Himanshu</td>\n",
       "      <td>26</td>\n",
       "      <td>IT</td>\n",
       "      <td>90000</td>\n",
       "      <td>test</td>\n",
       "    </tr>\n",
       "    <tr>\n",
       "      <th>8</th>\n",
       "      <td>109</td>\n",
       "      <td>Raman</td>\n",
       "      <td>25</td>\n",
       "      <td>Operations</td>\n",
       "      <td>60000</td>\n",
       "      <td>test</td>\n",
       "    </tr>\n",
       "    <tr>\n",
       "      <th>9</th>\n",
       "      <td>110</td>\n",
       "      <td>Kunal</td>\n",
       "      <td>26</td>\n",
       "      <td>Marketing</td>\n",
       "      <td>50000</td>\n",
       "      <td>test</td>\n",
       "    </tr>\n",
       "    <tr>\n",
       "      <th>10</th>\n",
       "      <td>111</td>\n",
       "      <td>Adhira</td>\n",
       "      <td>29</td>\n",
       "      <td>Human Resource</td>\n",
       "      <td>75000</td>\n",
       "      <td>test</td>\n",
       "    </tr>\n",
       "    <tr>\n",
       "      <th>11</th>\n",
       "      <td>112</td>\n",
       "      <td>Tanya</td>\n",
       "      <td>24</td>\n",
       "      <td>Marketing</td>\n",
       "      <td>50000</td>\n",
       "      <td>test</td>\n",
       "    </tr>\n",
       "  </tbody>\n",
       "</table>\n",
       "</div>"
      ],
      "text/plain": [
       "    employeeid       name  age      department salary address\n",
       "0          101    Aadarsh   25       Marketing  50000    test\n",
       "1          102      Aarti   27      Operations  60000    test\n",
       "2          103  Siddharth   25         Finance  85000    test\n",
       "3          104       Aman   24  Human Resource  75000    test\n",
       "4          105       Amit   30       Marketing  50000    test\n",
       "5          106   Shivansh   26              IT  90000    test\n",
       "6          107    Vaibhav   23         Finance  85000    test\n",
       "7          108   Himanshu   26              IT  90000    test\n",
       "8          109      Raman   25      Operations  60000    test\n",
       "9          110      Kunal   26       Marketing  50000    test\n",
       "10         111     Adhira   29  Human Resource  75000    test\n",
       "11         112      Tanya   24       Marketing  50000    test"
      ]
     },
     "execution_count": 17,
     "metadata": {},
     "output_type": "execute_result"
    }
   ],
   "source": [
    "data = pd.read_sql_query(\"select * from employee\",db)\n",
    "data[\"address\"] = \"test\"\n",
    "data"
   ]
  },
  {
   "cell_type": "code",
   "execution_count": 27,
   "id": "21040679",
   "metadata": {},
   "outputs": [
    {
     "ename": "AttributeError",
     "evalue": "'sqlite3.Connection' object has no attribute 'to_sql'",
     "output_type": "error",
     "traceback": [
      "\u001b[0;31m---------------------------------------------------------------------------\u001b[0m",
      "\u001b[0;31mAttributeError\u001b[0m                            Traceback (most recent call last)",
      "\u001b[0;32m/var/folders/g0/4tjttlg17jn_d7b0wkct3ld00000gn/T/ipykernel_44952/2520978725.py\u001b[0m in \u001b[0;36m<module>\u001b[0;34m\u001b[0m\n\u001b[0;32m----> 1\u001b[0;31m \u001b[0mdb\u001b[0m\u001b[0;34m.\u001b[0m\u001b[0mto_sql\u001b[0m\u001b[0;34m(\u001b[0m\u001b[0;34m\"employee\"\u001b[0m\u001b[0;34m,\u001b[0m\u001b[0mdb\u001b[0m\u001b[0;34m)\u001b[0m\u001b[0;34m\u001b[0m\u001b[0;34m\u001b[0m\u001b[0m\n\u001b[0m",
      "\u001b[0;31mAttributeError\u001b[0m: 'sqlite3.Connection' object has no attribute 'to_sql'"
     ]
    }
   ],
   "source": [
    "db.to_sql(\"employee\",db)"
   ]
  },
  {
   "cell_type": "code",
   "execution_count": 2,
   "id": "5ecae2b2",
   "metadata": {},
   "outputs": [],
   "source": [
    "import sqlite3 as sql\n",
    "import pandas as pd\n",
    "db = sql.connect('resource/IMDB.sqlite')\n",
    "\n"
   ]
  },
  {
   "cell_type": "code",
   "execution_count": 28,
   "id": "9af6998c",
   "metadata": {},
   "outputs": [
    {
     "name": "stdout",
     "output_type": "stream",
     "text": [
      "46824\n"
     ]
    },
    {
     "data": {
      "text/plain": [
       "[('Inception\\xa0(2010)', 8.8)]"
      ]
     },
     "execution_count": 28,
     "metadata": {},
     "output_type": "execute_result"
    }
   ],
   "source": [
    "data = pd.read_sql_query(\"select * from IMDB\", db)\n",
    "curr = db.cursor()\n",
    "# print(data)\n",
    "maxi = data.TotalVotes.argmax()\n",
    "print(data.Movie_id[maxi])\n",
    "query = \"select Title, rating from IMDB where movie_id = 46824\"\n",
    "curr.execute(query)\n",
    "curr.fetchall()"
   ]
  },
  {
   "cell_type": "code",
   "execution_count": 26,
   "id": "4c736a67",
   "metadata": {},
   "outputs": [
    {
     "name": "stdout",
     "output_type": "stream",
     "text": [
      "38626\n"
     ]
    },
    {
     "data": {
      "text/plain": [
       "[(8.1,)]"
      ]
     },
     "execution_count": 26,
     "metadata": {},
     "output_type": "execute_result"
    }
   ],
   "source": [
    "import sqlite3 as sql\n",
    "import pandas as pd\n",
    "db = sql.connect('resource/IMDB.sqlite')\n",
    "curr = db.cursor()\n",
    "data = pd.read_sql_query(\"select * from earning\", db)\n",
    "data[\"earning\"] = data.Domestic+ data.Worldwide\n",
    "\n",
    "maxi = data.earning.argmax()\n",
    "idd = data.Movie_id[maxi]\n",
    "print(idd)\n",
    "query = \"select rating from IMDB where Movie_id = 38626\"\n",
    "\n",
    "curr.execute(query)\n",
    "curr.fetchall()"
   ]
  },
  {
   "cell_type": "code",
   "execution_count": 1,
   "id": "6c87f68c",
   "metadata": {},
   "outputs": [
    {
     "ename": "AttributeError",
     "evalue": "'Series' object has no attribute 'split'",
     "output_type": "error",
     "traceback": [
      "\u001b[0;31m---------------------------------------------------------------------------\u001b[0m",
      "\u001b[0;31mAttributeError\u001b[0m                            Traceback (most recent call last)",
      "\u001b[0;32m/var/folders/g0/4tjttlg17jn_d7b0wkct3ld00000gn/T/ipykernel_4127/3394581441.py\u001b[0m in \u001b[0;36m<module>\u001b[0;34m\u001b[0m\n\u001b[1;32m      8\u001b[0m         \u001b[0mi\u001b[0m \u001b[0;34m=\u001b[0m \u001b[0;34m\"0 min\"\u001b[0m\u001b[0;34m\u001b[0m\u001b[0;34m\u001b[0m\u001b[0m\n\u001b[1;32m      9\u001b[0m \u001b[0;31m#     print(type(i))\u001b[0m\u001b[0;34m\u001b[0m\u001b[0;34m\u001b[0m\u001b[0m\n\u001b[0;32m---> 10\u001b[0;31m \u001b[0mdata\u001b[0m\u001b[0;34m[\u001b[0m\u001b[0;34m\"length\"\u001b[0m\u001b[0;34m]\u001b[0m \u001b[0;34m=\u001b[0m \u001b[0mdata\u001b[0m\u001b[0;34m.\u001b[0m\u001b[0mRuntime\u001b[0m\u001b[0;34m.\u001b[0m\u001b[0msplit\u001b[0m\u001b[0;34m(\u001b[0m\u001b[0;34m)\u001b[0m\u001b[0;34m[\u001b[0m\u001b[0;36m0\u001b[0m\u001b[0;34m]\u001b[0m\u001b[0;34m\u001b[0m\u001b[0;34m\u001b[0m\u001b[0m\n\u001b[0m\u001b[1;32m     11\u001b[0m \u001b[0mdata\u001b[0m\u001b[0;34m.\u001b[0m\u001b[0mhead\u001b[0m\u001b[0;34m(\u001b[0m\u001b[0;36m10\u001b[0m\u001b[0;34m)\u001b[0m\u001b[0;34m\u001b[0m\u001b[0;34m\u001b[0m\u001b[0m\n",
      "\u001b[0;32m~/opt/anaconda3/lib/python3.9/site-packages/pandas/core/generic.py\u001b[0m in \u001b[0;36m__getattr__\u001b[0;34m(self, name)\u001b[0m\n\u001b[1;32m   5573\u001b[0m         ):\n\u001b[1;32m   5574\u001b[0m             \u001b[0;32mreturn\u001b[0m \u001b[0mself\u001b[0m\u001b[0;34m[\u001b[0m\u001b[0mname\u001b[0m\u001b[0;34m]\u001b[0m\u001b[0;34m\u001b[0m\u001b[0;34m\u001b[0m\u001b[0m\n\u001b[0;32m-> 5575\u001b[0;31m         \u001b[0;32mreturn\u001b[0m \u001b[0mobject\u001b[0m\u001b[0;34m.\u001b[0m\u001b[0m__getattribute__\u001b[0m\u001b[0;34m(\u001b[0m\u001b[0mself\u001b[0m\u001b[0;34m,\u001b[0m \u001b[0mname\u001b[0m\u001b[0;34m)\u001b[0m\u001b[0;34m\u001b[0m\u001b[0;34m\u001b[0m\u001b[0m\n\u001b[0m\u001b[1;32m   5576\u001b[0m \u001b[0;34m\u001b[0m\u001b[0m\n\u001b[1;32m   5577\u001b[0m     \u001b[0;32mdef\u001b[0m \u001b[0m__setattr__\u001b[0m\u001b[0;34m(\u001b[0m\u001b[0mself\u001b[0m\u001b[0;34m,\u001b[0m \u001b[0mname\u001b[0m\u001b[0;34m:\u001b[0m \u001b[0mstr\u001b[0m\u001b[0;34m,\u001b[0m \u001b[0mvalue\u001b[0m\u001b[0;34m)\u001b[0m \u001b[0;34m->\u001b[0m \u001b[0;32mNone\u001b[0m\u001b[0;34m:\u001b[0m\u001b[0;34m\u001b[0m\u001b[0;34m\u001b[0m\u001b[0m\n",
      "\u001b[0;31mAttributeError\u001b[0m: 'Series' object has no attribute 'split'"
     ]
    }
   ],
   "source": [
    "import sqlite3 as sql\n",
    "import pandas as pd\n",
    "db = sql.connect('resource/IMDB.sqlite')\n",
    "cur = db.cursor()\n",
    "data = pd.read_sql_query(\"select * from IMDB \", db)\n",
    "for i in data.Runtime:\n",
    "    if len(i) == 0 :\n",
    "        i = \"0 min\"\n",
    "#     print(type(i))\n",
    "data[\"length\"] = data.Runtime.split()[0]\n",
    "data.head(10)"
   ]
  },
  {
   "cell_type": "code",
   "execution_count": 4,
   "id": "3a1e9d92",
   "metadata": {},
   "outputs": [
    {
     "data": {
      "text/html": [
       "<div>\n",
       "<style scoped>\n",
       "    .dataframe tbody tr th:only-of-type {\n",
       "        vertical-align: middle;\n",
       "    }\n",
       "\n",
       "    .dataframe tbody tr th {\n",
       "        vertical-align: top;\n",
       "    }\n",
       "\n",
       "    .dataframe thead th {\n",
       "        text-align: right;\n",
       "    }\n",
       "</style>\n",
       "<table border=\"1\" class=\"dataframe\">\n",
       "  <thead>\n",
       "    <tr style=\"text-align: right;\">\n",
       "      <th></th>\n",
       "      <th>Movie_id</th>\n",
       "      <th>Title</th>\n",
       "      <th>Rating</th>\n",
       "      <th>TotalVotes</th>\n",
       "      <th>MetaCritic</th>\n",
       "      <th>Budget</th>\n",
       "      <th>Runtime</th>\n",
       "      <th>CVotes10</th>\n",
       "      <th>CVotes09</th>\n",
       "      <th>CVotes08</th>\n",
       "      <th>...</th>\n",
       "      <th>Votes3044</th>\n",
       "      <th>Votes3044M</th>\n",
       "      <th>Votes3044F</th>\n",
       "      <th>Votes45A</th>\n",
       "      <th>Votes45AM</th>\n",
       "      <th>Votes45AF</th>\n",
       "      <th>VotesIMDB</th>\n",
       "      <th>Votes1000</th>\n",
       "      <th>VotesUS</th>\n",
       "      <th>VotesnUS</th>\n",
       "    </tr>\n",
       "  </thead>\n",
       "  <tbody>\n",
       "    <tr>\n",
       "      <th>0</th>\n",
       "      <td>36809</td>\n",
       "      <td>12 Years a Slave (2013)</td>\n",
       "      <td>8.1</td>\n",
       "      <td>496092</td>\n",
       "      <td>96</td>\n",
       "      <td>20000000.0</td>\n",
       "      <td>134 min</td>\n",
       "      <td>75556</td>\n",
       "      <td>126223</td>\n",
       "      <td>161460</td>\n",
       "      <td>...</td>\n",
       "      <td>8.0</td>\n",
       "      <td>7.9</td>\n",
       "      <td>8.0</td>\n",
       "      <td>7.8</td>\n",
       "      <td>7.8</td>\n",
       "      <td>8.1</td>\n",
       "      <td>8.0</td>\n",
       "      <td>7.7</td>\n",
       "      <td>8.3</td>\n",
       "      <td>8.0</td>\n",
       "    </tr>\n",
       "    <tr>\n",
       "      <th>1</th>\n",
       "      <td>30114</td>\n",
       "      <td>127 Hours (2010)</td>\n",
       "      <td>7.6</td>\n",
       "      <td>297075</td>\n",
       "      <td>82</td>\n",
       "      <td>18000000.0</td>\n",
       "      <td>94 min</td>\n",
       "      <td>28939</td>\n",
       "      <td>44110</td>\n",
       "      <td>98845</td>\n",
       "      <td>...</td>\n",
       "      <td>7.5</td>\n",
       "      <td>7.5</td>\n",
       "      <td>7.5</td>\n",
       "      <td>7.3</td>\n",
       "      <td>7.3</td>\n",
       "      <td>7.5</td>\n",
       "      <td>7.6</td>\n",
       "      <td>7.0</td>\n",
       "      <td>7.7</td>\n",
       "      <td>7.6</td>\n",
       "    </tr>\n",
       "    <tr>\n",
       "      <th>2</th>\n",
       "      <td>37367</td>\n",
       "      <td>50/50 (2011)</td>\n",
       "      <td>7.7</td>\n",
       "      <td>283935</td>\n",
       "      <td>72</td>\n",
       "      <td>8000000.0</td>\n",
       "      <td>100 min</td>\n",
       "      <td>28304</td>\n",
       "      <td>47501</td>\n",
       "      <td>99524</td>\n",
       "      <td>...</td>\n",
       "      <td>7.6</td>\n",
       "      <td>7.6</td>\n",
       "      <td>7.6</td>\n",
       "      <td>7.4</td>\n",
       "      <td>7.4</td>\n",
       "      <td>7.5</td>\n",
       "      <td>7.4</td>\n",
       "      <td>7.0</td>\n",
       "      <td>7.9</td>\n",
       "      <td>7.6</td>\n",
       "    </tr>\n",
       "    <tr>\n",
       "      <th>3</th>\n",
       "      <td>49473</td>\n",
       "      <td>About Time (2013)</td>\n",
       "      <td>7.8</td>\n",
       "      <td>225412</td>\n",
       "      <td></td>\n",
       "      <td>12000000.0</td>\n",
       "      <td>123 min</td>\n",
       "      <td>38556</td>\n",
       "      <td>43170</td>\n",
       "      <td>70850</td>\n",
       "      <td>...</td>\n",
       "      <td>7.6</td>\n",
       "      <td>7.6</td>\n",
       "      <td>7.7</td>\n",
       "      <td>7.6</td>\n",
       "      <td>7.5</td>\n",
       "      <td>7.8</td>\n",
       "      <td>7.7</td>\n",
       "      <td>6.9</td>\n",
       "      <td>7.8</td>\n",
       "      <td>7.7</td>\n",
       "    </tr>\n",
       "    <tr>\n",
       "      <th>4</th>\n",
       "      <td>14867</td>\n",
       "      <td>Amour (2012)</td>\n",
       "      <td>7.9</td>\n",
       "      <td>76121</td>\n",
       "      <td>94</td>\n",
       "      <td>8900000.0</td>\n",
       "      <td>127 min</td>\n",
       "      <td>11093</td>\n",
       "      <td>15944</td>\n",
       "      <td>22942</td>\n",
       "      <td>...</td>\n",
       "      <td>7.7</td>\n",
       "      <td>7.7</td>\n",
       "      <td>7.9</td>\n",
       "      <td>7.9</td>\n",
       "      <td>7.8</td>\n",
       "      <td>8.1</td>\n",
       "      <td>6.6</td>\n",
       "      <td>7.2</td>\n",
       "      <td>7.9</td>\n",
       "      <td>7.8</td>\n",
       "    </tr>\n",
       "    <tr>\n",
       "      <th>...</th>\n",
       "      <td>...</td>\n",
       "      <td>...</td>\n",
       "      <td>...</td>\n",
       "      <td>...</td>\n",
       "      <td>...</td>\n",
       "      <td>...</td>\n",
       "      <td>...</td>\n",
       "      <td>...</td>\n",
       "      <td>...</td>\n",
       "      <td>...</td>\n",
       "      <td>...</td>\n",
       "      <td>...</td>\n",
       "      <td>...</td>\n",
       "      <td>...</td>\n",
       "      <td>...</td>\n",
       "      <td>...</td>\n",
       "      <td>...</td>\n",
       "      <td>...</td>\n",
       "      <td>...</td>\n",
       "      <td>...</td>\n",
       "      <td>...</td>\n",
       "    </tr>\n",
       "    <tr>\n",
       "      <th>112</th>\n",
       "      <td>38262</td>\n",
       "      <td>Whiplash (2014)</td>\n",
       "      <td>8.5</td>\n",
       "      <td>492285</td>\n",
       "      <td>88</td>\n",
       "      <td>3300000.0</td>\n",
       "      <td>107 min</td>\n",
       "      <td>110404</td>\n",
       "      <td>161864</td>\n",
       "      <td>132656</td>\n",
       "      <td>...</td>\n",
       "      <td>8.3</td>\n",
       "      <td>8.3</td>\n",
       "      <td>8.2</td>\n",
       "      <td>8.1</td>\n",
       "      <td>8.1</td>\n",
       "      <td>8.2</td>\n",
       "      <td>8.7</td>\n",
       "      <td>8.0</td>\n",
       "      <td>8.6</td>\n",
       "      <td>8.4</td>\n",
       "    </tr>\n",
       "    <tr>\n",
       "      <th>113</th>\n",
       "      <td>10023</td>\n",
       "      <td>Wreck-It Ralph (2012)</td>\n",
       "      <td>7.7</td>\n",
       "      <td>295125</td>\n",
       "      <td>72</td>\n",
       "      <td>165000000.0</td>\n",
       "      <td></td>\n",
       "      <td>41980</td>\n",
       "      <td>50262</td>\n",
       "      <td>96477</td>\n",
       "      <td>...</td>\n",
       "      <td>7.6</td>\n",
       "      <td>7.6</td>\n",
       "      <td>7.7</td>\n",
       "      <td>7.4</td>\n",
       "      <td>7.4</td>\n",
       "      <td>7.5</td>\n",
       "      <td>7.4</td>\n",
       "      <td>7.2</td>\n",
       "      <td>7.9</td>\n",
       "      <td>7.6</td>\n",
       "    </tr>\n",
       "    <tr>\n",
       "      <th>114</th>\n",
       "      <td>27783</td>\n",
       "      <td>X-Men: Days of Future Past (2014)</td>\n",
       "      <td>8.0</td>\n",
       "      <td>560736</td>\n",
       "      <td>74</td>\n",
       "      <td>200000000.0</td>\n",
       "      <td>132 min</td>\n",
       "      <td>91765</td>\n",
       "      <td>127521</td>\n",
       "      <td>183578</td>\n",
       "      <td>...</td>\n",
       "      <td>7.8</td>\n",
       "      <td>7.8</td>\n",
       "      <td>8.0</td>\n",
       "      <td>7.7</td>\n",
       "      <td>7.7</td>\n",
       "      <td>7.9</td>\n",
       "      <td>7.5</td>\n",
       "      <td>7.4</td>\n",
       "      <td>8.1</td>\n",
       "      <td>7.9</td>\n",
       "    </tr>\n",
       "    <tr>\n",
       "      <th>115</th>\n",
       "      <td>42294</td>\n",
       "      <td>X-Men: First Class (2011)</td>\n",
       "      <td>7.8</td>\n",
       "      <td>556713</td>\n",
       "      <td>65</td>\n",
       "      <td>160000000.0</td>\n",
       "      <td>132 min</td>\n",
       "      <td>64428</td>\n",
       "      <td>96219</td>\n",
       "      <td>200144</td>\n",
       "      <td>...</td>\n",
       "      <td>7.7</td>\n",
       "      <td>7.6</td>\n",
       "      <td>7.8</td>\n",
       "      <td>7.6</td>\n",
       "      <td>7.5</td>\n",
       "      <td>7.7</td>\n",
       "      <td>7.6</td>\n",
       "      <td>7.3</td>\n",
       "      <td>7.8</td>\n",
       "      <td>7.7</td>\n",
       "    </tr>\n",
       "    <tr>\n",
       "      <th>116</th>\n",
       "      <td>32217</td>\n",
       "      <td>Zootopia (2016)</td>\n",
       "      <td>8.1</td>\n",
       "      <td>309474</td>\n",
       "      <td>78</td>\n",
       "      <td>150000000.0</td>\n",
       "      <td>108 min</td>\n",
       "      <td>53626</td>\n",
       "      <td>70912</td>\n",
       "      <td>102352</td>\n",
       "      <td>...</td>\n",
       "      <td>7.8</td>\n",
       "      <td>7.8</td>\n",
       "      <td>8.1</td>\n",
       "      <td>7.8</td>\n",
       "      <td>7.8</td>\n",
       "      <td>8.1</td>\n",
       "      <td>7.7</td>\n",
       "      <td>7.6</td>\n",
       "      <td>8.0</td>\n",
       "      <td>8.0</td>\n",
       "    </tr>\n",
       "  </tbody>\n",
       "</table>\n",
       "<p>117 rows × 52 columns</p>\n",
       "</div>"
      ],
      "text/plain": [
       "    Movie_id                              Title  Rating  TotalVotes  \\\n",
       "0      36809            12 Years a Slave (2013)     8.1      496092   \n",
       "1      30114                   127 Hours (2010)     7.6      297075   \n",
       "2      37367                       50/50 (2011)     7.7      283935   \n",
       "3      49473                  About Time (2013)     7.8      225412   \n",
       "4      14867                       Amour (2012)     7.9       76121   \n",
       "..       ...                                ...     ...         ...   \n",
       "112    38262                    Whiplash (2014)     8.5      492285   \n",
       "113    10023              Wreck-It Ralph (2012)     7.7      295125   \n",
       "114    27783  X-Men: Days of Future Past (2014)     8.0      560736   \n",
       "115    42294          X-Men: First Class (2011)     7.8      556713   \n",
       "116    32217                    Zootopia (2016)     8.1      309474   \n",
       "\n",
       "    MetaCritic       Budget  Runtime CVotes10 CVotes09 CVotes08  ...  \\\n",
       "0           96   20000000.0  134 min    75556   126223   161460  ...   \n",
       "1           82   18000000.0   94 min    28939    44110    98845  ...   \n",
       "2           72    8000000.0  100 min    28304    47501    99524  ...   \n",
       "3                12000000.0  123 min    38556    43170    70850  ...   \n",
       "4           94    8900000.0  127 min    11093    15944    22942  ...   \n",
       "..         ...          ...      ...      ...      ...      ...  ...   \n",
       "112         88    3300000.0  107 min   110404   161864   132656  ...   \n",
       "113         72  165000000.0             41980    50262    96477  ...   \n",
       "114         74  200000000.0  132 min    91765   127521   183578  ...   \n",
       "115         65  160000000.0  132 min    64428    96219   200144  ...   \n",
       "116         78  150000000.0  108 min    53626    70912   102352  ...   \n",
       "\n",
       "    Votes3044 Votes3044M Votes3044F Votes45A Votes45AM Votes45AF VotesIMDB  \\\n",
       "0         8.0        7.9        8.0      7.8       7.8       8.1       8.0   \n",
       "1         7.5        7.5        7.5      7.3       7.3       7.5       7.6   \n",
       "2         7.6        7.6        7.6      7.4       7.4       7.5       7.4   \n",
       "3         7.6        7.6        7.7      7.6       7.5       7.8       7.7   \n",
       "4         7.7        7.7        7.9      7.9       7.8       8.1       6.6   \n",
       "..        ...        ...        ...      ...       ...       ...       ...   \n",
       "112       8.3        8.3        8.2      8.1       8.1       8.2       8.7   \n",
       "113       7.6        7.6        7.7      7.4       7.4       7.5       7.4   \n",
       "114       7.8        7.8        8.0      7.7       7.7       7.9       7.5   \n",
       "115       7.7        7.6        7.8      7.6       7.5       7.7       7.6   \n",
       "116       7.8        7.8        8.1      7.8       7.8       8.1       7.7   \n",
       "\n",
       "    Votes1000 VotesUS VotesnUS  \n",
       "0         7.7     8.3      8.0  \n",
       "1         7.0     7.7      7.6  \n",
       "2         7.0     7.9      7.6  \n",
       "3         6.9     7.8      7.7  \n",
       "4         7.2     7.9      7.8  \n",
       "..        ...     ...      ...  \n",
       "112       8.0     8.6      8.4  \n",
       "113       7.2     7.9      7.6  \n",
       "114       7.4     8.1      7.9  \n",
       "115       7.3     7.8      7.7  \n",
       "116       7.6     8.0      8.0  \n",
       "\n",
       "[117 rows x 52 columns]"
      ]
     },
     "execution_count": 4,
     "metadata": {},
     "output_type": "execute_result"
    }
   ],
   "source": [
    "import pandas as pd\n",
    "import sqlite3\n",
    "\n",
    "db = sqlite3.connect('resource/IMDB.sqlite')\n",
    "\n",
    "data = pd.read_sql_query('select * from IMDB',db)\n",
    "data"
   ]
  }
 ],
 "metadata": {
  "kernelspec": {
   "display_name": "Python 3 (ipykernel)",
   "language": "python",
   "name": "python3"
  },
  "language_info": {
   "codemirror_mode": {
    "name": "ipython",
    "version": 3
   },
   "file_extension": ".py",
   "mimetype": "text/x-python",
   "name": "python",
   "nbconvert_exporter": "python",
   "pygments_lexer": "ipython3",
   "version": "3.9.13"
  }
 },
 "nbformat": 4,
 "nbformat_minor": 5
}
