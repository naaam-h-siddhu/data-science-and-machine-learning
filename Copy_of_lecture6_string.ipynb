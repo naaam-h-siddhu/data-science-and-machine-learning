{
  "nbformat": 4,
  "nbformat_minor": 0,
  "metadata": {
    "colab": {
      "provenance": [],
      "authorship_tag": "ABX9TyP6zFRDdhp5eKTSLVdlxjlt",
      "include_colab_link": true
    },
    "kernelspec": {
      "name": "python3",
      "display_name": "Python 3"
    },
    "language_info": {
      "name": "python"
    }
  },
  "cells": [
    {
      "cell_type": "markdown",
      "metadata": {
        "id": "view-in-github",
        "colab_type": "text"
      },
      "source": [
        "<a href=\"https://colab.research.google.com/github/naaam-h-siddhu/data-science-and-machine-learning/blob/master/Copy_of_lecture6_string.ipynb\" target=\"_parent\"><img src=\"https://colab.research.google.com/assets/colab-badge.svg\" alt=\"Open In Colab\"/></a>"
      ]
    },
    {
      "cell_type": "code",
      "source": [
        "#@title Defining string\n",
        "s = \"siddhu\"\n",
        "s1 = 'siddhu'\n",
        "print(s,s1)"
      ],
      "metadata": {
        "id": "YBsA0Jgr4PQx",
        "colab": {
          "base_uri": "https://localhost:8080/"
        },
        "outputId": "667e82d0-137b-4e75-b77d-3003093cef39"
      },
      "execution_count": 13,
      "outputs": [
        {
          "output_type": "stream",
          "name": "stdout",
          "text": [
            "siddhu siddhu\n"
          ]
        }
      ]
    },
    {
      "cell_type": "code",
      "source": [
        "#@title Concatenate string\n",
        "a = \"abc\"\n",
        "b = \"def\"\n",
        "print(a+b)\n",
        "print(a*3)"
      ],
      "metadata": {
        "colab": {
          "base_uri": "https://localhost:8080/"
        },
        "id": "GJaFubUz5Dlu",
        "outputId": "06ed1363-6ce4-4f5e-b1b5-be464bb2cc7a"
      },
      "execution_count": 14,
      "outputs": [
        {
          "output_type": "stream",
          "name": "stdout",
          "text": [
            "abcdef\n",
            "abcabcabc\n"
          ]
        }
      ]
    },
    {
      "cell_type": "code",
      "source": [
        "#@title spliting string\n",
        "s = \"hey how are you\"\n",
        "print(s.split())\n",
        "#we can also split any part of string \n",
        "print(s.split(\"y\"))"
      ],
      "metadata": {
        "colab": {
          "base_uri": "https://localhost:8080/"
        },
        "id": "PFqsLTL65gKn",
        "outputId": "c0131ffe-3a21-4c2d-d859-2f06b8c886b3"
      },
      "execution_count": 15,
      "outputs": [
        {
          "output_type": "stream",
          "name": "stdout",
          "text": [
            "['hey', 'how', 'are', 'you']\n",
            "['he', ' how are ', 'ou']\n"
          ]
        }
      ]
    },
    {
      "cell_type": "code",
      "source": [
        "#@title slicing a string\n",
        "s = \"abcdefghi\"\n",
        "print(s[0:5])\n",
        "print(s[:9])\n",
        "print(s[:9:2])"
      ],
      "metadata": {
        "colab": {
          "base_uri": "https://localhost:8080/"
        },
        "id": "ODJwg77k521t",
        "outputId": "2c0fd21c-2028-44a9-9878-70983908fe6c"
      },
      "execution_count": 12,
      "outputs": [
        {
          "output_type": "stream",
          "name": "stdout",
          "text": [
            "abcde\n",
            "abcdefghi\n",
            "acegi\n"
          ]
        }
      ]
    },
    {
      "cell_type": "code",
      "source": [
        "#@title Itereating in string\n",
        "s = \"12345\"\n",
        "for i in s:\n",
        "  print(i,end=\" \")\n",
        "print()\n",
        "for i in range(len(s)):\n",
        "  print(s[i],end=' ')"
      ],
      "metadata": {
        "colab": {
          "base_uri": "https://localhost:8080/"
        },
        "id": "PtQInhZV96oD",
        "outputId": "fb069d0c-040b-4f4f-a86b-4bc4ffe61901"
      },
      "execution_count": 19,
      "outputs": [
        {
          "output_type": "stream",
          "name": "stdout",
          "text": [
            "1 2 3 4 5 \n",
            "1 2 3 4 5 "
          ]
        }
      ]
    },
    {
      "cell_type": "code",
      "source": [
        "#@title Replacing\n",
        "a = \"this is a string\"\n",
        "print(a.replace(\"is\",\"are\"))"
      ],
      "metadata": {
        "colab": {
          "base_uri": "https://localhost:8080/"
        },
        "id": "HALeWFL1-OQS",
        "outputId": "9f790ab0-facd-406a-d4ac-ac809a72b850"
      },
      "execution_count": 20,
      "outputs": [
        {
          "output_type": "stream",
          "name": "stdout",
          "text": [
            "thare are a string\n"
          ]
        }
      ]
    },
    {
      "cell_type": "code",
      "source": [
        "#@title Find\n",
        "print(a.find(\"ing\"))\n",
        "print(a.find(\"ign\"))"
      ],
      "metadata": {
        "colab": {
          "base_uri": "https://localhost:8080/"
        },
        "id": "16BVowVm_Brl",
        "outputId": "0d9f5914-37bb-4d62-fbd7-23fa1e954980"
      },
      "execution_count": 22,
      "outputs": [
        {
          "output_type": "stream",
          "name": "stdout",
          "text": [
            "13\n",
            "-1\n"
          ]
        }
      ]
    },
    {
      "cell_type": "code",
      "source": [
        "#@title lower\n",
        "b = \"SIDDHU\"\n",
        "print(b.lower())"
      ],
      "metadata": {
        "colab": {
          "base_uri": "https://localhost:8080/"
        },
        "id": "UP0b1zgc_N0C",
        "outputId": "5e5bea7b-49a4-4a2f-ac29-730d927e79c5"
      },
      "execution_count": 24,
      "outputs": [
        {
          "output_type": "stream",
          "name": "stdout",
          "text": [
            "siddhu\n"
          ]
        }
      ]
    },
    {
      "cell_type": "code",
      "source": [
        "#@title Upper\n",
        "b = \"siddhu\"\n",
        "print(b.upper())"
      ],
      "metadata": {
        "colab": {
          "base_uri": "https://localhost:8080/"
        },
        "id": "mBEfPrk2_W2k",
        "outputId": "4453de8f-f096-4b64-fc2c-1151790e40c6"
      },
      "execution_count": 25,
      "outputs": [
        {
          "output_type": "stream",
          "name": "stdout",
          "text": [
            "SIDDHU\n"
          ]
        }
      ]
    },
    {
      "cell_type": "code",
      "source": [
        "#@title islower\n",
        "b = \"siddHu\"\n",
        "print(b.islower())"
      ],
      "metadata": {
        "colab": {
          "base_uri": "https://localhost:8080/"
        },
        "id": "jba1cP6B_dZP",
        "outputId": "938f5271-e63a-4741-e8b3-9b4247b6762c"
      },
      "execution_count": 26,
      "outputs": [
        {
          "output_type": "stream",
          "name": "stdout",
          "text": [
            "False\n"
          ]
        }
      ]
    },
    {
      "cell_type": "code",
      "source": [
        "#@title isupper\n",
        "print(b.isupper())"
      ],
      "metadata": {
        "colab": {
          "base_uri": "https://localhost:8080/"
        },
        "id": "HyDm3kT8_nvA",
        "outputId": "391ebed9-d40c-4e42-b46f-d13e74d94f59"
      },
      "execution_count": 27,
      "outputs": [
        {
          "output_type": "stream",
          "name": "stdout",
          "text": [
            "False\n"
          ]
        }
      ]
    },
    {
      "cell_type": "code",
      "source": [
        "#@title isalpha\n",
        "#return weather the string consist only alphabets\n",
        "print(b.isalpha())\n"
      ],
      "metadata": {
        "colab": {
          "base_uri": "https://localhost:8080/"
        },
        "id": "vijrGe_y_1_l",
        "outputId": "8d6229b4-b0aa-46c0-ec17-708fb8305896"
      },
      "execution_count": 28,
      "outputs": [
        {
          "output_type": "stream",
          "name": "stdout",
          "text": [
            "True\n"
          ]
        }
      ]
    },
    {
      "cell_type": "code",
      "source": [
        "#@title startwith\n",
        "#return weather the string starts with the given string \n",
        "print(b.startswith(\"si\"))"
      ],
      "metadata": {
        "colab": {
          "base_uri": "https://localhost:8080/"
        },
        "id": "9KUYcW7tAAEa",
        "outputId": "785343eb-bc9e-4234-96e4-ce493bfc1d7e"
      },
      "execution_count": 29,
      "outputs": [
        {
          "output_type": "stream",
          "name": "stdout",
          "text": [
            "True\n"
          ]
        }
      ]
    }
  ]
}