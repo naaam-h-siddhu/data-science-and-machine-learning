{
 "cells": [
  {
   "cell_type": "code",
   "execution_count": 2,
   "id": "initial_id",
   "metadata": {
    "collapsed": true,
    "ExecuteTime": {
     "end_time": "2023-10-31T12:19:10.759351Z",
     "start_time": "2023-10-31T12:19:10.224034Z"
    }
   },
   "outputs": [],
   "source": [
    "import numpy as np\n"
   ]
  },
  {
   "cell_type": "code",
   "execution_count": 3,
   "outputs": [
    {
     "data": {
      "text/plain": "((4, 2), (4, 1))"
     },
     "execution_count": 3,
     "metadata": {},
     "output_type": "execute_result"
    }
   ],
   "source": [
    "X = np.array([[0,0],[0,1],[1,0],[1,1]])\n",
    "Y = np.array([[0,0,0,1]]).T\n",
    "X.shape,Y.shape"
   ],
   "metadata": {
    "collapsed": false,
    "ExecuteTime": {
     "end_time": "2023-10-31T12:19:10.808531Z",
     "start_time": "2023-10-31T12:19:10.796775Z"
    }
   },
   "id": "4813612b893c9449"
  },
  {
   "cell_type": "code",
   "execution_count": 4,
   "outputs": [],
   "source": [
    "def sig(z):\n",
    "    return 1/(1+np.exp(-z))"
   ],
   "metadata": {
    "collapsed": false,
    "ExecuteTime": {
     "end_time": "2023-10-31T12:19:10.808814Z",
     "start_time": "2023-10-31T12:19:10.803412Z"
    }
   },
   "id": "f6747fc50bf705e7"
  },
  {
   "cell_type": "code",
   "execution_count": 5,
   "outputs": [],
   "source": [
    "def derivateSig(z):\n",
    "    return sig(z)*(1-sig(z))"
   ],
   "metadata": {
    "collapsed": false,
    "ExecuteTime": {
     "end_time": "2023-10-31T12:19:10.838382Z",
     "start_time": "2023-10-31T12:19:10.808672Z"
    }
   },
   "id": "3f832634f2877569"
  },
  {
   "cell_type": "code",
   "execution_count": 9,
   "outputs": [
    {
     "data": {
      "text/plain": "(array([[-0.33119008],\n        [-0.5618903 ]]),\n array([0.13616106]))"
     },
     "execution_count": 9,
     "metadata": {},
     "output_type": "execute_result"
    }
   ],
   "source": [
    "#no hidden layer weights\n",
    "weights = 2*np.random.random((2,1))-1\n",
    "bias = 2*np.random.random(1)-1\n",
    "lr = 0.001\n",
    "weights,bias"
   ],
   "metadata": {
    "collapsed": false,
    "ExecuteTime": {
     "end_time": "2023-10-31T12:21:59.948540Z",
     "start_time": "2023-10-31T12:21:59.933923Z"
    }
   },
   "id": "25322c7903508d81"
  },
  {
   "cell_type": "code",
   "execution_count": 12,
   "outputs": [
    {
     "data": {
      "text/plain": "(array([[-0.24099171],\n        [-0.43896471]]),\n array([-0.19016824]),\n array([[0.4526007 ],\n        [0.34770716],\n        [0.39384938],\n        [0.29522836]]))"
     },
     "execution_count": 12,
     "metadata": {},
     "output_type": "execute_result"
    }
   ],
   "source": [
    "#forward propogation without any hidden layer\n",
    "for i in range(1000):\n",
    "    weights = weights - lr*changes\n",
    "    bias_change = 0.0\n",
    "    output0 = X\n",
    "    output = sig(np.dot(output0,weights) +bias)\n",
    "    \n",
    "    first_term = output-Y\n",
    "    input_for_last_layer = np.dot(output0,weights)+bias\n",
    "    second_term = derivateSig(input_for_last_layer)\n",
    "    first_two = first_term*second_term\n",
    "    first_two.shape\n",
    "    changes = np.array([[0.0],[0.0]])\n",
    "    for i in range(2):\n",
    "        for j in range(4):\n",
    "            changes[i][0] += first_two[j][0] * output0[j][i]\n",
    "    for j in range(4):\n",
    "        bias_change += first_two[j][0]*1\n",
    "    bias = bias - lr * bias_change\n",
    "    output = sig(np.dot(X, weights) + bias)\n",
    "weights,bias, output"
   ],
   "metadata": {
    "collapsed": false,
    "ExecuteTime": {
     "end_time": "2023-10-31T12:25:01.110988Z",
     "start_time": "2023-10-31T12:25:01.070663Z"
    }
   },
   "id": "39cbd7b7b776cdff"
  },
  {
   "cell_type": "raw",
   "source": [],
   "metadata": {
    "collapsed": false
   },
   "id": "99d0d719215de624"
  },
  {
   "cell_type": "code",
   "execution_count": 7,
   "outputs": [],
   "source": [],
   "metadata": {
    "collapsed": false,
    "ExecuteTime": {
     "end_time": "2023-10-31T12:19:10.839351Z",
     "start_time": "2023-10-31T12:19:10.821887Z"
    }
   },
   "id": "63b456174ae6a3b8"
  }
 ],
 "metadata": {
  "kernelspec": {
   "display_name": "Python 3",
   "language": "python",
   "name": "python3"
  },
  "language_info": {
   "codemirror_mode": {
    "name": "ipython",
    "version": 2
   },
   "file_extension": ".py",
   "mimetype": "text/x-python",
   "name": "python",
   "nbconvert_exporter": "python",
   "pygments_lexer": "ipython2",
   "version": "2.7.6"
  }
 },
 "nbformat": 4,
 "nbformat_minor": 5
}
