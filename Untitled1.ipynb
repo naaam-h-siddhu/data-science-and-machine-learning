{
 "cells": [
  {
   "cell_type": "code",
   "execution_count": null,
   "outputs": [],
   "source": [
    "import pandas as pd\n"
   ],
   "metadata": {
    "collapsed": false
   },
   "id": "77f3a0b40a018a15"
  },
  {
   "cell_type": "code",
   "execution_count": 5,
   "outputs": [
    {
     "data": {
      "text/plain": "   Unnamed: 0                                       Title            location  \\\n0           0                Software Development Manager    US, WA, Seattle    \n1           1               Software Development Engineer  IN, KA, Bangalore    \n2           2               Software Development Engineer  IN, KA, Bangalore    \n3           3  Software Development Engineer - Amazon Lex    US, WA, Seattle    \n4           4  Software Development Engineer - Amazon Lex    US, WA, Seattle    \n\n     Posting_date                                        DESCRIPTION  \\\n0  March  1, 2018  You are an experienced hands-on manager with a...   \n1  March  1, 2018  Amazon is driven by being “the world’s most cu...   \n2  March  1, 2018  Amazon is driven by being “the world’s most cu...   \n3  March  1, 2018  Have you ever wondered what it takes to build ...   \n4  March  1, 2018  Have you ever wondered what it takes to build ...   \n\n                                BASIC QUALIFICATIONS  \\\n0  · Proven track record of hiring and managing h...   \n1  · Bachelor’s Degree in Computer Science or rel...   \n2  · Bachelor’s Degree in Computer Science or rel...   \n3  · Bachelors Degree in Computer Science or a re...   \n4  · Bachelors Degree in Computer Science or a re...   \n\n                            PREFERRED QUALIFICATIONS  \n0  · Experience building extremely high volume an...  \n1  · Experience building complex software systems...  \n2  · Experience building complex software systems...  \n3  · Masters or PhD in Computer Science· Experien...  \n4  · Masters or PhD in Computer Science· Experien...  ",
      "text/html": "<div>\n<style scoped>\n    .dataframe tbody tr th:only-of-type {\n        vertical-align: middle;\n    }\n\n    .dataframe tbody tr th {\n        vertical-align: top;\n    }\n\n    .dataframe thead th {\n        text-align: right;\n    }\n</style>\n<table border=\"1\" class=\"dataframe\">\n  <thead>\n    <tr style=\"text-align: right;\">\n      <th></th>\n      <th>Unnamed: 0</th>\n      <th>Title</th>\n      <th>location</th>\n      <th>Posting_date</th>\n      <th>DESCRIPTION</th>\n      <th>BASIC QUALIFICATIONS</th>\n      <th>PREFERRED QUALIFICATIONS</th>\n    </tr>\n  </thead>\n  <tbody>\n    <tr>\n      <th>0</th>\n      <td>0</td>\n      <td>Software Development Manager</td>\n      <td>US, WA, Seattle</td>\n      <td>March  1, 2018</td>\n      <td>You are an experienced hands-on manager with a...</td>\n      <td>· Proven track record of hiring and managing h...</td>\n      <td>· Experience building extremely high volume an...</td>\n    </tr>\n    <tr>\n      <th>1</th>\n      <td>1</td>\n      <td>Software Development Engineer</td>\n      <td>IN, KA, Bangalore</td>\n      <td>March  1, 2018</td>\n      <td>Amazon is driven by being “the world’s most cu...</td>\n      <td>· Bachelor’s Degree in Computer Science or rel...</td>\n      <td>· Experience building complex software systems...</td>\n    </tr>\n    <tr>\n      <th>2</th>\n      <td>2</td>\n      <td>Software Development Engineer</td>\n      <td>IN, KA, Bangalore</td>\n      <td>March  1, 2018</td>\n      <td>Amazon is driven by being “the world’s most cu...</td>\n      <td>· Bachelor’s Degree in Computer Science or rel...</td>\n      <td>· Experience building complex software systems...</td>\n    </tr>\n    <tr>\n      <th>3</th>\n      <td>3</td>\n      <td>Software Development Engineer - Amazon Lex</td>\n      <td>US, WA, Seattle</td>\n      <td>March  1, 2018</td>\n      <td>Have you ever wondered what it takes to build ...</td>\n      <td>· Bachelors Degree in Computer Science or a re...</td>\n      <td>· Masters or PhD in Computer Science· Experien...</td>\n    </tr>\n    <tr>\n      <th>4</th>\n      <td>4</td>\n      <td>Software Development Engineer - Amazon Lex</td>\n      <td>US, WA, Seattle</td>\n      <td>March  1, 2018</td>\n      <td>Have you ever wondered what it takes to build ...</td>\n      <td>· Bachelors Degree in Computer Science or a re...</td>\n      <td>· Masters or PhD in Computer Science· Experien...</td>\n    </tr>\n  </tbody>\n</table>\n</div>"
     },
     "execution_count": 5,
     "metadata": {},
     "output_type": "execute_result"
    }
   ],
   "source": [
    "data  = pd.read_csv(\"resource/amazon_jobs_dataset.csv\")\n",
    "data.head()"
   ],
   "metadata": {
    "collapsed": false,
    "ExecuteTime": {
     "end_time": "2023-08-09T10:53:41.149024Z",
     "start_time": "2023-08-09T10:53:41.073359Z"
    }
   },
   "id": "dae55a0ce639f26"
  },
  {
   "cell_type": "code",
   "execution_count": 25,
   "outputs": [
    {
     "data": {
      "text/plain": "\"· Proven track record of hiring and managing high performing engineering teams· Breadth and depth of experience building and managing software systems and teams· · Excellent written and verbal communication skills with the ability to present complex technical information in a clear and concise manner to executives and non-technical leaders· · Willingness to roll up your sleeves and do what's necessary to drive your projects to completion· · 6+ years of experience in Software development and 4+ years as a Development Manager· · Strong technical credentials, with expertise in OOP, Java or C++· · Experience with Linux/Unix systems· · Experience with SQL and No SQL data stores· · Bachelor's Degree in Computer Science or related degree\""
     },
     "execution_count": 25,
     "metadata": {},
     "output_type": "execute_result"
    }
   ],
   "source": [
    "data['BASIC QUALIFICATIONS'][0]"
   ],
   "metadata": {
    "collapsed": false,
    "ExecuteTime": {
     "end_time": "2023-08-09T11:09:15.595178Z",
     "start_time": "2023-08-09T11:09:15.575654Z"
    }
   },
   "id": "6896784da7bb4518"
  },
  {
   "cell_type": "code",
   "execution_count": 30,
   "outputs": [],
   "source": [
    "count = 0\n",
    "words = ['Computer Vision', 'computer vision', 'computer Vision','Computer vision']\n",
    "for i in range(len(data)):\n",
    "    if isinstance(data['BASIC QUALIFICATIONS'][i], float) :\n",
    "        continue\n",
    "    flag = False\n",
    "    for word in words:\n",
    "        if word in data['BASIC QUALIFICATIONS'][i]:\n",
    "            flag = True\n",
    "            break\n",
    "    if flag:\n",
    "        count+=1"
   ],
   "metadata": {
    "collapsed": false,
    "ExecuteTime": {
     "end_time": "2023-08-09T11:13:01.761064Z",
     "start_time": "2023-08-09T11:13:01.680732Z"
    }
   },
   "id": "e46085fd93d096ed"
  },
  {
   "cell_type": "code",
   "execution_count": 31,
   "outputs": [
    {
     "data": {
      "text/plain": "19"
     },
     "execution_count": 31,
     "metadata": {},
     "output_type": "execute_result"
    }
   ],
   "source": [
    "count"
   ],
   "metadata": {
    "collapsed": false,
    "ExecuteTime": {
     "end_time": "2023-08-09T11:13:07.508312Z",
     "start_time": "2023-08-09T11:13:07.496451Z"
    }
   },
   "id": "c3d26a69993221d7"
  },
  {
   "cell_type": "code",
   "execution_count": null,
   "outputs": [],
   "source": [],
   "metadata": {
    "collapsed": false
   },
   "id": "6652e913ad98b5ce"
  }
 ],
 "metadata": {
  "kernelspec": {
   "name": "python3",
   "language": "python",
   "display_name": "Python 3 (ipykernel)"
  }
 },
 "nbformat": 4,
 "nbformat_minor": 5
}
